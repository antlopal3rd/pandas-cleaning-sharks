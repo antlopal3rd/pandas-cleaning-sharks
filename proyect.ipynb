{
 "cells": [
  {
   "cell_type": "code",
   "execution_count": 1,
   "id": "c74e66ab",
   "metadata": {},
   "outputs": [],
   "source": [
    "import pandas as pd\n",
    "import numpy as np\n",
    "import warnings\n",
    "warnings.filterwarnings(\"ignore\")"
   ]
  },
  {
   "cell_type": "code",
   "execution_count": 2,
   "id": "100efa8a",
   "metadata": {},
   "outputs": [],
   "source": [
    "data = pd.read_csv(\"data/attacks.csv\",encoding = \"latin1\")"
   ]
  },
  {
   "cell_type": "code",
   "execution_count": 3,
   "id": "37481dfe",
   "metadata": {},
   "outputs": [
    {
     "data": {
      "text/plain": [
       "(25723, 24)"
      ]
     },
     "execution_count": 3,
     "metadata": {},
     "output_type": "execute_result"
    }
   ],
   "source": [
    "data.shape"
   ]
  },
  {
   "cell_type": "code",
   "execution_count": 4,
   "id": "376f787c",
   "metadata": {},
   "outputs": [
    {
     "data": {
      "text/html": [
       "<div>\n",
       "<style scoped>\n",
       "    .dataframe tbody tr th:only-of-type {\n",
       "        vertical-align: middle;\n",
       "    }\n",
       "\n",
       "    .dataframe tbody tr th {\n",
       "        vertical-align: top;\n",
       "    }\n",
       "\n",
       "    .dataframe thead th {\n",
       "        text-align: right;\n",
       "    }\n",
       "</style>\n",
       "<table border=\"1\" class=\"dataframe\">\n",
       "  <thead>\n",
       "    <tr style=\"text-align: right;\">\n",
       "      <th></th>\n",
       "      <th>Case Number</th>\n",
       "      <th>Date</th>\n",
       "      <th>Year</th>\n",
       "      <th>Type</th>\n",
       "      <th>Country</th>\n",
       "      <th>Area</th>\n",
       "      <th>Location</th>\n",
       "      <th>Activity</th>\n",
       "      <th>Name</th>\n",
       "      <th>Sex</th>\n",
       "      <th>...</th>\n",
       "      <th>Species</th>\n",
       "      <th>Investigator or Source</th>\n",
       "      <th>pdf</th>\n",
       "      <th>href formula</th>\n",
       "      <th>href</th>\n",
       "      <th>Case Number.1</th>\n",
       "      <th>Case Number.2</th>\n",
       "      <th>original order</th>\n",
       "      <th>Unnamed: 22</th>\n",
       "      <th>Unnamed: 23</th>\n",
       "    </tr>\n",
       "  </thead>\n",
       "  <tbody>\n",
       "    <tr>\n",
       "      <th>0</th>\n",
       "      <td>2018.06.25</td>\n",
       "      <td>25-Jun-2018</td>\n",
       "      <td>2018.0</td>\n",
       "      <td>Boating</td>\n",
       "      <td>USA</td>\n",
       "      <td>California</td>\n",
       "      <td>Oceanside, San Diego County</td>\n",
       "      <td>Paddling</td>\n",
       "      <td>Julie Wolfe</td>\n",
       "      <td>F</td>\n",
       "      <td>...</td>\n",
       "      <td>White shark</td>\n",
       "      <td>R. Collier, GSAF</td>\n",
       "      <td>2018.06.25-Wolfe.pdf</td>\n",
       "      <td>http://sharkattackfile.net/spreadsheets/pdf_di...</td>\n",
       "      <td>http://sharkattackfile.net/spreadsheets/pdf_di...</td>\n",
       "      <td>2018.06.25</td>\n",
       "      <td>2018.06.25</td>\n",
       "      <td>6303.0</td>\n",
       "      <td>NaN</td>\n",
       "      <td>NaN</td>\n",
       "    </tr>\n",
       "    <tr>\n",
       "      <th>1</th>\n",
       "      <td>2018.06.18</td>\n",
       "      <td>18-Jun-2018</td>\n",
       "      <td>2018.0</td>\n",
       "      <td>Unprovoked</td>\n",
       "      <td>USA</td>\n",
       "      <td>Georgia</td>\n",
       "      <td>St. Simon Island, Glynn County</td>\n",
       "      <td>Standing</td>\n",
       "      <td>Adyson McNeely</td>\n",
       "      <td>F</td>\n",
       "      <td>...</td>\n",
       "      <td>NaN</td>\n",
       "      <td>K.McMurray, TrackingSharks.com</td>\n",
       "      <td>2018.06.18-McNeely.pdf</td>\n",
       "      <td>http://sharkattackfile.net/spreadsheets/pdf_di...</td>\n",
       "      <td>http://sharkattackfile.net/spreadsheets/pdf_di...</td>\n",
       "      <td>2018.06.18</td>\n",
       "      <td>2018.06.18</td>\n",
       "      <td>6302.0</td>\n",
       "      <td>NaN</td>\n",
       "      <td>NaN</td>\n",
       "    </tr>\n",
       "    <tr>\n",
       "      <th>2</th>\n",
       "      <td>2018.06.09</td>\n",
       "      <td>09-Jun-2018</td>\n",
       "      <td>2018.0</td>\n",
       "      <td>Invalid</td>\n",
       "      <td>USA</td>\n",
       "      <td>Hawaii</td>\n",
       "      <td>Habush, Oahu</td>\n",
       "      <td>Surfing</td>\n",
       "      <td>John Denges</td>\n",
       "      <td>M</td>\n",
       "      <td>...</td>\n",
       "      <td>NaN</td>\n",
       "      <td>K.McMurray, TrackingSharks.com</td>\n",
       "      <td>2018.06.09-Denges.pdf</td>\n",
       "      <td>http://sharkattackfile.net/spreadsheets/pdf_di...</td>\n",
       "      <td>http://sharkattackfile.net/spreadsheets/pdf_di...</td>\n",
       "      <td>2018.06.09</td>\n",
       "      <td>2018.06.09</td>\n",
       "      <td>6301.0</td>\n",
       "      <td>NaN</td>\n",
       "      <td>NaN</td>\n",
       "    </tr>\n",
       "    <tr>\n",
       "      <th>3</th>\n",
       "      <td>2018.06.08</td>\n",
       "      <td>08-Jun-2018</td>\n",
       "      <td>2018.0</td>\n",
       "      <td>Unprovoked</td>\n",
       "      <td>AUSTRALIA</td>\n",
       "      <td>New South Wales</td>\n",
       "      <td>Arrawarra Headland</td>\n",
       "      <td>Surfing</td>\n",
       "      <td>male</td>\n",
       "      <td>M</td>\n",
       "      <td>...</td>\n",
       "      <td>2 m shark</td>\n",
       "      <td>B. Myatt, GSAF</td>\n",
       "      <td>2018.06.08-Arrawarra.pdf</td>\n",
       "      <td>http://sharkattackfile.net/spreadsheets/pdf_di...</td>\n",
       "      <td>http://sharkattackfile.net/spreadsheets/pdf_di...</td>\n",
       "      <td>2018.06.08</td>\n",
       "      <td>2018.06.08</td>\n",
       "      <td>6300.0</td>\n",
       "      <td>NaN</td>\n",
       "      <td>NaN</td>\n",
       "    </tr>\n",
       "    <tr>\n",
       "      <th>4</th>\n",
       "      <td>2018.06.04</td>\n",
       "      <td>04-Jun-2018</td>\n",
       "      <td>2018.0</td>\n",
       "      <td>Provoked</td>\n",
       "      <td>MEXICO</td>\n",
       "      <td>Colima</td>\n",
       "      <td>La Ticla</td>\n",
       "      <td>Free diving</td>\n",
       "      <td>Gustavo Ramos</td>\n",
       "      <td>M</td>\n",
       "      <td>...</td>\n",
       "      <td>Tiger shark, 3m</td>\n",
       "      <td>A .Kipper</td>\n",
       "      <td>2018.06.04-Ramos.pdf</td>\n",
       "      <td>http://sharkattackfile.net/spreadsheets/pdf_di...</td>\n",
       "      <td>http://sharkattackfile.net/spreadsheets/pdf_di...</td>\n",
       "      <td>2018.06.04</td>\n",
       "      <td>2018.06.04</td>\n",
       "      <td>6299.0</td>\n",
       "      <td>NaN</td>\n",
       "      <td>NaN</td>\n",
       "    </tr>\n",
       "  </tbody>\n",
       "</table>\n",
       "<p>5 rows × 24 columns</p>\n",
       "</div>"
      ],
      "text/plain": [
       "  Case Number         Date    Year        Type    Country             Area  \\\n",
       "0  2018.06.25  25-Jun-2018  2018.0     Boating        USA       California   \n",
       "1  2018.06.18  18-Jun-2018  2018.0  Unprovoked        USA          Georgia   \n",
       "2  2018.06.09  09-Jun-2018  2018.0     Invalid        USA           Hawaii   \n",
       "3  2018.06.08  08-Jun-2018  2018.0  Unprovoked  AUSTRALIA  New South Wales   \n",
       "4  2018.06.04  04-Jun-2018  2018.0    Provoked     MEXICO           Colima   \n",
       "\n",
       "                         Location     Activity             Name Sex   ...  \\\n",
       "0     Oceanside, San Diego County     Paddling      Julie Wolfe    F  ...   \n",
       "1  St. Simon Island, Glynn County     Standing  Adyson McNeely     F  ...   \n",
       "2                    Habush, Oahu      Surfing      John Denges    M  ...   \n",
       "3              Arrawarra Headland      Surfing             male    M  ...   \n",
       "4                        La Ticla  Free diving   Gustavo Ramos     M  ...   \n",
       "\n",
       "          Species           Investigator or Source                       pdf  \\\n",
       "0      White shark                R. Collier, GSAF      2018.06.25-Wolfe.pdf   \n",
       "1              NaN  K.McMurray, TrackingSharks.com    2018.06.18-McNeely.pdf   \n",
       "2              NaN  K.McMurray, TrackingSharks.com     2018.06.09-Denges.pdf   \n",
       "3        2 m shark                  B. Myatt, GSAF  2018.06.08-Arrawarra.pdf   \n",
       "4  Tiger shark, 3m                       A .Kipper      2018.06.04-Ramos.pdf   \n",
       "\n",
       "                                        href formula  \\\n",
       "0  http://sharkattackfile.net/spreadsheets/pdf_di...   \n",
       "1  http://sharkattackfile.net/spreadsheets/pdf_di...   \n",
       "2  http://sharkattackfile.net/spreadsheets/pdf_di...   \n",
       "3  http://sharkattackfile.net/spreadsheets/pdf_di...   \n",
       "4  http://sharkattackfile.net/spreadsheets/pdf_di...   \n",
       "\n",
       "                                                href Case Number.1  \\\n",
       "0  http://sharkattackfile.net/spreadsheets/pdf_di...    2018.06.25   \n",
       "1  http://sharkattackfile.net/spreadsheets/pdf_di...    2018.06.18   \n",
       "2  http://sharkattackfile.net/spreadsheets/pdf_di...    2018.06.09   \n",
       "3  http://sharkattackfile.net/spreadsheets/pdf_di...    2018.06.08   \n",
       "4  http://sharkattackfile.net/spreadsheets/pdf_di...    2018.06.04   \n",
       "\n",
       "  Case Number.2 original order Unnamed: 22 Unnamed: 23  \n",
       "0    2018.06.25         6303.0         NaN         NaN  \n",
       "1    2018.06.18         6302.0         NaN         NaN  \n",
       "2    2018.06.09         6301.0         NaN         NaN  \n",
       "3    2018.06.08         6300.0         NaN         NaN  \n",
       "4    2018.06.04         6299.0         NaN         NaN  \n",
       "\n",
       "[5 rows x 24 columns]"
      ]
     },
     "execution_count": 4,
     "metadata": {},
     "output_type": "execute_result"
    }
   ],
   "source": [
    "data.head()"
   ]
  },
  {
   "cell_type": "code",
   "execution_count": 5,
   "id": "d0ec5daa",
   "metadata": {},
   "outputs": [
    {
     "data": {
      "text/plain": [
       "Index(['Case Number', 'Date', 'Year', 'Type', 'Country', 'Area', 'Location',\n",
       "       'Activity', 'Name', 'Sex ', 'Age', 'Injury', 'Fatal (Y/N)', 'Time',\n",
       "       'Species ', 'Investigator or Source', 'pdf', 'href formula', 'href',\n",
       "       'Case Number.1', 'Case Number.2', 'original order', 'Unnamed: 22',\n",
       "       'Unnamed: 23'],\n",
       "      dtype='object')"
      ]
     },
     "execution_count": 5,
     "metadata": {},
     "output_type": "execute_result"
    }
   ],
   "source": [
    "data.columns"
   ]
  },
  {
   "cell_type": "code",
   "execution_count": 6,
   "id": "248c84ce",
   "metadata": {},
   "outputs": [
    {
     "name": "stdout",
     "output_type": "stream",
     "text": [
      "<class 'pandas.core.frame.DataFrame'>\n",
      "RangeIndex: 25723 entries, 0 to 25722\n",
      "Data columns (total 24 columns):\n",
      " #   Column                  Non-Null Count  Dtype  \n",
      "---  ------                  --------------  -----  \n",
      " 0   Case Number             8702 non-null   object \n",
      " 1   Date                    6302 non-null   object \n",
      " 2   Year                    6300 non-null   float64\n",
      " 3   Type                    6298 non-null   object \n",
      " 4   Country                 6252 non-null   object \n",
      " 5   Area                    5847 non-null   object \n",
      " 6   Location                5762 non-null   object \n",
      " 7   Activity                5758 non-null   object \n",
      " 8   Name                    6092 non-null   object \n",
      " 9   Sex                     5737 non-null   object \n",
      " 10  Age                     3471 non-null   object \n",
      " 11  Injury                  6274 non-null   object \n",
      " 12  Fatal (Y/N)             5763 non-null   object \n",
      " 13  Time                    2948 non-null   object \n",
      " 14  Species                 3464 non-null   object \n",
      " 15  Investigator or Source  6285 non-null   object \n",
      " 16  pdf                     6302 non-null   object \n",
      " 17  href formula            6301 non-null   object \n",
      " 18  href                    6302 non-null   object \n",
      " 19  Case Number.1           6302 non-null   object \n",
      " 20  Case Number.2           6302 non-null   object \n",
      " 21  original order          6309 non-null   float64\n",
      " 22  Unnamed: 22             1 non-null      object \n",
      " 23  Unnamed: 23             2 non-null      object \n",
      "dtypes: float64(2), object(22)\n",
      "memory usage: 4.7+ MB\n"
     ]
    }
   ],
   "source": [
    "data.info(\"deep\")"
   ]
  },
  {
   "cell_type": "code",
   "execution_count": 7,
   "id": "282cdb2b",
   "metadata": {},
   "outputs": [
    {
     "data": {
      "text/plain": [
       "Case Number               17021\n",
       "Date                      19421\n",
       "Year                      19423\n",
       "Type                      19425\n",
       "Country                   19471\n",
       "Area                      19876\n",
       "Location                  19961\n",
       "Activity                  19965\n",
       "Name                      19631\n",
       "Sex                       19986\n",
       "Age                       22252\n",
       "Injury                    19449\n",
       "Fatal (Y/N)               19960\n",
       "Time                      22775\n",
       "Species                   22259\n",
       "Investigator or Source    19438\n",
       "pdf                       19421\n",
       "href formula              19422\n",
       "href                      19421\n",
       "Case Number.1             19421\n",
       "Case Number.2             19421\n",
       "original order            19414\n",
       "Unnamed: 22               25722\n",
       "Unnamed: 23               25721\n",
       "dtype: int64"
      ]
     },
     "execution_count": 7,
     "metadata": {},
     "output_type": "execute_result"
    }
   ],
   "source": [
    "null_cols = data.isnull().sum()\n",
    "null_cols[null_cols>0]\n",
    "#columns with total null values"
   ]
  },
  {
   "cell_type": "code",
   "execution_count": 8,
   "id": "62c19522",
   "metadata": {},
   "outputs": [],
   "source": [
    "no_case_number = list(data[data[\"Case Number\"].isnull()].index)"
   ]
  },
  {
   "cell_type": "code",
   "execution_count": 9,
   "id": "03f3f4d9",
   "metadata": {},
   "outputs": [
    {
     "data": {
      "text/plain": [
       "17021"
      ]
     },
     "execution_count": 9,
     "metadata": {},
     "output_type": "execute_result"
    }
   ],
   "source": [
    "len(no_case_number)"
   ]
  },
  {
   "cell_type": "code",
   "execution_count": 10,
   "id": "9b2d2b94",
   "metadata": {},
   "outputs": [],
   "source": [
    "no_date_or_case_number = data[(data[\"Case Number\"].isnull()) & (data[\"Date\"].isnull())].index"
   ]
  },
  {
   "cell_type": "code",
   "execution_count": 11,
   "id": "5b56ac16",
   "metadata": {},
   "outputs": [
    {
     "data": {
      "text/plain": [
       "17020"
      ]
     },
     "execution_count": 11,
     "metadata": {},
     "output_type": "execute_result"
    }
   ],
   "source": [
    "len(no_date_or_case_number)\n",
    "#one colum might be useful"
   ]
  },
  {
   "cell_type": "code",
   "execution_count": 12,
   "id": "92377101",
   "metadata": {},
   "outputs": [],
   "source": [
    "data.drop(no_date_or_case_number, axis=0, inplace=True)"
   ]
  },
  {
   "cell_type": "code",
   "execution_count": 13,
   "id": "f1b6a8d1",
   "metadata": {},
   "outputs": [
    {
     "data": {
      "text/plain": [
       "(8703, 24)"
      ]
     },
     "execution_count": 13,
     "metadata": {},
     "output_type": "execute_result"
    }
   ],
   "source": [
    "data.shape"
   ]
  },
  {
   "cell_type": "code",
   "execution_count": 14,
   "id": "6b64f87f",
   "metadata": {},
   "outputs": [
    {
     "data": {
      "text/html": [
       "<div>\n",
       "<style scoped>\n",
       "    .dataframe tbody tr th:only-of-type {\n",
       "        vertical-align: middle;\n",
       "    }\n",
       "\n",
       "    .dataframe tbody tr th {\n",
       "        vertical-align: top;\n",
       "    }\n",
       "\n",
       "    .dataframe thead th {\n",
       "        text-align: right;\n",
       "    }\n",
       "</style>\n",
       "<table border=\"1\" class=\"dataframe\">\n",
       "  <thead>\n",
       "    <tr style=\"text-align: right;\">\n",
       "      <th></th>\n",
       "      <th>Case Number</th>\n",
       "      <th>Date</th>\n",
       "      <th>Year</th>\n",
       "      <th>Type</th>\n",
       "      <th>Country</th>\n",
       "      <th>Area</th>\n",
       "      <th>Location</th>\n",
       "      <th>Activity</th>\n",
       "      <th>Name</th>\n",
       "      <th>Sex</th>\n",
       "      <th>...</th>\n",
       "      <th>Species</th>\n",
       "      <th>Investigator or Source</th>\n",
       "      <th>pdf</th>\n",
       "      <th>href formula</th>\n",
       "      <th>href</th>\n",
       "      <th>Case Number.1</th>\n",
       "      <th>Case Number.2</th>\n",
       "      <th>original order</th>\n",
       "      <th>Unnamed: 22</th>\n",
       "      <th>Unnamed: 23</th>\n",
       "    </tr>\n",
       "  </thead>\n",
       "  <tbody>\n",
       "    <tr>\n",
       "      <th>5488</th>\n",
       "      <td>NaN</td>\n",
       "      <td>Reported 06-Sep-1905</td>\n",
       "      <td>1905.0</td>\n",
       "      <td>Provoked</td>\n",
       "      <td>USA</td>\n",
       "      <td>Florida</td>\n",
       "      <td>Fort Pierce, St Lucie County</td>\n",
       "      <td>Fishing</td>\n",
       "      <td>David Curry</td>\n",
       "      <td>M</td>\n",
       "      <td>...</td>\n",
       "      <td>NaN</td>\n",
       "      <td>Muncie Evening Press, 8/6/1913</td>\n",
       "      <td>1905.09.06.R-Curry.pdf</td>\n",
       "      <td>http://sharkattackfile.net/spreadsheets/pdf_di...</td>\n",
       "      <td>http://sharkattackfile.net/spreadsheets/pdf_di...</td>\n",
       "      <td>1905.09.06.R</td>\n",
       "      <td>1905.09.06.R</td>\n",
       "      <td>815.0</td>\n",
       "      <td>NaN</td>\n",
       "      <td>NaN</td>\n",
       "    </tr>\n",
       "  </tbody>\n",
       "</table>\n",
       "<p>1 rows × 24 columns</p>\n",
       "</div>"
      ],
      "text/plain": [
       "     Case Number                  Date    Year      Type Country     Area  \\\n",
       "5488         NaN  Reported 06-Sep-1905  1905.0  Provoked     USA  Florida   \n",
       "\n",
       "                          Location Activity         Name Sex   ... Species   \\\n",
       "5488  Fort Pierce, St Lucie County  Fishing  David Curry    M  ...      NaN   \n",
       "\n",
       "              Investigator or Source                     pdf  \\\n",
       "5488  Muncie Evening Press, 8/6/1913  1905.09.06.R-Curry.pdf   \n",
       "\n",
       "                                           href formula  \\\n",
       "5488  http://sharkattackfile.net/spreadsheets/pdf_di...   \n",
       "\n",
       "                                                   href Case Number.1  \\\n",
       "5488  http://sharkattackfile.net/spreadsheets/pdf_di...  1905.09.06.R   \n",
       "\n",
       "     Case Number.2 original order Unnamed: 22 Unnamed: 23  \n",
       "5488  1905.09.06.R          815.0         NaN         NaN  \n",
       "\n",
       "[1 rows x 24 columns]"
      ]
     },
     "execution_count": 14,
     "metadata": {},
     "output_type": "execute_result"
    }
   ],
   "source": [
    "data[data[\"Case Number\"].isnull()]\n",
    "#it has a lot of data"
   ]
  },
  {
   "cell_type": "code",
   "execution_count": 15,
   "id": "4fe46cb8",
   "metadata": {},
   "outputs": [
    {
     "data": {
      "text/html": [
       "<div>\n",
       "<style scoped>\n",
       "    .dataframe tbody tr th:only-of-type {\n",
       "        vertical-align: middle;\n",
       "    }\n",
       "\n",
       "    .dataframe tbody tr th {\n",
       "        vertical-align: top;\n",
       "    }\n",
       "\n",
       "    .dataframe thead th {\n",
       "        text-align: right;\n",
       "    }\n",
       "</style>\n",
       "<table border=\"1\" class=\"dataframe\">\n",
       "  <thead>\n",
       "    <tr style=\"text-align: right;\">\n",
       "      <th></th>\n",
       "      <th>Case Number</th>\n",
       "      <th>Date</th>\n",
       "      <th>Year</th>\n",
       "      <th>Type</th>\n",
       "      <th>Country</th>\n",
       "      <th>Area</th>\n",
       "      <th>Location</th>\n",
       "      <th>Activity</th>\n",
       "      <th>Name</th>\n",
       "      <th>Sex</th>\n",
       "      <th>...</th>\n",
       "      <th>Species</th>\n",
       "      <th>Investigator or Source</th>\n",
       "      <th>pdf</th>\n",
       "      <th>href formula</th>\n",
       "      <th>href</th>\n",
       "      <th>Case Number.1</th>\n",
       "      <th>Case Number.2</th>\n",
       "      <th>original order</th>\n",
       "      <th>Unnamed: 22</th>\n",
       "      <th>Unnamed: 23</th>\n",
       "    </tr>\n",
       "  </thead>\n",
       "  <tbody>\n",
       "    <tr>\n",
       "      <th>5486</th>\n",
       "      <td>1905.12.29</td>\n",
       "      <td>29-Dec-1905</td>\n",
       "      <td>1905.0</td>\n",
       "      <td>Invalid</td>\n",
       "      <td>AUSTRALIA</td>\n",
       "      <td>Western Australia</td>\n",
       "      <td>Geraldton</td>\n",
       "      <td>Bathing</td>\n",
       "      <td>Hugh Carroll</td>\n",
       "      <td>M</td>\n",
       "      <td>...</td>\n",
       "      <td>Shark involvement not confirmed</td>\n",
       "      <td>The Advertiser, 12/30/1905</td>\n",
       "      <td>1905.12.29-Carroll.pdf</td>\n",
       "      <td>http://sharkattackfile.net/spreadsheets/pdf_di...</td>\n",
       "      <td>http://sharkattackfile.net/spreadsheets/pdf_di...</td>\n",
       "      <td>1905.12.29</td>\n",
       "      <td>1905.12.29</td>\n",
       "      <td>817.0</td>\n",
       "      <td>NaN</td>\n",
       "      <td>NaN</td>\n",
       "    </tr>\n",
       "    <tr>\n",
       "      <th>5487</th>\n",
       "      <td>1905.09.29</td>\n",
       "      <td>29-Sep-1905</td>\n",
       "      <td>1905.0</td>\n",
       "      <td>Unprovoked</td>\n",
       "      <td>AUSTRALIA</td>\n",
       "      <td>New South Wales</td>\n",
       "      <td>Waverly, Sydney</td>\n",
       "      <td>Swimming</td>\n",
       "      <td>Jame Crotty</td>\n",
       "      <td>M</td>\n",
       "      <td>...</td>\n",
       "      <td>NaN</td>\n",
       "      <td>The Argus, 9/30/1905</td>\n",
       "      <td>1905.09.29-Crotty.pdf</td>\n",
       "      <td>http://sharkattackfile.net/spreadsheets/pdf_di...</td>\n",
       "      <td>http://sharkattackfile.net/spreadsheets/pdf_di...</td>\n",
       "      <td>1905.09.29</td>\n",
       "      <td>1905.09.29</td>\n",
       "      <td>816.0</td>\n",
       "      <td>NaN</td>\n",
       "      <td>NaN</td>\n",
       "    </tr>\n",
       "    <tr>\n",
       "      <th>5488</th>\n",
       "      <td>NaN</td>\n",
       "      <td>Reported 06-Sep-1905</td>\n",
       "      <td>1905.0</td>\n",
       "      <td>Provoked</td>\n",
       "      <td>USA</td>\n",
       "      <td>Florida</td>\n",
       "      <td>Fort Pierce, St Lucie County</td>\n",
       "      <td>Fishing</td>\n",
       "      <td>David Curry</td>\n",
       "      <td>M</td>\n",
       "      <td>...</td>\n",
       "      <td>NaN</td>\n",
       "      <td>Muncie Evening Press, 8/6/1913</td>\n",
       "      <td>1905.09.06.R-Curry.pdf</td>\n",
       "      <td>http://sharkattackfile.net/spreadsheets/pdf_di...</td>\n",
       "      <td>http://sharkattackfile.net/spreadsheets/pdf_di...</td>\n",
       "      <td>1905.09.06.R</td>\n",
       "      <td>1905.09.06.R</td>\n",
       "      <td>815.0</td>\n",
       "      <td>NaN</td>\n",
       "      <td>NaN</td>\n",
       "    </tr>\n",
       "    <tr>\n",
       "      <th>5489</th>\n",
       "      <td>1905.08.24</td>\n",
       "      <td>24-Aug-1905</td>\n",
       "      <td>1905.0</td>\n",
       "      <td>Invalid</td>\n",
       "      <td>EGYPT</td>\n",
       "      <td>Suez Canal</td>\n",
       "      <td>Port Said</td>\n",
       "      <td>Human head found in shark caught by British st...</td>\n",
       "      <td>NaN</td>\n",
       "      <td>M</td>\n",
       "      <td>...</td>\n",
       "      <td>Tiger shark, 3.9 m</td>\n",
       "      <td>C. Moore, GSAF</td>\n",
       "      <td>1905.08.24-Head-in-shark.pdf</td>\n",
       "      <td>http://sharkattackfile.net/spreadsheets/pdf_di...</td>\n",
       "      <td>http://sharkattackfile.net/spreadsheets/pdf_di...</td>\n",
       "      <td>1905.08.24</td>\n",
       "      <td>1905.08.24</td>\n",
       "      <td>814.0</td>\n",
       "      <td>NaN</td>\n",
       "      <td>NaN</td>\n",
       "    </tr>\n",
       "  </tbody>\n",
       "</table>\n",
       "<p>4 rows × 24 columns</p>\n",
       "</div>"
      ],
      "text/plain": [
       "     Case Number                  Date    Year        Type    Country  \\\n",
       "5486  1905.12.29           29-Dec-1905  1905.0     Invalid  AUSTRALIA   \n",
       "5487  1905.09.29           29-Sep-1905  1905.0  Unprovoked  AUSTRALIA   \n",
       "5488         NaN  Reported 06-Sep-1905  1905.0    Provoked        USA   \n",
       "5489  1905.08.24           24-Aug-1905  1905.0     Invalid      EGYPT   \n",
       "\n",
       "                   Area                      Location  \\\n",
       "5486  Western Australia                     Geraldton   \n",
       "5487    New South Wales               Waverly, Sydney   \n",
       "5488            Florida  Fort Pierce, St Lucie County   \n",
       "5489         Suez Canal                     Port Said   \n",
       "\n",
       "                                               Activity          Name Sex   \\\n",
       "5486                                            Bathing  Hugh Carroll    M   \n",
       "5487                                           Swimming   Jame Crotty    M   \n",
       "5488                                            Fishing   David Curry    M   \n",
       "5489  Human head found in shark caught by British st...           NaN    M   \n",
       "\n",
       "      ...                         Species           Investigator or Source  \\\n",
       "5486  ...  Shark involvement not confirmed      The Advertiser, 12/30/1905   \n",
       "5487  ...                              NaN            The Argus, 9/30/1905   \n",
       "5488  ...                              NaN  Muncie Evening Press, 8/6/1913   \n",
       "5489  ...               Tiger shark, 3.9 m                  C. Moore, GSAF   \n",
       "\n",
       "                               pdf  \\\n",
       "5486        1905.12.29-Carroll.pdf   \n",
       "5487         1905.09.29-Crotty.pdf   \n",
       "5488        1905.09.06.R-Curry.pdf   \n",
       "5489  1905.08.24-Head-in-shark.pdf   \n",
       "\n",
       "                                           href formula  \\\n",
       "5486  http://sharkattackfile.net/spreadsheets/pdf_di...   \n",
       "5487  http://sharkattackfile.net/spreadsheets/pdf_di...   \n",
       "5488  http://sharkattackfile.net/spreadsheets/pdf_di...   \n",
       "5489  http://sharkattackfile.net/spreadsheets/pdf_di...   \n",
       "\n",
       "                                                   href Case Number.1  \\\n",
       "5486  http://sharkattackfile.net/spreadsheets/pdf_di...    1905.12.29   \n",
       "5487  http://sharkattackfile.net/spreadsheets/pdf_di...    1905.09.29   \n",
       "5488  http://sharkattackfile.net/spreadsheets/pdf_di...  1905.09.06.R   \n",
       "5489  http://sharkattackfile.net/spreadsheets/pdf_di...    1905.08.24   \n",
       "\n",
       "     Case Number.2 original order Unnamed: 22 Unnamed: 23  \n",
       "5486    1905.12.29          817.0         NaN         NaN  \n",
       "5487    1905.09.29          816.0         NaN         NaN  \n",
       "5488  1905.09.06.R          815.0         NaN         NaN  \n",
       "5489    1905.08.24          814.0         NaN         NaN  \n",
       "\n",
       "[4 rows x 24 columns]"
      ]
     },
     "execution_count": 15,
     "metadata": {},
     "output_type": "execute_result"
    }
   ],
   "source": [
    "data.iloc[5486:5490]\n",
    "#we can deduce the case number from the pdf column as all follow the same structure"
   ]
  },
  {
   "cell_type": "code",
   "execution_count": 16,
   "id": "bc1f3b1b",
   "metadata": {},
   "outputs": [],
   "source": [
    "data.loc[5488,\"Case Number\"] = \"1905.09.06\""
   ]
  },
  {
   "cell_type": "code",
   "execution_count": 17,
   "id": "7d9f34a5",
   "metadata": {},
   "outputs": [
    {
     "data": {
      "text/plain": [
       "Case Number                                                      1905.09.29\n",
       "Date                                                            29-Sep-1905\n",
       "Year                                                                 1905.0\n",
       "Type                                                             Unprovoked\n",
       "Country                                                           AUSTRALIA\n",
       "Area                                                        New South Wales\n",
       "Location                                                    Waverly, Sydney\n",
       "Activity                                                           Swimming\n",
       "Name                                                            Jame Crotty\n",
       "Sex                                                                       M\n",
       "Age                                                                     NaN\n",
       "Injury                    FATAL. Shark involvement suspected but not con...\n",
       "Fatal (Y/N)                                                               Y\n",
       "Time                                                                    NaN\n",
       "Species                                                                 NaN\n",
       "Investigator or Source                                 The Argus, 9/30/1905\n",
       "pdf                                                   1905.09.29-Crotty.pdf\n",
       "href formula              http://sharkattackfile.net/spreadsheets/pdf_di...\n",
       "href                      http://sharkattackfile.net/spreadsheets/pdf_di...\n",
       "Case Number.1                                                    1905.09.29\n",
       "Case Number.2                                                    1905.09.29\n",
       "original order                                                        816.0\n",
       "Unnamed: 22                                                             NaN\n",
       "Unnamed: 23                                                             NaN\n",
       "Name: 5487, dtype: object"
      ]
     },
     "execution_count": 17,
     "metadata": {},
     "output_type": "execute_result"
    }
   ],
   "source": [
    "data.iloc[5487]\n",
    "#making sure we have deleted it"
   ]
  },
  {
   "cell_type": "code",
   "execution_count": 18,
   "id": "63e52c7f",
   "metadata": {},
   "outputs": [
    {
     "data": {
      "text/plain": [
       "Case Number                  0\n",
       "Date                      2401\n",
       "Year                      2403\n",
       "Type                      2405\n",
       "Country                   2451\n",
       "Area                      2856\n",
       "Location                  2941\n",
       "Activity                  2945\n",
       "Name                      2611\n",
       "Sex                       2966\n",
       "Age                       5232\n",
       "Injury                    2429\n",
       "Fatal (Y/N)               2940\n",
       "Time                      5755\n",
       "Species                   5239\n",
       "Investigator or Source    2418\n",
       "pdf                       2401\n",
       "href formula              2402\n",
       "href                      2401\n",
       "Case Number.1             2401\n",
       "Case Number.2             2401\n",
       "original order            2394\n",
       "Unnamed: 22               8702\n",
       "Unnamed: 23               8701\n",
       "dtype: int64"
      ]
     },
     "execution_count": 18,
     "metadata": {},
     "output_type": "execute_result"
    }
   ],
   "source": [
    "data.isnull().sum()\n",
    "#case number column is fixed for null values"
   ]
  },
  {
   "cell_type": "code",
   "execution_count": 19,
   "id": "f4a93090",
   "metadata": {},
   "outputs": [],
   "source": [
    "no_date = list(data[data[\"Date\"].isnull()].index)"
   ]
  },
  {
   "cell_type": "code",
   "execution_count": 20,
   "id": "58936bc7",
   "metadata": {},
   "outputs": [
    {
     "data": {
      "text/html": [
       "<div>\n",
       "<style scoped>\n",
       "    .dataframe tbody tr th:only-of-type {\n",
       "        vertical-align: middle;\n",
       "    }\n",
       "\n",
       "    .dataframe tbody tr th {\n",
       "        vertical-align: top;\n",
       "    }\n",
       "\n",
       "    .dataframe thead th {\n",
       "        text-align: right;\n",
       "    }\n",
       "</style>\n",
       "<table border=\"1\" class=\"dataframe\">\n",
       "  <thead>\n",
       "    <tr style=\"text-align: right;\">\n",
       "      <th></th>\n",
       "      <th>Case Number</th>\n",
       "      <th>Date</th>\n",
       "      <th>Year</th>\n",
       "      <th>Type</th>\n",
       "      <th>Country</th>\n",
       "      <th>Area</th>\n",
       "      <th>Location</th>\n",
       "      <th>Activity</th>\n",
       "      <th>Name</th>\n",
       "      <th>Sex</th>\n",
       "      <th>...</th>\n",
       "      <th>Species</th>\n",
       "      <th>Investigator or Source</th>\n",
       "      <th>pdf</th>\n",
       "      <th>href formula</th>\n",
       "      <th>href</th>\n",
       "      <th>Case Number.1</th>\n",
       "      <th>Case Number.2</th>\n",
       "      <th>original order</th>\n",
       "      <th>Unnamed: 22</th>\n",
       "      <th>Unnamed: 23</th>\n",
       "    </tr>\n",
       "  </thead>\n",
       "  <tbody>\n",
       "    <tr>\n",
       "      <th>6302</th>\n",
       "      <td>0</td>\n",
       "      <td>NaN</td>\n",
       "      <td>NaN</td>\n",
       "      <td>NaN</td>\n",
       "      <td>NaN</td>\n",
       "      <td>NaN</td>\n",
       "      <td>NaN</td>\n",
       "      <td>NaN</td>\n",
       "      <td>NaN</td>\n",
       "      <td>NaN</td>\n",
       "      <td>...</td>\n",
       "      <td>NaN</td>\n",
       "      <td>NaN</td>\n",
       "      <td>NaN</td>\n",
       "      <td>NaN</td>\n",
       "      <td>NaN</td>\n",
       "      <td>NaN</td>\n",
       "      <td>NaN</td>\n",
       "      <td>6304.0</td>\n",
       "      <td>NaN</td>\n",
       "      <td>NaN</td>\n",
       "    </tr>\n",
       "    <tr>\n",
       "      <th>6303</th>\n",
       "      <td>0</td>\n",
       "      <td>NaN</td>\n",
       "      <td>NaN</td>\n",
       "      <td>NaN</td>\n",
       "      <td>NaN</td>\n",
       "      <td>NaN</td>\n",
       "      <td>NaN</td>\n",
       "      <td>NaN</td>\n",
       "      <td>NaN</td>\n",
       "      <td>NaN</td>\n",
       "      <td>...</td>\n",
       "      <td>NaN</td>\n",
       "      <td>NaN</td>\n",
       "      <td>NaN</td>\n",
       "      <td>NaN</td>\n",
       "      <td>NaN</td>\n",
       "      <td>NaN</td>\n",
       "      <td>NaN</td>\n",
       "      <td>6305.0</td>\n",
       "      <td>NaN</td>\n",
       "      <td>NaN</td>\n",
       "    </tr>\n",
       "    <tr>\n",
       "      <th>6304</th>\n",
       "      <td>0</td>\n",
       "      <td>NaN</td>\n",
       "      <td>NaN</td>\n",
       "      <td>NaN</td>\n",
       "      <td>NaN</td>\n",
       "      <td>NaN</td>\n",
       "      <td>NaN</td>\n",
       "      <td>NaN</td>\n",
       "      <td>NaN</td>\n",
       "      <td>NaN</td>\n",
       "      <td>...</td>\n",
       "      <td>NaN</td>\n",
       "      <td>NaN</td>\n",
       "      <td>NaN</td>\n",
       "      <td>NaN</td>\n",
       "      <td>NaN</td>\n",
       "      <td>NaN</td>\n",
       "      <td>NaN</td>\n",
       "      <td>6306.0</td>\n",
       "      <td>NaN</td>\n",
       "      <td>NaN</td>\n",
       "    </tr>\n",
       "    <tr>\n",
       "      <th>6305</th>\n",
       "      <td>0</td>\n",
       "      <td>NaN</td>\n",
       "      <td>NaN</td>\n",
       "      <td>NaN</td>\n",
       "      <td>NaN</td>\n",
       "      <td>NaN</td>\n",
       "      <td>NaN</td>\n",
       "      <td>NaN</td>\n",
       "      <td>NaN</td>\n",
       "      <td>NaN</td>\n",
       "      <td>...</td>\n",
       "      <td>NaN</td>\n",
       "      <td>NaN</td>\n",
       "      <td>NaN</td>\n",
       "      <td>NaN</td>\n",
       "      <td>NaN</td>\n",
       "      <td>NaN</td>\n",
       "      <td>NaN</td>\n",
       "      <td>6307.0</td>\n",
       "      <td>NaN</td>\n",
       "      <td>NaN</td>\n",
       "    </tr>\n",
       "    <tr>\n",
       "      <th>6306</th>\n",
       "      <td>0</td>\n",
       "      <td>NaN</td>\n",
       "      <td>NaN</td>\n",
       "      <td>NaN</td>\n",
       "      <td>NaN</td>\n",
       "      <td>NaN</td>\n",
       "      <td>NaN</td>\n",
       "      <td>NaN</td>\n",
       "      <td>NaN</td>\n",
       "      <td>NaN</td>\n",
       "      <td>...</td>\n",
       "      <td>NaN</td>\n",
       "      <td>NaN</td>\n",
       "      <td>NaN</td>\n",
       "      <td>NaN</td>\n",
       "      <td>NaN</td>\n",
       "      <td>NaN</td>\n",
       "      <td>NaN</td>\n",
       "      <td>6308.0</td>\n",
       "      <td>NaN</td>\n",
       "      <td>NaN</td>\n",
       "    </tr>\n",
       "    <tr>\n",
       "      <th>...</th>\n",
       "      <td>...</td>\n",
       "      <td>...</td>\n",
       "      <td>...</td>\n",
       "      <td>...</td>\n",
       "      <td>...</td>\n",
       "      <td>...</td>\n",
       "      <td>...</td>\n",
       "      <td>...</td>\n",
       "      <td>...</td>\n",
       "      <td>...</td>\n",
       "      <td>...</td>\n",
       "      <td>...</td>\n",
       "      <td>...</td>\n",
       "      <td>...</td>\n",
       "      <td>...</td>\n",
       "      <td>...</td>\n",
       "      <td>...</td>\n",
       "      <td>...</td>\n",
       "      <td>...</td>\n",
       "      <td>...</td>\n",
       "      <td>...</td>\n",
       "    </tr>\n",
       "    <tr>\n",
       "      <th>8697</th>\n",
       "      <td>0</td>\n",
       "      <td>NaN</td>\n",
       "      <td>NaN</td>\n",
       "      <td>NaN</td>\n",
       "      <td>NaN</td>\n",
       "      <td>NaN</td>\n",
       "      <td>NaN</td>\n",
       "      <td>NaN</td>\n",
       "      <td>NaN</td>\n",
       "      <td>NaN</td>\n",
       "      <td>...</td>\n",
       "      <td>NaN</td>\n",
       "      <td>NaN</td>\n",
       "      <td>NaN</td>\n",
       "      <td>NaN</td>\n",
       "      <td>NaN</td>\n",
       "      <td>NaN</td>\n",
       "      <td>NaN</td>\n",
       "      <td>NaN</td>\n",
       "      <td>NaN</td>\n",
       "      <td>NaN</td>\n",
       "    </tr>\n",
       "    <tr>\n",
       "      <th>8698</th>\n",
       "      <td>0</td>\n",
       "      <td>NaN</td>\n",
       "      <td>NaN</td>\n",
       "      <td>NaN</td>\n",
       "      <td>NaN</td>\n",
       "      <td>NaN</td>\n",
       "      <td>NaN</td>\n",
       "      <td>NaN</td>\n",
       "      <td>NaN</td>\n",
       "      <td>NaN</td>\n",
       "      <td>...</td>\n",
       "      <td>NaN</td>\n",
       "      <td>NaN</td>\n",
       "      <td>NaN</td>\n",
       "      <td>NaN</td>\n",
       "      <td>NaN</td>\n",
       "      <td>NaN</td>\n",
       "      <td>NaN</td>\n",
       "      <td>NaN</td>\n",
       "      <td>NaN</td>\n",
       "      <td>NaN</td>\n",
       "    </tr>\n",
       "    <tr>\n",
       "      <th>8699</th>\n",
       "      <td>0</td>\n",
       "      <td>NaN</td>\n",
       "      <td>NaN</td>\n",
       "      <td>NaN</td>\n",
       "      <td>NaN</td>\n",
       "      <td>NaN</td>\n",
       "      <td>NaN</td>\n",
       "      <td>NaN</td>\n",
       "      <td>NaN</td>\n",
       "      <td>NaN</td>\n",
       "      <td>...</td>\n",
       "      <td>NaN</td>\n",
       "      <td>NaN</td>\n",
       "      <td>NaN</td>\n",
       "      <td>NaN</td>\n",
       "      <td>NaN</td>\n",
       "      <td>NaN</td>\n",
       "      <td>NaN</td>\n",
       "      <td>NaN</td>\n",
       "      <td>NaN</td>\n",
       "      <td>NaN</td>\n",
       "    </tr>\n",
       "    <tr>\n",
       "      <th>8700</th>\n",
       "      <td>0</td>\n",
       "      <td>NaN</td>\n",
       "      <td>NaN</td>\n",
       "      <td>NaN</td>\n",
       "      <td>NaN</td>\n",
       "      <td>NaN</td>\n",
       "      <td>NaN</td>\n",
       "      <td>NaN</td>\n",
       "      <td>NaN</td>\n",
       "      <td>NaN</td>\n",
       "      <td>...</td>\n",
       "      <td>NaN</td>\n",
       "      <td>NaN</td>\n",
       "      <td>NaN</td>\n",
       "      <td>NaN</td>\n",
       "      <td>NaN</td>\n",
       "      <td>NaN</td>\n",
       "      <td>NaN</td>\n",
       "      <td>NaN</td>\n",
       "      <td>NaN</td>\n",
       "      <td>NaN</td>\n",
       "    </tr>\n",
       "    <tr>\n",
       "      <th>8701</th>\n",
       "      <td>0</td>\n",
       "      <td>NaN</td>\n",
       "      <td>NaN</td>\n",
       "      <td>NaN</td>\n",
       "      <td>NaN</td>\n",
       "      <td>NaN</td>\n",
       "      <td>NaN</td>\n",
       "      <td>NaN</td>\n",
       "      <td>NaN</td>\n",
       "      <td>NaN</td>\n",
       "      <td>...</td>\n",
       "      <td>NaN</td>\n",
       "      <td>NaN</td>\n",
       "      <td>NaN</td>\n",
       "      <td>NaN</td>\n",
       "      <td>NaN</td>\n",
       "      <td>NaN</td>\n",
       "      <td>NaN</td>\n",
       "      <td>NaN</td>\n",
       "      <td>NaN</td>\n",
       "      <td>NaN</td>\n",
       "    </tr>\n",
       "  </tbody>\n",
       "</table>\n",
       "<p>2400 rows × 24 columns</p>\n",
       "</div>"
      ],
      "text/plain": [
       "     Case Number Date  Year Type Country Area Location Activity Name Sex   \\\n",
       "6302           0  NaN   NaN  NaN     NaN  NaN      NaN      NaN  NaN  NaN   \n",
       "6303           0  NaN   NaN  NaN     NaN  NaN      NaN      NaN  NaN  NaN   \n",
       "6304           0  NaN   NaN  NaN     NaN  NaN      NaN      NaN  NaN  NaN   \n",
       "6305           0  NaN   NaN  NaN     NaN  NaN      NaN      NaN  NaN  NaN   \n",
       "6306           0  NaN   NaN  NaN     NaN  NaN      NaN      NaN  NaN  NaN   \n",
       "...          ...  ...   ...  ...     ...  ...      ...      ...  ...  ...   \n",
       "8697           0  NaN   NaN  NaN     NaN  NaN      NaN      NaN  NaN  NaN   \n",
       "8698           0  NaN   NaN  NaN     NaN  NaN      NaN      NaN  NaN  NaN   \n",
       "8699           0  NaN   NaN  NaN     NaN  NaN      NaN      NaN  NaN  NaN   \n",
       "8700           0  NaN   NaN  NaN     NaN  NaN      NaN      NaN  NaN  NaN   \n",
       "8701           0  NaN   NaN  NaN     NaN  NaN      NaN      NaN  NaN  NaN   \n",
       "\n",
       "      ... Species  Investigator or Source  pdf href formula href  \\\n",
       "6302  ...      NaN                    NaN  NaN          NaN  NaN   \n",
       "6303  ...      NaN                    NaN  NaN          NaN  NaN   \n",
       "6304  ...      NaN                    NaN  NaN          NaN  NaN   \n",
       "6305  ...      NaN                    NaN  NaN          NaN  NaN   \n",
       "6306  ...      NaN                    NaN  NaN          NaN  NaN   \n",
       "...   ...      ...                    ...  ...          ...  ...   \n",
       "8697  ...      NaN                    NaN  NaN          NaN  NaN   \n",
       "8698  ...      NaN                    NaN  NaN          NaN  NaN   \n",
       "8699  ...      NaN                    NaN  NaN          NaN  NaN   \n",
       "8700  ...      NaN                    NaN  NaN          NaN  NaN   \n",
       "8701  ...      NaN                    NaN  NaN          NaN  NaN   \n",
       "\n",
       "     Case Number.1 Case Number.2 original order Unnamed: 22 Unnamed: 23  \n",
       "6302           NaN           NaN         6304.0         NaN         NaN  \n",
       "6303           NaN           NaN         6305.0         NaN         NaN  \n",
       "6304           NaN           NaN         6306.0         NaN         NaN  \n",
       "6305           NaN           NaN         6307.0         NaN         NaN  \n",
       "6306           NaN           NaN         6308.0         NaN         NaN  \n",
       "...            ...           ...            ...         ...         ...  \n",
       "8697           NaN           NaN            NaN         NaN         NaN  \n",
       "8698           NaN           NaN            NaN         NaN         NaN  \n",
       "8699           NaN           NaN            NaN         NaN         NaN  \n",
       "8700           NaN           NaN            NaN         NaN         NaN  \n",
       "8701           NaN           NaN            NaN         NaN         NaN  \n",
       "\n",
       "[2400 rows x 24 columns]"
      ]
     },
     "execution_count": 20,
     "metadata": {},
     "output_type": "execute_result"
    }
   ],
   "source": [
    "data[data[\"Case Number\"] == \"0\"]"
   ]
  },
  {
   "cell_type": "code",
   "execution_count": 21,
   "id": "565e244f",
   "metadata": {},
   "outputs": [
    {
     "data": {
      "text/plain": [
       "((6311, 24), (8703, 24))"
      ]
     },
     "execution_count": 21,
     "metadata": {},
     "output_type": "execute_result"
    }
   ],
   "source": [
    "data.drop_duplicates().shape, data.shape\n",
    "#a lot of duplicates removed"
   ]
  },
  {
   "cell_type": "code",
   "execution_count": 22,
   "id": "1f8007f9",
   "metadata": {},
   "outputs": [],
   "source": [
    "data.drop_duplicates(inplace=True)"
   ]
  },
  {
   "cell_type": "code",
   "execution_count": 23,
   "id": "05e26aee",
   "metadata": {},
   "outputs": [
    {
     "data": {
      "text/plain": [
       "(6311, 24)"
      ]
     },
     "execution_count": 23,
     "metadata": {},
     "output_type": "execute_result"
    }
   ],
   "source": [
    "data.shape\n",
    "#we have removed 2392 duplicated rows"
   ]
  },
  {
   "cell_type": "code",
   "execution_count": 24,
   "id": "f88c0961",
   "metadata": {},
   "outputs": [
    {
     "data": {
      "text/html": [
       "<div>\n",
       "<style scoped>\n",
       "    .dataframe tbody tr th:only-of-type {\n",
       "        vertical-align: middle;\n",
       "    }\n",
       "\n",
       "    .dataframe tbody tr th {\n",
       "        vertical-align: top;\n",
       "    }\n",
       "\n",
       "    .dataframe thead th {\n",
       "        text-align: right;\n",
       "    }\n",
       "</style>\n",
       "<table border=\"1\" class=\"dataframe\">\n",
       "  <thead>\n",
       "    <tr style=\"text-align: right;\">\n",
       "      <th></th>\n",
       "      <th>Case Number</th>\n",
       "      <th>Date</th>\n",
       "      <th>Year</th>\n",
       "      <th>Type</th>\n",
       "      <th>Country</th>\n",
       "      <th>Area</th>\n",
       "      <th>Location</th>\n",
       "      <th>Activity</th>\n",
       "      <th>Name</th>\n",
       "      <th>Sex</th>\n",
       "      <th>...</th>\n",
       "      <th>Species</th>\n",
       "      <th>Investigator or Source</th>\n",
       "      <th>pdf</th>\n",
       "      <th>href formula</th>\n",
       "      <th>href</th>\n",
       "      <th>Case Number.1</th>\n",
       "      <th>Case Number.2</th>\n",
       "      <th>original order</th>\n",
       "      <th>Unnamed: 22</th>\n",
       "      <th>Unnamed: 23</th>\n",
       "    </tr>\n",
       "  </thead>\n",
       "  <tbody>\n",
       "    <tr>\n",
       "      <th>6302</th>\n",
       "      <td>0</td>\n",
       "      <td>NaN</td>\n",
       "      <td>NaN</td>\n",
       "      <td>NaN</td>\n",
       "      <td>NaN</td>\n",
       "      <td>NaN</td>\n",
       "      <td>NaN</td>\n",
       "      <td>NaN</td>\n",
       "      <td>NaN</td>\n",
       "      <td>NaN</td>\n",
       "      <td>...</td>\n",
       "      <td>NaN</td>\n",
       "      <td>NaN</td>\n",
       "      <td>NaN</td>\n",
       "      <td>NaN</td>\n",
       "      <td>NaN</td>\n",
       "      <td>NaN</td>\n",
       "      <td>NaN</td>\n",
       "      <td>6304.0</td>\n",
       "      <td>NaN</td>\n",
       "      <td>NaN</td>\n",
       "    </tr>\n",
       "    <tr>\n",
       "      <th>6303</th>\n",
       "      <td>0</td>\n",
       "      <td>NaN</td>\n",
       "      <td>NaN</td>\n",
       "      <td>NaN</td>\n",
       "      <td>NaN</td>\n",
       "      <td>NaN</td>\n",
       "      <td>NaN</td>\n",
       "      <td>NaN</td>\n",
       "      <td>NaN</td>\n",
       "      <td>NaN</td>\n",
       "      <td>...</td>\n",
       "      <td>NaN</td>\n",
       "      <td>NaN</td>\n",
       "      <td>NaN</td>\n",
       "      <td>NaN</td>\n",
       "      <td>NaN</td>\n",
       "      <td>NaN</td>\n",
       "      <td>NaN</td>\n",
       "      <td>6305.0</td>\n",
       "      <td>NaN</td>\n",
       "      <td>NaN</td>\n",
       "    </tr>\n",
       "    <tr>\n",
       "      <th>6304</th>\n",
       "      <td>0</td>\n",
       "      <td>NaN</td>\n",
       "      <td>NaN</td>\n",
       "      <td>NaN</td>\n",
       "      <td>NaN</td>\n",
       "      <td>NaN</td>\n",
       "      <td>NaN</td>\n",
       "      <td>NaN</td>\n",
       "      <td>NaN</td>\n",
       "      <td>NaN</td>\n",
       "      <td>...</td>\n",
       "      <td>NaN</td>\n",
       "      <td>NaN</td>\n",
       "      <td>NaN</td>\n",
       "      <td>NaN</td>\n",
       "      <td>NaN</td>\n",
       "      <td>NaN</td>\n",
       "      <td>NaN</td>\n",
       "      <td>6306.0</td>\n",
       "      <td>NaN</td>\n",
       "      <td>NaN</td>\n",
       "    </tr>\n",
       "    <tr>\n",
       "      <th>6305</th>\n",
       "      <td>0</td>\n",
       "      <td>NaN</td>\n",
       "      <td>NaN</td>\n",
       "      <td>NaN</td>\n",
       "      <td>NaN</td>\n",
       "      <td>NaN</td>\n",
       "      <td>NaN</td>\n",
       "      <td>NaN</td>\n",
       "      <td>NaN</td>\n",
       "      <td>NaN</td>\n",
       "      <td>...</td>\n",
       "      <td>NaN</td>\n",
       "      <td>NaN</td>\n",
       "      <td>NaN</td>\n",
       "      <td>NaN</td>\n",
       "      <td>NaN</td>\n",
       "      <td>NaN</td>\n",
       "      <td>NaN</td>\n",
       "      <td>6307.0</td>\n",
       "      <td>NaN</td>\n",
       "      <td>NaN</td>\n",
       "    </tr>\n",
       "    <tr>\n",
       "      <th>6306</th>\n",
       "      <td>0</td>\n",
       "      <td>NaN</td>\n",
       "      <td>NaN</td>\n",
       "      <td>NaN</td>\n",
       "      <td>NaN</td>\n",
       "      <td>NaN</td>\n",
       "      <td>NaN</td>\n",
       "      <td>NaN</td>\n",
       "      <td>NaN</td>\n",
       "      <td>NaN</td>\n",
       "      <td>...</td>\n",
       "      <td>NaN</td>\n",
       "      <td>NaN</td>\n",
       "      <td>NaN</td>\n",
       "      <td>NaN</td>\n",
       "      <td>NaN</td>\n",
       "      <td>NaN</td>\n",
       "      <td>NaN</td>\n",
       "      <td>6308.0</td>\n",
       "      <td>NaN</td>\n",
       "      <td>NaN</td>\n",
       "    </tr>\n",
       "    <tr>\n",
       "      <th>6307</th>\n",
       "      <td>0</td>\n",
       "      <td>NaN</td>\n",
       "      <td>NaN</td>\n",
       "      <td>NaN</td>\n",
       "      <td>NaN</td>\n",
       "      <td>NaN</td>\n",
       "      <td>NaN</td>\n",
       "      <td>NaN</td>\n",
       "      <td>NaN</td>\n",
       "      <td>NaN</td>\n",
       "      <td>...</td>\n",
       "      <td>NaN</td>\n",
       "      <td>NaN</td>\n",
       "      <td>NaN</td>\n",
       "      <td>NaN</td>\n",
       "      <td>NaN</td>\n",
       "      <td>NaN</td>\n",
       "      <td>NaN</td>\n",
       "      <td>6309.0</td>\n",
       "      <td>NaN</td>\n",
       "      <td>NaN</td>\n",
       "    </tr>\n",
       "    <tr>\n",
       "      <th>6308</th>\n",
       "      <td>0</td>\n",
       "      <td>NaN</td>\n",
       "      <td>NaN</td>\n",
       "      <td>NaN</td>\n",
       "      <td>NaN</td>\n",
       "      <td>NaN</td>\n",
       "      <td>NaN</td>\n",
       "      <td>NaN</td>\n",
       "      <td>NaN</td>\n",
       "      <td>NaN</td>\n",
       "      <td>...</td>\n",
       "      <td>NaN</td>\n",
       "      <td>NaN</td>\n",
       "      <td>NaN</td>\n",
       "      <td>NaN</td>\n",
       "      <td>NaN</td>\n",
       "      <td>NaN</td>\n",
       "      <td>NaN</td>\n",
       "      <td>6310.0</td>\n",
       "      <td>NaN</td>\n",
       "      <td>NaN</td>\n",
       "    </tr>\n",
       "    <tr>\n",
       "      <th>6309</th>\n",
       "      <td>0</td>\n",
       "      <td>NaN</td>\n",
       "      <td>NaN</td>\n",
       "      <td>NaN</td>\n",
       "      <td>NaN</td>\n",
       "      <td>NaN</td>\n",
       "      <td>NaN</td>\n",
       "      <td>NaN</td>\n",
       "      <td>NaN</td>\n",
       "      <td>NaN</td>\n",
       "      <td>...</td>\n",
       "      <td>NaN</td>\n",
       "      <td>NaN</td>\n",
       "      <td>NaN</td>\n",
       "      <td>NaN</td>\n",
       "      <td>NaN</td>\n",
       "      <td>NaN</td>\n",
       "      <td>NaN</td>\n",
       "      <td>NaN</td>\n",
       "      <td>NaN</td>\n",
       "      <td>NaN</td>\n",
       "    </tr>\n",
       "    <tr>\n",
       "      <th>25722</th>\n",
       "      <td>xx</td>\n",
       "      <td>NaN</td>\n",
       "      <td>NaN</td>\n",
       "      <td>NaN</td>\n",
       "      <td>NaN</td>\n",
       "      <td>NaN</td>\n",
       "      <td>NaN</td>\n",
       "      <td>NaN</td>\n",
       "      <td>NaN</td>\n",
       "      <td>NaN</td>\n",
       "      <td>...</td>\n",
       "      <td>NaN</td>\n",
       "      <td>NaN</td>\n",
       "      <td>NaN</td>\n",
       "      <td>NaN</td>\n",
       "      <td>NaN</td>\n",
       "      <td>NaN</td>\n",
       "      <td>NaN</td>\n",
       "      <td>NaN</td>\n",
       "      <td>NaN</td>\n",
       "      <td>NaN</td>\n",
       "    </tr>\n",
       "  </tbody>\n",
       "</table>\n",
       "<p>9 rows × 24 columns</p>\n",
       "</div>"
      ],
      "text/plain": [
       "      Case Number Date  Year Type Country Area Location Activity Name Sex   \\\n",
       "6302            0  NaN   NaN  NaN     NaN  NaN      NaN      NaN  NaN  NaN   \n",
       "6303            0  NaN   NaN  NaN     NaN  NaN      NaN      NaN  NaN  NaN   \n",
       "6304            0  NaN   NaN  NaN     NaN  NaN      NaN      NaN  NaN  NaN   \n",
       "6305            0  NaN   NaN  NaN     NaN  NaN      NaN      NaN  NaN  NaN   \n",
       "6306            0  NaN   NaN  NaN     NaN  NaN      NaN      NaN  NaN  NaN   \n",
       "6307            0  NaN   NaN  NaN     NaN  NaN      NaN      NaN  NaN  NaN   \n",
       "6308            0  NaN   NaN  NaN     NaN  NaN      NaN      NaN  NaN  NaN   \n",
       "6309            0  NaN   NaN  NaN     NaN  NaN      NaN      NaN  NaN  NaN   \n",
       "25722          xx  NaN   NaN  NaN     NaN  NaN      NaN      NaN  NaN  NaN   \n",
       "\n",
       "       ... Species  Investigator or Source  pdf href formula href  \\\n",
       "6302   ...      NaN                    NaN  NaN          NaN  NaN   \n",
       "6303   ...      NaN                    NaN  NaN          NaN  NaN   \n",
       "6304   ...      NaN                    NaN  NaN          NaN  NaN   \n",
       "6305   ...      NaN                    NaN  NaN          NaN  NaN   \n",
       "6306   ...      NaN                    NaN  NaN          NaN  NaN   \n",
       "6307   ...      NaN                    NaN  NaN          NaN  NaN   \n",
       "6308   ...      NaN                    NaN  NaN          NaN  NaN   \n",
       "6309   ...      NaN                    NaN  NaN          NaN  NaN   \n",
       "25722  ...      NaN                    NaN  NaN          NaN  NaN   \n",
       "\n",
       "      Case Number.1 Case Number.2 original order Unnamed: 22 Unnamed: 23  \n",
       "6302            NaN           NaN         6304.0         NaN         NaN  \n",
       "6303            NaN           NaN         6305.0         NaN         NaN  \n",
       "6304            NaN           NaN         6306.0         NaN         NaN  \n",
       "6305            NaN           NaN         6307.0         NaN         NaN  \n",
       "6306            NaN           NaN         6308.0         NaN         NaN  \n",
       "6307            NaN           NaN         6309.0         NaN         NaN  \n",
       "6308            NaN           NaN         6310.0         NaN         NaN  \n",
       "6309            NaN           NaN            NaN         NaN         NaN  \n",
       "25722           NaN           NaN            NaN         NaN         NaN  \n",
       "\n",
       "[9 rows x 24 columns]"
      ]
     },
     "execution_count": 24,
     "metadata": {},
     "output_type": "execute_result"
    }
   ],
   "source": [
    "data[data[\"Date\"].isnull()]\n",
    "#rows dont look useful"
   ]
  },
  {
   "cell_type": "code",
   "execution_count": 25,
   "id": "174011f0",
   "metadata": {},
   "outputs": [],
   "source": [
    "data.drop(list(data[data[\"Date\"].isnull()].index), axis=0, inplace=True)\n",
    "#we remove the 9 rows left with nulls in the date column"
   ]
  },
  {
   "cell_type": "code",
   "execution_count": 26,
   "id": "c181cff0",
   "metadata": {},
   "outputs": [
    {
     "data": {
      "text/plain": [
       "Case Number                  0\n",
       "Date                         0\n",
       "Year                         2\n",
       "Type                         4\n",
       "Country                     50\n",
       "Area                       455\n",
       "Location                   540\n",
       "Activity                   544\n",
       "Name                       210\n",
       "Sex                        565\n",
       "Age                       2831\n",
       "Injury                      28\n",
       "Fatal (Y/N)                539\n",
       "Time                      3354\n",
       "Species                   2838\n",
       "Investigator or Source      17\n",
       "pdf                          0\n",
       "href formula                 1\n",
       "href                         0\n",
       "Case Number.1                0\n",
       "Case Number.2                0\n",
       "original order               0\n",
       "Unnamed: 22               6301\n",
       "Unnamed: 23               6300\n",
       "dtype: int64"
      ]
     },
     "execution_count": 26,
     "metadata": {},
     "output_type": "execute_result"
    }
   ],
   "source": [
    "data.isnull().sum()\n",
    "#lets fix the two null values in year"
   ]
  },
  {
   "cell_type": "code",
   "execution_count": 27,
   "id": "38599c75",
   "metadata": {},
   "outputs": [
    {
     "data": {
      "text/html": [
       "<div>\n",
       "<style scoped>\n",
       "    .dataframe tbody tr th:only-of-type {\n",
       "        vertical-align: middle;\n",
       "    }\n",
       "\n",
       "    .dataframe tbody tr th {\n",
       "        vertical-align: top;\n",
       "    }\n",
       "\n",
       "    .dataframe thead th {\n",
       "        text-align: right;\n",
       "    }\n",
       "</style>\n",
       "<table border=\"1\" class=\"dataframe\">\n",
       "  <thead>\n",
       "    <tr style=\"text-align: right;\">\n",
       "      <th></th>\n",
       "      <th>Case Number</th>\n",
       "      <th>Date</th>\n",
       "      <th>Year</th>\n",
       "      <th>Type</th>\n",
       "      <th>Country</th>\n",
       "      <th>Area</th>\n",
       "      <th>Location</th>\n",
       "      <th>Activity</th>\n",
       "      <th>Name</th>\n",
       "      <th>Sex</th>\n",
       "      <th>...</th>\n",
       "      <th>Species</th>\n",
       "      <th>Investigator or Source</th>\n",
       "      <th>pdf</th>\n",
       "      <th>href formula</th>\n",
       "      <th>href</th>\n",
       "      <th>Case Number.1</th>\n",
       "      <th>Case Number.2</th>\n",
       "      <th>original order</th>\n",
       "      <th>Unnamed: 22</th>\n",
       "      <th>Unnamed: 23</th>\n",
       "    </tr>\n",
       "  </thead>\n",
       "  <tbody>\n",
       "    <tr>\n",
       "      <th>187</th>\n",
       "      <td>2017.01.08.R</td>\n",
       "      <td>Reported 08-Jan-2017</td>\n",
       "      <td>NaN</td>\n",
       "      <td>Invalid</td>\n",
       "      <td>AUSTRALIA</td>\n",
       "      <td>Queensland</td>\n",
       "      <td>NaN</td>\n",
       "      <td>Spearfishing</td>\n",
       "      <td>Kerry Daniel</td>\n",
       "      <td>M</td>\n",
       "      <td>...</td>\n",
       "      <td>Bull shark</td>\n",
       "      <td>Liquid Vision 1/8/2017</td>\n",
       "      <td>2017.01.08.R-KerryDaniel.pdf</td>\n",
       "      <td>http://sharkattackfile.net/spreadsheets/pdf_di...</td>\n",
       "      <td>http://sharkattackfile.net/spreadsheets/pdf_di...</td>\n",
       "      <td>2017.01.08.R</td>\n",
       "      <td>2017.01.08.R</td>\n",
       "      <td>6116.0</td>\n",
       "      <td>NaN</td>\n",
       "      <td>NaN</td>\n",
       "    </tr>\n",
       "    <tr>\n",
       "      <th>6079</th>\n",
       "      <td>1836.08.19.R</td>\n",
       "      <td>Reported 19-Aug-1836</td>\n",
       "      <td>NaN</td>\n",
       "      <td>Unprovoked</td>\n",
       "      <td>ENGLAND</td>\n",
       "      <td>Cumberland</td>\n",
       "      <td>Whitehaven</td>\n",
       "      <td>Swimming</td>\n",
       "      <td>a boy</td>\n",
       "      <td>M</td>\n",
       "      <td>...</td>\n",
       "      <td>NaN</td>\n",
       "      <td>C. Moore, GSAF</td>\n",
       "      <td>1835.08.19.R-Whitehaven.pdf</td>\n",
       "      <td>http://sharkattackfile.net/spreadsheets/pdf_di...</td>\n",
       "      <td>http://sharkattackfile.net/spreadsheets/pdf_di...</td>\n",
       "      <td>1836.08.19.R</td>\n",
       "      <td>1836.08.19.R</td>\n",
       "      <td>224.0</td>\n",
       "      <td>NaN</td>\n",
       "      <td>NaN</td>\n",
       "    </tr>\n",
       "  </tbody>\n",
       "</table>\n",
       "<p>2 rows × 24 columns</p>\n",
       "</div>"
      ],
      "text/plain": [
       "       Case Number                  Date  Year        Type    Country  \\\n",
       "187   2017.01.08.R  Reported 08-Jan-2017   NaN     Invalid  AUSTRALIA   \n",
       "6079  1836.08.19.R  Reported 19-Aug-1836   NaN  Unprovoked    ENGLAND   \n",
       "\n",
       "            Area    Location      Activity          Name Sex   ...  \\\n",
       "187   Queensland         NaN  Spearfishing  Kerry Daniel    M  ...   \n",
       "6079  Cumberland  Whitehaven      Swimming         a boy    M  ...   \n",
       "\n",
       "        Species   Investigator or Source                           pdf  \\\n",
       "187   Bull shark  Liquid Vision 1/8/2017  2017.01.08.R-KerryDaniel.pdf   \n",
       "6079         NaN          C. Moore, GSAF   1835.08.19.R-Whitehaven.pdf   \n",
       "\n",
       "                                           href formula  \\\n",
       "187   http://sharkattackfile.net/spreadsheets/pdf_di...   \n",
       "6079  http://sharkattackfile.net/spreadsheets/pdf_di...   \n",
       "\n",
       "                                                   href Case Number.1  \\\n",
       "187   http://sharkattackfile.net/spreadsheets/pdf_di...  2017.01.08.R   \n",
       "6079  http://sharkattackfile.net/spreadsheets/pdf_di...  1836.08.19.R   \n",
       "\n",
       "     Case Number.2 original order Unnamed: 22 Unnamed: 23  \n",
       "187   2017.01.08.R         6116.0         NaN         NaN  \n",
       "6079  1836.08.19.R          224.0         NaN         NaN  \n",
       "\n",
       "[2 rows x 24 columns]"
      ]
     },
     "execution_count": 27,
     "metadata": {},
     "output_type": "execute_result"
    }
   ],
   "source": [
    "data[data[\"Year\"].isnull()]"
   ]
  },
  {
   "cell_type": "code",
   "execution_count": 28,
   "id": "6cc629df",
   "metadata": {},
   "outputs": [],
   "source": [
    "data.loc[187,\"Year\"] = 2017.0"
   ]
  },
  {
   "cell_type": "code",
   "execution_count": 29,
   "id": "3c26f86a",
   "metadata": {},
   "outputs": [],
   "source": [
    "data.loc[6079,\"Year\"] = 1835.0"
   ]
  },
  {
   "cell_type": "code",
   "execution_count": 30,
   "id": "de7d36b3",
   "metadata": {},
   "outputs": [
    {
     "data": {
      "text/plain": [
       "Case Number                  0\n",
       "Date                         0\n",
       "Year                         0\n",
       "Type                         4\n",
       "Country                     50\n",
       "Area                       455\n",
       "Location                   540\n",
       "Activity                   544\n",
       "Name                       210\n",
       "Sex                        565\n",
       "Age                       2831\n",
       "Injury                      28\n",
       "Fatal (Y/N)                539\n",
       "Time                      3354\n",
       "Species                   2838\n",
       "Investigator or Source      17\n",
       "pdf                          0\n",
       "href formula                 1\n",
       "href                         0\n",
       "Case Number.1                0\n",
       "Case Number.2                0\n",
       "original order               0\n",
       "Unnamed: 22               6301\n",
       "Unnamed: 23               6300\n",
       "dtype: int64"
      ]
     },
     "execution_count": 30,
     "metadata": {},
     "output_type": "execute_result"
    }
   ],
   "source": [
    "data.isnull().sum()\n",
    "#lets look at types"
   ]
  },
  {
   "cell_type": "code",
   "execution_count": 31,
   "id": "b055cdee",
   "metadata": {},
   "outputs": [
    {
     "data": {
      "text/html": [
       "<div>\n",
       "<style scoped>\n",
       "    .dataframe tbody tr th:only-of-type {\n",
       "        vertical-align: middle;\n",
       "    }\n",
       "\n",
       "    .dataframe tbody tr th {\n",
       "        vertical-align: top;\n",
       "    }\n",
       "\n",
       "    .dataframe thead th {\n",
       "        text-align: right;\n",
       "    }\n",
       "</style>\n",
       "<table border=\"1\" class=\"dataframe\">\n",
       "  <thead>\n",
       "    <tr style=\"text-align: right;\">\n",
       "      <th></th>\n",
       "      <th>Case Number</th>\n",
       "      <th>Date</th>\n",
       "      <th>Year</th>\n",
       "      <th>Type</th>\n",
       "      <th>Country</th>\n",
       "      <th>Area</th>\n",
       "      <th>Location</th>\n",
       "      <th>Activity</th>\n",
       "      <th>Name</th>\n",
       "      <th>Sex</th>\n",
       "      <th>...</th>\n",
       "      <th>Species</th>\n",
       "      <th>Investigator or Source</th>\n",
       "      <th>pdf</th>\n",
       "      <th>href formula</th>\n",
       "      <th>href</th>\n",
       "      <th>Case Number.1</th>\n",
       "      <th>Case Number.2</th>\n",
       "      <th>original order</th>\n",
       "      <th>Unnamed: 22</th>\n",
       "      <th>Unnamed: 23</th>\n",
       "    </tr>\n",
       "  </thead>\n",
       "  <tbody>\n",
       "    <tr>\n",
       "      <th>85</th>\n",
       "      <td>2017.09.15.a</td>\n",
       "      <td>15-Sep-2017</td>\n",
       "      <td>2017.0</td>\n",
       "      <td>NaN</td>\n",
       "      <td>SAMOA</td>\n",
       "      <td>Upolu Island</td>\n",
       "      <td>Nofoalii</td>\n",
       "      <td>Fishing</td>\n",
       "      <td>male</td>\n",
       "      <td>M</td>\n",
       "      <td>...</td>\n",
       "      <td>NaN</td>\n",
       "      <td>Samoa Observer, 9/16/2017</td>\n",
       "      <td>2017.09.15.a-Samoa.pdf</td>\n",
       "      <td>http://sharkattackfile.net/spreadsheets/pdf_di...</td>\n",
       "      <td>http://sharkattackfile.net/spreadsheets/pdf_di...</td>\n",
       "      <td>2017.09.15.a</td>\n",
       "      <td>2017.09.15.a</td>\n",
       "      <td>6218.0</td>\n",
       "      <td>NaN</td>\n",
       "      <td>NaN</td>\n",
       "    </tr>\n",
       "    <tr>\n",
       "      <th>382</th>\n",
       "      <td>2015.07.27</td>\n",
       "      <td>27-Jul-2015</td>\n",
       "      <td>2015.0</td>\n",
       "      <td>NaN</td>\n",
       "      <td>AUSTRALIA</td>\n",
       "      <td>Victoria</td>\n",
       "      <td>Tyrendarra Beach</td>\n",
       "      <td>Surfing</td>\n",
       "      <td>male</td>\n",
       "      <td>M</td>\n",
       "      <td>...</td>\n",
       "      <td>NaN</td>\n",
       "      <td>NaN</td>\n",
       "      <td>2015.07.27-Victoria.pdf</td>\n",
       "      <td>http://sharkattackfile.net/spreadsheets/pdf_di...</td>\n",
       "      <td>http://sharkattackfile.net/spreadsheets/pdf_di...</td>\n",
       "      <td>2015.07.27</td>\n",
       "      <td>2015.07.27</td>\n",
       "      <td>5921.0</td>\n",
       "      <td>NaN</td>\n",
       "      <td>NaN</td>\n",
       "    </tr>\n",
       "    <tr>\n",
       "      <th>4867</th>\n",
       "      <td>1936.09.11.R</td>\n",
       "      <td>Reported 11-Sep-1936</td>\n",
       "      <td>1936.0</td>\n",
       "      <td>NaN</td>\n",
       "      <td>VIETNAM</td>\n",
       "      <td>NaN</td>\n",
       "      <td>Saigon</td>\n",
       "      <td>Wreck of a sampam</td>\n",
       "      <td>8 crew</td>\n",
       "      <td>M</td>\n",
       "      <td>...</td>\n",
       "      <td>NaN</td>\n",
       "      <td>Lansing State Journal, 9/11/1936</td>\n",
       "      <td>1936.09.11-Saigon.pdf</td>\n",
       "      <td>http://sharkattackfile.net/spreadsheets/pdf_di...</td>\n",
       "      <td>http://sharkattackfile.net/spreadsheets/pdf_di...</td>\n",
       "      <td>1936.09.11.R</td>\n",
       "      <td>1936.09.11.R</td>\n",
       "      <td>1436.0</td>\n",
       "      <td>NaN</td>\n",
       "      <td>NaN</td>\n",
       "    </tr>\n",
       "    <tr>\n",
       "      <th>5705</th>\n",
       "      <td>1890.03.03.R</td>\n",
       "      <td>Reported 03-Mar-1890</td>\n",
       "      <td>1890.0</td>\n",
       "      <td>NaN</td>\n",
       "      <td>CEYLON</td>\n",
       "      <td>NaN</td>\n",
       "      <td>NaN</td>\n",
       "      <td>Diving</td>\n",
       "      <td>a pearl diver</td>\n",
       "      <td>M</td>\n",
       "      <td>...</td>\n",
       "      <td>NaN</td>\n",
       "      <td>The Guardian, 3/3/1890</td>\n",
       "      <td>1890.03.03.R-Ceylon.pdf</td>\n",
       "      <td>http://sharkattackfile.net/spreadsheets/pdf_di...</td>\n",
       "      <td>http://sharkattackfile.net/spreadsheets/pdf_di...</td>\n",
       "      <td>1890.03.03.R</td>\n",
       "      <td>1890.03.03.R</td>\n",
       "      <td>598.0</td>\n",
       "      <td>NaN</td>\n",
       "      <td>NaN</td>\n",
       "    </tr>\n",
       "  </tbody>\n",
       "</table>\n",
       "<p>4 rows × 24 columns</p>\n",
       "</div>"
      ],
      "text/plain": [
       "       Case Number                  Date    Year Type    Country  \\\n",
       "85    2017.09.15.a           15-Sep-2017  2017.0  NaN      SAMOA   \n",
       "382     2015.07.27           27-Jul-2015  2015.0  NaN  AUSTRALIA   \n",
       "4867  1936.09.11.R  Reported 11-Sep-1936  1936.0  NaN    VIETNAM   \n",
       "5705  1890.03.03.R  Reported 03-Mar-1890  1890.0  NaN     CEYLON   \n",
       "\n",
       "               Area          Location           Activity           Name Sex   \\\n",
       "85     Upolu Island         Nofoalii            Fishing           male    M   \n",
       "382        Victoria  Tyrendarra Beach            Surfing           male    M   \n",
       "4867            NaN            Saigon  Wreck of a sampam         8 crew    M   \n",
       "5705            NaN               NaN             Diving  a pearl diver    M   \n",
       "\n",
       "      ... Species             Investigator or Source                      pdf  \\\n",
       "85    ...      NaN         Samoa Observer, 9/16/2017   2017.09.15.a-Samoa.pdf   \n",
       "382   ...      NaN                               NaN  2015.07.27-Victoria.pdf   \n",
       "4867  ...      NaN  Lansing State Journal, 9/11/1936    1936.09.11-Saigon.pdf   \n",
       "5705  ...      NaN            The Guardian, 3/3/1890  1890.03.03.R-Ceylon.pdf   \n",
       "\n",
       "                                           href formula  \\\n",
       "85    http://sharkattackfile.net/spreadsheets/pdf_di...   \n",
       "382   http://sharkattackfile.net/spreadsheets/pdf_di...   \n",
       "4867  http://sharkattackfile.net/spreadsheets/pdf_di...   \n",
       "5705  http://sharkattackfile.net/spreadsheets/pdf_di...   \n",
       "\n",
       "                                                   href Case Number.1  \\\n",
       "85    http://sharkattackfile.net/spreadsheets/pdf_di...  2017.09.15.a   \n",
       "382   http://sharkattackfile.net/spreadsheets/pdf_di...    2015.07.27   \n",
       "4867  http://sharkattackfile.net/spreadsheets/pdf_di...  1936.09.11.R   \n",
       "5705  http://sharkattackfile.net/spreadsheets/pdf_di...  1890.03.03.R   \n",
       "\n",
       "     Case Number.2 original order Unnamed: 22 Unnamed: 23  \n",
       "85    2017.09.15.a         6218.0         NaN         NaN  \n",
       "382     2015.07.27         5921.0         NaN         NaN  \n",
       "4867  1936.09.11.R         1436.0         NaN         NaN  \n",
       "5705  1890.03.03.R          598.0         NaN         NaN  \n",
       "\n",
       "[4 rows x 24 columns]"
      ]
     },
     "execution_count": 31,
     "metadata": {},
     "output_type": "execute_result"
    }
   ],
   "source": [
    "data[data[\"Type\"].isnull()]"
   ]
  },
  {
   "cell_type": "code",
   "execution_count": 32,
   "id": "5c8dac49",
   "metadata": {},
   "outputs": [
    {
     "data": {
      "text/plain": [
       "Unprovoked      4595\n",
       "Provoked         574\n",
       "Invalid          547\n",
       "Sea Disaster     239\n",
       "Boating          203\n",
       "Boat             137\n",
       "Questionable       2\n",
       "Boatomg            1\n",
       "Name: Type, dtype: int64"
      ]
     },
     "execution_count": 32,
     "metadata": {},
     "output_type": "execute_result"
    }
   ],
   "source": [
    "data[\"Type\"].value_counts()"
   ]
  },
  {
   "cell_type": "code",
   "execution_count": 33,
   "id": "9551071e",
   "metadata": {},
   "outputs": [],
   "source": [
    "data[['Type']] = data[['Type']].fillna(\"Invalid\")\n",
    "#null values to Invalid"
   ]
  },
  {
   "cell_type": "code",
   "execution_count": 34,
   "id": "d92fca94",
   "metadata": {},
   "outputs": [
    {
     "data": {
      "text/plain": [
       "Case Number                  0\n",
       "Date                         0\n",
       "Year                         0\n",
       "Type                         0\n",
       "Country                     50\n",
       "Area                       455\n",
       "Location                   540\n",
       "Activity                   544\n",
       "Name                       210\n",
       "Sex                        565\n",
       "Age                       2831\n",
       "Injury                      28\n",
       "Fatal (Y/N)                539\n",
       "Time                      3354\n",
       "Species                   2838\n",
       "Investigator or Source      17\n",
       "pdf                          0\n",
       "href formula                 1\n",
       "href                         0\n",
       "Case Number.1                0\n",
       "Case Number.2                0\n",
       "original order               0\n",
       "Unnamed: 22               6301\n",
       "Unnamed: 23               6300\n",
       "dtype: int64"
      ]
     },
     "execution_count": 34,
     "metadata": {},
     "output_type": "execute_result"
    }
   ],
   "source": [
    "data.isnull().sum()"
   ]
  },
  {
   "cell_type": "code",
   "execution_count": 35,
   "id": "1b0be3e6",
   "metadata": {},
   "outputs": [
    {
     "data": {
      "text/html": [
       "<div>\n",
       "<style scoped>\n",
       "    .dataframe tbody tr th:only-of-type {\n",
       "        vertical-align: middle;\n",
       "    }\n",
       "\n",
       "    .dataframe tbody tr th {\n",
       "        vertical-align: top;\n",
       "    }\n",
       "\n",
       "    .dataframe thead th {\n",
       "        text-align: right;\n",
       "    }\n",
       "</style>\n",
       "<table border=\"1\" class=\"dataframe\">\n",
       "  <thead>\n",
       "    <tr style=\"text-align: right;\">\n",
       "      <th></th>\n",
       "      <th>Case Number</th>\n",
       "      <th>Date</th>\n",
       "      <th>Year</th>\n",
       "      <th>Type</th>\n",
       "      <th>Country</th>\n",
       "      <th>Area</th>\n",
       "      <th>Location</th>\n",
       "      <th>Activity</th>\n",
       "      <th>Name</th>\n",
       "      <th>Sex</th>\n",
       "      <th>...</th>\n",
       "      <th>Species</th>\n",
       "      <th>Investigator or Source</th>\n",
       "      <th>pdf</th>\n",
       "      <th>href formula</th>\n",
       "      <th>href</th>\n",
       "      <th>Case Number.1</th>\n",
       "      <th>Case Number.2</th>\n",
       "      <th>original order</th>\n",
       "      <th>Unnamed: 22</th>\n",
       "      <th>Unnamed: 23</th>\n",
       "    </tr>\n",
       "  </thead>\n",
       "  <tbody>\n",
       "    <tr>\n",
       "      <th>119</th>\n",
       "      <td>2017.07.14.a</td>\n",
       "      <td>14-Jul-2017</td>\n",
       "      <td>2017.0</td>\n",
       "      <td>Unprovoked</td>\n",
       "      <td>AUSTRALIA</td>\n",
       "      <td>Western Australia</td>\n",
       "      <td>Floreat Beach</td>\n",
       "      <td>Surfing</td>\n",
       "      <td>male</td>\n",
       "      <td>M</td>\n",
       "      <td>...</td>\n",
       "      <td>NaN</td>\n",
       "      <td>NaN</td>\n",
       "      <td>2017.07.14.a-Floreat.pdf</td>\n",
       "      <td>http://sharkattackfile.net/spreadsheets/pdf_di...</td>\n",
       "      <td>http://sharkattackfile.net/spreadsheets/pdf_di...</td>\n",
       "      <td>2017.07.14.a</td>\n",
       "      <td>2017.07.14.a</td>\n",
       "      <td>6184.0</td>\n",
       "      <td>NaN</td>\n",
       "      <td>NaN</td>\n",
       "    </tr>\n",
       "    <tr>\n",
       "      <th>290</th>\n",
       "      <td>2016.04.07.b</td>\n",
       "      <td>07-Apr-2016</td>\n",
       "      <td>2016.0</td>\n",
       "      <td>Unprovoked</td>\n",
       "      <td>USA</td>\n",
       "      <td>Florida</td>\n",
       "      <td>Florida Keys, Monroe County</td>\n",
       "      <td>Fishing</td>\n",
       "      <td>Jonathan Lester</td>\n",
       "      <td>M</td>\n",
       "      <td>...</td>\n",
       "      <td>5' to 6' shark</td>\n",
       "      <td>NaN</td>\n",
       "      <td>2016.04.07.b-Lester.pdf</td>\n",
       "      <td>http://sharkattackfile.net/spreadsheets/pdf_di...</td>\n",
       "      <td>http://sharkattackfile.net/spreadsheets/pdf_di...</td>\n",
       "      <td>2016.04.07.b</td>\n",
       "      <td>2016.04.07.b</td>\n",
       "      <td>6013.0</td>\n",
       "      <td>NaN</td>\n",
       "      <td>NaN</td>\n",
       "    </tr>\n",
       "    <tr>\n",
       "      <th>382</th>\n",
       "      <td>2015.07.27</td>\n",
       "      <td>27-Jul-2015</td>\n",
       "      <td>2015.0</td>\n",
       "      <td>Invalid</td>\n",
       "      <td>AUSTRALIA</td>\n",
       "      <td>Victoria</td>\n",
       "      <td>Tyrendarra Beach</td>\n",
       "      <td>Surfing</td>\n",
       "      <td>male</td>\n",
       "      <td>M</td>\n",
       "      <td>...</td>\n",
       "      <td>NaN</td>\n",
       "      <td>NaN</td>\n",
       "      <td>2015.07.27-Victoria.pdf</td>\n",
       "      <td>http://sharkattackfile.net/spreadsheets/pdf_di...</td>\n",
       "      <td>http://sharkattackfile.net/spreadsheets/pdf_di...</td>\n",
       "      <td>2015.07.27</td>\n",
       "      <td>2015.07.27</td>\n",
       "      <td>5921.0</td>\n",
       "      <td>NaN</td>\n",
       "      <td>NaN</td>\n",
       "    </tr>\n",
       "    <tr>\n",
       "      <th>631</th>\n",
       "      <td>2013.08.31.b</td>\n",
       "      <td>31-Aug-2013</td>\n",
       "      <td>2013.0</td>\n",
       "      <td>Unprovoked</td>\n",
       "      <td>BAHAMAS</td>\n",
       "      <td>NaN</td>\n",
       "      <td>Freetown Beach</td>\n",
       "      <td>Spearfishing</td>\n",
       "      <td>Bryan Collins</td>\n",
       "      <td>M</td>\n",
       "      <td>...</td>\n",
       "      <td>Blacktip shark</td>\n",
       "      <td>NaN</td>\n",
       "      <td>2013.08.31.b-Collins.pdf</td>\n",
       "      <td>http://sharkattackfile.net/spreadsheets/pdf_di...</td>\n",
       "      <td>http://sharkattackfile.net/spreadsheets/pdf_di...</td>\n",
       "      <td>2013.08.31.b</td>\n",
       "      <td>2013.08.31.b</td>\n",
       "      <td>5672.0</td>\n",
       "      <td>NaN</td>\n",
       "      <td>NaN</td>\n",
       "    </tr>\n",
       "    <tr>\n",
       "      <th>1130</th>\n",
       "      <td>2009.04.28</td>\n",
       "      <td>28-Apr-2009</td>\n",
       "      <td>2009.0</td>\n",
       "      <td>Unprovoked</td>\n",
       "      <td>USA</td>\n",
       "      <td>Florida</td>\n",
       "      <td>St. Augustine, St. John's County</td>\n",
       "      <td>NaN</td>\n",
       "      <td>Alicia</td>\n",
       "      <td>F</td>\n",
       "      <td>...</td>\n",
       "      <td>NaN</td>\n",
       "      <td>NaN</td>\n",
       "      <td>2009.04.28-Alicia.pdf</td>\n",
       "      <td>http://sharkattackfile.net/spreadsheets/pdf_di...</td>\n",
       "      <td>http://sharkattackfile.net/spreadsheets/pdf_di...</td>\n",
       "      <td>2009.04.28</td>\n",
       "      <td>2009.04.28</td>\n",
       "      <td>5173.0</td>\n",
       "      <td>NaN</td>\n",
       "      <td>NaN</td>\n",
       "    </tr>\n",
       "    <tr>\n",
       "      <th>1242</th>\n",
       "      <td>2008.06.28.a</td>\n",
       "      <td>28-Jun-2008</td>\n",
       "      <td>2008.0</td>\n",
       "      <td>Unprovoked</td>\n",
       "      <td>SOUTH AFRICA</td>\n",
       "      <td>Western Cape Province</td>\n",
       "      <td>Mossel Bay</td>\n",
       "      <td>Surf skiing</td>\n",
       "      <td>Kobus Maritz</td>\n",
       "      <td>M</td>\n",
       "      <td>...</td>\n",
       "      <td>White shark, 2m</td>\n",
       "      <td>NaN</td>\n",
       "      <td>2008.06.28.a-Maritz.pdf</td>\n",
       "      <td>http://sharkattackfile.net/spreadsheets/pdf_di...</td>\n",
       "      <td>http://sharkattackfile.net/spreadsheets/pdf_di...</td>\n",
       "      <td>2008.06.28.a</td>\n",
       "      <td>2008.06.28.a</td>\n",
       "      <td>5061.0</td>\n",
       "      <td>NaN</td>\n",
       "      <td>NaN</td>\n",
       "    </tr>\n",
       "    <tr>\n",
       "      <th>2125</th>\n",
       "      <td>1999.04.22</td>\n",
       "      <td>22-Apr-1999</td>\n",
       "      <td>1999.0</td>\n",
       "      <td>Unprovoked</td>\n",
       "      <td>MAURITIUS</td>\n",
       "      <td>Grand Baie</td>\n",
       "      <td>Pointe aux Canonniers</td>\n",
       "      <td>Swimming</td>\n",
       "      <td>Sylvia Lanner</td>\n",
       "      <td>F</td>\n",
       "      <td>...</td>\n",
       "      <td>Grey reef shark, 1.5 m</td>\n",
       "      <td>NaN</td>\n",
       "      <td>1999.04.22-Lanner.pdf</td>\n",
       "      <td>http://sharkattackfile.net/spreadsheets/pdf_di...</td>\n",
       "      <td>http://sharkattackfile.net/spreadsheets/pdf_di...</td>\n",
       "      <td>1999.04.22</td>\n",
       "      <td>1999.04.22</td>\n",
       "      <td>4178.0</td>\n",
       "      <td>NaN</td>\n",
       "      <td>NaN</td>\n",
       "    </tr>\n",
       "    <tr>\n",
       "      <th>2144</th>\n",
       "      <td>1999.00.00.a</td>\n",
       "      <td>1999</td>\n",
       "      <td>1999.0</td>\n",
       "      <td>Invalid</td>\n",
       "      <td>USA</td>\n",
       "      <td>Virginia</td>\n",
       "      <td>Sandridge Beach, Virginia Beach, Princess Anne...</td>\n",
       "      <td>Body surfing</td>\n",
       "      <td>male</td>\n",
       "      <td>M</td>\n",
       "      <td>...</td>\n",
       "      <td>Shark involvement not confirmed</td>\n",
       "      <td>NaN</td>\n",
       "      <td>1999.00.00.a-NV-SandridgeBeach.pdf</td>\n",
       "      <td>http://sharkattackfile.net/spreadsheets/pdf_di...</td>\n",
       "      <td>http://sharkattackfile.net/spreadsheets/pdf_di...</td>\n",
       "      <td>1999.00.00.a</td>\n",
       "      <td>1999.00.00.a</td>\n",
       "      <td>4159.0</td>\n",
       "      <td>NaN</td>\n",
       "      <td>NaN</td>\n",
       "    </tr>\n",
       "    <tr>\n",
       "      <th>2460</th>\n",
       "      <td>1994.00.00.a</td>\n",
       "      <td>1994</td>\n",
       "      <td>1994.0</td>\n",
       "      <td>Unprovoked</td>\n",
       "      <td>USA</td>\n",
       "      <td>Florida</td>\n",
       "      <td>Flagler Beach, Flagler County</td>\n",
       "      <td>Surfing</td>\n",
       "      <td>Jeff Weakley</td>\n",
       "      <td>M</td>\n",
       "      <td>...</td>\n",
       "      <td>NaN</td>\n",
       "      <td>NaN</td>\n",
       "      <td>1994.00.00.a--JeffWeakley.pdf</td>\n",
       "      <td>http://sharkattackfile.net/spreadsheets/pdf_di...</td>\n",
       "      <td>http://sharkattackfile.net/spreadsheets/pdf_di...</td>\n",
       "      <td>1994.00.00.a</td>\n",
       "      <td>1994.00.00.a</td>\n",
       "      <td>3843.0</td>\n",
       "      <td>NaN</td>\n",
       "      <td>NaN</td>\n",
       "    </tr>\n",
       "    <tr>\n",
       "      <th>2648</th>\n",
       "      <td>1990.00.00</td>\n",
       "      <td>1990</td>\n",
       "      <td>1990.0</td>\n",
       "      <td>Unprovoked</td>\n",
       "      <td>USA</td>\n",
       "      <td>Florida</td>\n",
       "      <td>Pensacola, Escambia County</td>\n",
       "      <td>Surfing</td>\n",
       "      <td>male</td>\n",
       "      <td>M</td>\n",
       "      <td>...</td>\n",
       "      <td>NaN</td>\n",
       "      <td>NaN</td>\n",
       "      <td>1990.00.00-NV-Pensacola.pdf</td>\n",
       "      <td>http://sharkattackfile.net/spreadsheets/pdf_di...</td>\n",
       "      <td>http://sharkattackfile.net/spreadsheets/pdf_di...</td>\n",
       "      <td>1990.00.00</td>\n",
       "      <td>1990.00.00</td>\n",
       "      <td>3655.0</td>\n",
       "      <td>NaN</td>\n",
       "      <td>NaN</td>\n",
       "    </tr>\n",
       "    <tr>\n",
       "      <th>3508</th>\n",
       "      <td>1967.09.07.a</td>\n",
       "      <td>07-Sep-1967</td>\n",
       "      <td>1967.0</td>\n",
       "      <td>Unprovoked</td>\n",
       "      <td>USA</td>\n",
       "      <td>Florida</td>\n",
       "      <td>Key West, Monroe County</td>\n",
       "      <td>Spearfishing</td>\n",
       "      <td>NaN</td>\n",
       "      <td>NaN</td>\n",
       "      <td>...</td>\n",
       "      <td>NaN</td>\n",
       "      <td>NaN</td>\n",
       "      <td>1967.09.07.a-NV-KeyWest.pdf</td>\n",
       "      <td>http://sharkattackfile.net/spreadsheets/pdf_di...</td>\n",
       "      <td>http://sharkattackfile.net/spreadsheets/pdf_di...</td>\n",
       "      <td>1967.09.07.a</td>\n",
       "      <td>1967.09.07.a</td>\n",
       "      <td>2795.0</td>\n",
       "      <td>NaN</td>\n",
       "      <td>NaN</td>\n",
       "    </tr>\n",
       "    <tr>\n",
       "      <th>3691</th>\n",
       "      <td>1964.03.00</td>\n",
       "      <td>Mar-1964</td>\n",
       "      <td>1964.0</td>\n",
       "      <td>Unprovoked</td>\n",
       "      <td>SENEGAL</td>\n",
       "      <td>Cap Vert Peninsula</td>\n",
       "      <td>Bel Air, Dakar</td>\n",
       "      <td>Free diving for shell</td>\n",
       "      <td>O.D.</td>\n",
       "      <td>M</td>\n",
       "      <td>...</td>\n",
       "      <td>3 m shark</td>\n",
       "      <td>NaN</td>\n",
       "      <td>1964.03.00-Senegal.pdf</td>\n",
       "      <td>http://sharkattackfile.net/spreadsheets/pdf_di...</td>\n",
       "      <td>http://sharkattackfile.net/spreadsheets/pdf_di...</td>\n",
       "      <td>1964.03.00</td>\n",
       "      <td>1964.03.00</td>\n",
       "      <td>2612.0</td>\n",
       "      <td>NaN</td>\n",
       "      <td>NaN</td>\n",
       "    </tr>\n",
       "    <tr>\n",
       "      <th>4058</th>\n",
       "      <td>1959.09.27</td>\n",
       "      <td>27-Sep-1959</td>\n",
       "      <td>1959.0</td>\n",
       "      <td>Invalid</td>\n",
       "      <td>BERMUDA</td>\n",
       "      <td>Hamilton</td>\n",
       "      <td>Astwood's Cove</td>\n",
       "      <td>NaN</td>\n",
       "      <td>Dorothy Barbara Rawlinson</td>\n",
       "      <td>F</td>\n",
       "      <td>...</td>\n",
       "      <td>Shark involvement prior to death was not confi...</td>\n",
       "      <td>NaN</td>\n",
       "      <td>1959.09.27-Rawlinson.pdf</td>\n",
       "      <td>http://sharkattackfile.net/spreadsheets/pdf_di...</td>\n",
       "      <td>http://sharkattackfile.net/spreadsheets/pdf_di...</td>\n",
       "      <td>1959.09.27</td>\n",
       "      <td>1959.09.27</td>\n",
       "      <td>2245.0</td>\n",
       "      <td>NaN</td>\n",
       "      <td>NaN</td>\n",
       "    </tr>\n",
       "    <tr>\n",
       "      <th>4101</th>\n",
       "      <td>1959.04.09..a</td>\n",
       "      <td>09-Apr-1959</td>\n",
       "      <td>1959.0</td>\n",
       "      <td>Unprovoked</td>\n",
       "      <td>SOUTH AFRICA</td>\n",
       "      <td>Eastern Cape Province</td>\n",
       "      <td>Port Elizabeth</td>\n",
       "      <td>Fishing</td>\n",
       "      <td>male</td>\n",
       "      <td>M</td>\n",
       "      <td>...</td>\n",
       "      <td>NaN</td>\n",
       "      <td>NaN</td>\n",
       "      <td>1959.04.09.a-Fisherman.pdf</td>\n",
       "      <td>http://sharkattackfile.net/spreadsheets/pdf_di...</td>\n",
       "      <td>http://sharkattackfile.net/spreadsheets/pdf_di...</td>\n",
       "      <td>1959.04.09..a</td>\n",
       "      <td>1959.04.09..a</td>\n",
       "      <td>2202.0</td>\n",
       "      <td>NaN</td>\n",
       "      <td>NaN</td>\n",
       "    </tr>\n",
       "    <tr>\n",
       "      <th>5321</th>\n",
       "      <td>1915.08.03</td>\n",
       "      <td>03-Aug-1915</td>\n",
       "      <td>1915.0</td>\n",
       "      <td>Unprovoked</td>\n",
       "      <td>USA</td>\n",
       "      <td>Florida</td>\n",
       "      <td>St. Augustine, St Johns County</td>\n",
       "      <td>NaN</td>\n",
       "      <td>M.F. Turnipseed</td>\n",
       "      <td>M</td>\n",
       "      <td>...</td>\n",
       "      <td>NaN</td>\n",
       "      <td>NaN</td>\n",
       "      <td>1915.08.03-Turnipseed.pdf</td>\n",
       "      <td>http://sharkattackfile.net/spreadsheets/pdf_di...</td>\n",
       "      <td>http://sharkattackfile.net/spreadsheets/pdf_di...</td>\n",
       "      <td>1915.08.03</td>\n",
       "      <td>1915.08.03</td>\n",
       "      <td>982.0</td>\n",
       "      <td>NaN</td>\n",
       "      <td>NaN</td>\n",
       "    </tr>\n",
       "    <tr>\n",
       "      <th>6108</th>\n",
       "      <td>1823.12.30.R</td>\n",
       "      <td>Reported 30-Dec-1823</td>\n",
       "      <td>1823.0</td>\n",
       "      <td>Invalid</td>\n",
       "      <td>JAMAICA</td>\n",
       "      <td>NaN</td>\n",
       "      <td>NaN</td>\n",
       "      <td>NaN</td>\n",
       "      <td>male</td>\n",
       "      <td>NaN</td>\n",
       "      <td>...</td>\n",
       "      <td>Shark involvement prior to death unconfirmed</td>\n",
       "      <td>NaN</td>\n",
       "      <td>1823.12.30.R-Jamaica.pdf</td>\n",
       "      <td>http://sharkattackfile.net/spreadsheets/pdf_di...</td>\n",
       "      <td>http://sharkattackfile.net/spreadsheets/pdf_di...</td>\n",
       "      <td>1823.12.30.R</td>\n",
       "      <td>1823.12.30.R</td>\n",
       "      <td>195.0</td>\n",
       "      <td>NaN</td>\n",
       "      <td>NaN</td>\n",
       "    </tr>\n",
       "    <tr>\n",
       "      <th>6147</th>\n",
       "      <td>1767.00.00</td>\n",
       "      <td>1767</td>\n",
       "      <td>1767.0</td>\n",
       "      <td>Invalid</td>\n",
       "      <td>FRANCE</td>\n",
       "      <td>Côte d'Azur</td>\n",
       "      <td>St. Tropez</td>\n",
       "      <td>Bathing</td>\n",
       "      <td>Samuel Matthews</td>\n",
       "      <td>M</td>\n",
       "      <td>...</td>\n",
       "      <td>Description of shark does not ring true</td>\n",
       "      <td>NaN</td>\n",
       "      <td>1767.00.00-Matthews.pdf</td>\n",
       "      <td>http://sharkattackfile.net/spreadsheets/pdf_di...</td>\n",
       "      <td>http://sharkattackfile.net/spreadsheets/pdf_di...</td>\n",
       "      <td>1767.00.00</td>\n",
       "      <td>1767.00.00</td>\n",
       "      <td>156.0</td>\n",
       "      <td>NaN</td>\n",
       "      <td>NaN</td>\n",
       "    </tr>\n",
       "  </tbody>\n",
       "</table>\n",
       "<p>17 rows × 24 columns</p>\n",
       "</div>"
      ],
      "text/plain": [
       "        Case Number                  Date    Year        Type       Country  \\\n",
       "119    2017.07.14.a           14-Jul-2017  2017.0  Unprovoked     AUSTRALIA   \n",
       "290    2016.04.07.b           07-Apr-2016  2016.0  Unprovoked           USA   \n",
       "382      2015.07.27           27-Jul-2015  2015.0     Invalid     AUSTRALIA   \n",
       "631    2013.08.31.b           31-Aug-2013  2013.0  Unprovoked       BAHAMAS   \n",
       "1130     2009.04.28           28-Apr-2009  2009.0  Unprovoked           USA   \n",
       "1242   2008.06.28.a           28-Jun-2008  2008.0  Unprovoked  SOUTH AFRICA   \n",
       "2125     1999.04.22           22-Apr-1999  1999.0  Unprovoked     MAURITIUS   \n",
       "2144   1999.00.00.a                  1999  1999.0     Invalid           USA   \n",
       "2460   1994.00.00.a                  1994  1994.0  Unprovoked           USA   \n",
       "2648     1990.00.00                  1990  1990.0  Unprovoked           USA   \n",
       "3508   1967.09.07.a           07-Sep-1967  1967.0  Unprovoked           USA   \n",
       "3691     1964.03.00              Mar-1964  1964.0  Unprovoked       SENEGAL   \n",
       "4058     1959.09.27           27-Sep-1959  1959.0     Invalid       BERMUDA   \n",
       "4101  1959.04.09..a           09-Apr-1959  1959.0  Unprovoked  SOUTH AFRICA   \n",
       "5321     1915.08.03           03-Aug-1915  1915.0  Unprovoked           USA   \n",
       "6108   1823.12.30.R  Reported 30-Dec-1823  1823.0     Invalid       JAMAICA   \n",
       "6147     1767.00.00                  1767  1767.0     Invalid        FRANCE   \n",
       "\n",
       "                       Area  \\\n",
       "119       Western Australia   \n",
       "290                 Florida   \n",
       "382                Victoria   \n",
       "631                     NaN   \n",
       "1130                Florida   \n",
       "1242  Western Cape Province   \n",
       "2125             Grand Baie   \n",
       "2144               Virginia   \n",
       "2460                Florida   \n",
       "2648                Florida   \n",
       "3508                Florida   \n",
       "3691     Cap Vert Peninsula   \n",
       "4058               Hamilton   \n",
       "4101  Eastern Cape Province   \n",
       "5321                Florida   \n",
       "6108                    NaN   \n",
       "6147           Côte d'Azur    \n",
       "\n",
       "                                               Location  \\\n",
       "119                                       Floreat Beach   \n",
       "290                         Florida Keys, Monroe County   \n",
       "382                                    Tyrendarra Beach   \n",
       "631                                      Freetown Beach   \n",
       "1130                   St. Augustine, St. John's County   \n",
       "1242                                         Mossel Bay   \n",
       "2125                              Pointe aux Canonniers   \n",
       "2144  Sandridge Beach, Virginia Beach, Princess Anne...   \n",
       "2460                      Flagler Beach, Flagler County   \n",
       "2648                         Pensacola, Escambia County   \n",
       "3508                            Key West, Monroe County   \n",
       "3691                                     Bel Air, Dakar   \n",
       "4058                                     Astwood's Cove   \n",
       "4101                                    Port Elizabeth    \n",
       "5321                     St. Augustine, St Johns County   \n",
       "6108                                                NaN   \n",
       "6147                                         St. Tropez   \n",
       "\n",
       "                   Activity                       Name Sex   ...  \\\n",
       "119                 Surfing                       male    M  ...   \n",
       "290                 Fishing            Jonathan Lester    M  ...   \n",
       "382                 Surfing                       male    M  ...   \n",
       "631            Spearfishing              Bryan Collins    M  ...   \n",
       "1130                    NaN                     Alicia    F  ...   \n",
       "1242           Surf skiing                Kobus Maritz    M  ...   \n",
       "2125               Swimming              Sylvia Lanner    F  ...   \n",
       "2144           Body surfing                       male    M  ...   \n",
       "2460                Surfing               Jeff Weakley    M  ...   \n",
       "2648                Surfing                       male    M  ...   \n",
       "3508           Spearfishing                        NaN  NaN  ...   \n",
       "3691  Free diving for shell                       O.D.    M  ...   \n",
       "4058                    NaN  Dorothy Barbara Rawlinson    F  ...   \n",
       "4101                Fishing                       male    M  ...   \n",
       "5321                    NaN            M.F. Turnipseed    M  ...   \n",
       "6108                    NaN                       male  NaN  ...   \n",
       "6147                Bathing            Samuel Matthews    M  ...   \n",
       "\n",
       "                                               Species   \\\n",
       "119                                                 NaN   \n",
       "290                                      5' to 6' shark   \n",
       "382                                                 NaN   \n",
       "631                                      Blacktip shark   \n",
       "1130                                                NaN   \n",
       "1242                                    White shark, 2m   \n",
       "2125                            Grey reef shark, 1.5 m    \n",
       "2144                    Shark involvement not confirmed   \n",
       "2460                                                NaN   \n",
       "2648                                                NaN   \n",
       "3508                                                NaN   \n",
       "3691                                          3 m shark   \n",
       "4058  Shark involvement prior to death was not confi...   \n",
       "4101                                                NaN   \n",
       "5321                                                NaN   \n",
       "6108       Shark involvement prior to death unconfirmed   \n",
       "6147            Description of shark does not ring true   \n",
       "\n",
       "     Investigator or Source                                 pdf  \\\n",
       "119                     NaN            2017.07.14.a-Floreat.pdf   \n",
       "290                     NaN             2016.04.07.b-Lester.pdf   \n",
       "382                     NaN             2015.07.27-Victoria.pdf   \n",
       "631                     NaN            2013.08.31.b-Collins.pdf   \n",
       "1130                    NaN               2009.04.28-Alicia.pdf   \n",
       "1242                    NaN             2008.06.28.a-Maritz.pdf   \n",
       "2125                    NaN               1999.04.22-Lanner.pdf   \n",
       "2144                    NaN  1999.00.00.a-NV-SandridgeBeach.pdf   \n",
       "2460                    NaN       1994.00.00.a--JeffWeakley.pdf   \n",
       "2648                    NaN         1990.00.00-NV-Pensacola.pdf   \n",
       "3508                    NaN         1967.09.07.a-NV-KeyWest.pdf   \n",
       "3691                    NaN              1964.03.00-Senegal.pdf   \n",
       "4058                    NaN            1959.09.27-Rawlinson.pdf   \n",
       "4101                    NaN          1959.04.09.a-Fisherman.pdf   \n",
       "5321                    NaN           1915.08.03-Turnipseed.pdf   \n",
       "6108                    NaN            1823.12.30.R-Jamaica.pdf   \n",
       "6147                    NaN             1767.00.00-Matthews.pdf   \n",
       "\n",
       "                                           href formula  \\\n",
       "119   http://sharkattackfile.net/spreadsheets/pdf_di...   \n",
       "290   http://sharkattackfile.net/spreadsheets/pdf_di...   \n",
       "382   http://sharkattackfile.net/spreadsheets/pdf_di...   \n",
       "631   http://sharkattackfile.net/spreadsheets/pdf_di...   \n",
       "1130  http://sharkattackfile.net/spreadsheets/pdf_di...   \n",
       "1242  http://sharkattackfile.net/spreadsheets/pdf_di...   \n",
       "2125  http://sharkattackfile.net/spreadsheets/pdf_di...   \n",
       "2144  http://sharkattackfile.net/spreadsheets/pdf_di...   \n",
       "2460  http://sharkattackfile.net/spreadsheets/pdf_di...   \n",
       "2648  http://sharkattackfile.net/spreadsheets/pdf_di...   \n",
       "3508  http://sharkattackfile.net/spreadsheets/pdf_di...   \n",
       "3691  http://sharkattackfile.net/spreadsheets/pdf_di...   \n",
       "4058  http://sharkattackfile.net/spreadsheets/pdf_di...   \n",
       "4101  http://sharkattackfile.net/spreadsheets/pdf_di...   \n",
       "5321  http://sharkattackfile.net/spreadsheets/pdf_di...   \n",
       "6108  http://sharkattackfile.net/spreadsheets/pdf_di...   \n",
       "6147  http://sharkattackfile.net/spreadsheets/pdf_di...   \n",
       "\n",
       "                                                   href  Case Number.1  \\\n",
       "119   http://sharkattackfile.net/spreadsheets/pdf_di...   2017.07.14.a   \n",
       "290   http://sharkattackfile.net/spreadsheets/pdf_di...   2016.04.07.b   \n",
       "382   http://sharkattackfile.net/spreadsheets/pdf_di...     2015.07.27   \n",
       "631   http://sharkattackfile.net/spreadsheets/pdf_di...   2013.08.31.b   \n",
       "1130  http://sharkattackfile.net/spreadsheets/pdf_di...     2009.04.28   \n",
       "1242  http://sharkattackfile.net/spreadsheets/pdf_di...   2008.06.28.a   \n",
       "2125  http://sharkattackfile.net/spreadsheets/pdf_di...     1999.04.22   \n",
       "2144  http://sharkattackfile.net/spreadsheets/pdf_di...   1999.00.00.a   \n",
       "2460  http://sharkattackfile.net/spreadsheets/pdf_di...   1994.00.00.a   \n",
       "2648  http://sharkattackfile.net/spreadsheets/pdf_di...     1990.00.00   \n",
       "3508  http://sharkattackfile.net/spreadsheets/pdf_di...   1967.09.07.a   \n",
       "3691  http://sharkattackfile.net/spreadsheets/pdf_di...     1964.03.00   \n",
       "4058  http://sharkattackfile.net/spreadsheets/pdf_di...     1959.09.27   \n",
       "4101  http://sharkattackfile.net/spreadsheets/pdf_di...  1959.04.09..a   \n",
       "5321  http://sharkattackfile.net/spreadsheets/pdf_di...     1915.08.03   \n",
       "6108  http://sharkattackfile.net/spreadsheets/pdf_di...   1823.12.30.R   \n",
       "6147  http://sharkattackfile.net/spreadsheets/pdf_di...     1767.00.00   \n",
       "\n",
       "      Case Number.2 original order Unnamed: 22 Unnamed: 23  \n",
       "119    2017.07.14.a         6184.0         NaN         NaN  \n",
       "290    2016.04.07.b         6013.0         NaN         NaN  \n",
       "382      2015.07.27         5921.0         NaN         NaN  \n",
       "631    2013.08.31.b         5672.0         NaN         NaN  \n",
       "1130     2009.04.28         5173.0         NaN         NaN  \n",
       "1242   2008.06.28.a         5061.0         NaN         NaN  \n",
       "2125     1999.04.22         4178.0         NaN         NaN  \n",
       "2144   1999.00.00.a         4159.0         NaN         NaN  \n",
       "2460   1994.00.00.a         3843.0         NaN         NaN  \n",
       "2648     1990.00.00         3655.0         NaN         NaN  \n",
       "3508   1967.09.07.a         2795.0         NaN         NaN  \n",
       "3691     1964.03.00         2612.0         NaN         NaN  \n",
       "4058     1959.09.27         2245.0         NaN         NaN  \n",
       "4101  1959.04.09..a         2202.0         NaN         NaN  \n",
       "5321     1915.08.03          982.0         NaN         NaN  \n",
       "6108   1823.12.30.R          195.0         NaN         NaN  \n",
       "6147     1767.00.00          156.0         NaN         NaN  \n",
       "\n",
       "[17 rows x 24 columns]"
      ]
     },
     "execution_count": 35,
     "metadata": {},
     "output_type": "execute_result"
    }
   ],
   "source": [
    "data[data[\"Investigator or Source\"].isnull()]"
   ]
  },
  {
   "cell_type": "code",
   "execution_count": 36,
   "id": "d3998a3b",
   "metadata": {},
   "outputs": [
    {
     "data": {
      "text/plain": [
       "4969"
      ]
     },
     "execution_count": 36,
     "metadata": {},
     "output_type": "execute_result"
    }
   ],
   "source": [
    "len(list(data[\"Investigator or Source\"].value_counts()))"
   ]
  },
  {
   "cell_type": "code",
   "execution_count": 37,
   "id": "b493831a",
   "metadata": {},
   "outputs": [],
   "source": [
    "data[['Investigator or Source']] = data[['Investigator or Source']].fillna(\"Unknown\")\n",
    "#investigator source without nulls"
   ]
  },
  {
   "cell_type": "code",
   "execution_count": 38,
   "id": "9165130f",
   "metadata": {},
   "outputs": [
    {
     "data": {
      "text/plain": [
       "Case Number                  0\n",
       "Date                         0\n",
       "Year                         0\n",
       "Type                         0\n",
       "Country                     50\n",
       "Area                       455\n",
       "Location                   540\n",
       "Activity                   544\n",
       "Name                       210\n",
       "Sex                        565\n",
       "Age                       2831\n",
       "Injury                      28\n",
       "Fatal (Y/N)                539\n",
       "Time                      3354\n",
       "Species                   2838\n",
       "Investigator or Source       0\n",
       "pdf                          0\n",
       "href formula                 1\n",
       "href                         0\n",
       "Case Number.1                0\n",
       "Case Number.2                0\n",
       "original order               0\n",
       "Unnamed: 22               6301\n",
       "Unnamed: 23               6300\n",
       "dtype: int64"
      ]
     },
     "execution_count": 38,
     "metadata": {},
     "output_type": "execute_result"
    }
   ],
   "source": [
    "data.isnull().sum()"
   ]
  },
  {
   "cell_type": "code",
   "execution_count": 39,
   "id": "b57d346c",
   "metadata": {},
   "outputs": [
    {
     "data": {
      "text/plain": [
       "(6302, 24)"
      ]
     },
     "execution_count": 39,
     "metadata": {},
     "output_type": "execute_result"
    }
   ],
   "source": [
    "data.shape"
   ]
  },
  {
   "cell_type": "code",
   "execution_count": 40,
   "id": "faa4beb1",
   "metadata": {},
   "outputs": [
    {
     "data": {
      "text/html": [
       "<div>\n",
       "<style scoped>\n",
       "    .dataframe tbody tr th:only-of-type {\n",
       "        vertical-align: middle;\n",
       "    }\n",
       "\n",
       "    .dataframe tbody tr th {\n",
       "        vertical-align: top;\n",
       "    }\n",
       "\n",
       "    .dataframe thead th {\n",
       "        text-align: right;\n",
       "    }\n",
       "</style>\n",
       "<table border=\"1\" class=\"dataframe\">\n",
       "  <thead>\n",
       "    <tr style=\"text-align: right;\">\n",
       "      <th></th>\n",
       "      <th>Case Number</th>\n",
       "      <th>Date</th>\n",
       "      <th>Year</th>\n",
       "      <th>Type</th>\n",
       "      <th>Country</th>\n",
       "      <th>Area</th>\n",
       "      <th>Location</th>\n",
       "      <th>Activity</th>\n",
       "      <th>Name</th>\n",
       "      <th>Sex</th>\n",
       "      <th>...</th>\n",
       "      <th>Species</th>\n",
       "      <th>Investigator or Source</th>\n",
       "      <th>pdf</th>\n",
       "      <th>href formula</th>\n",
       "      <th>href</th>\n",
       "      <th>Case Number.1</th>\n",
       "      <th>Case Number.2</th>\n",
       "      <th>original order</th>\n",
       "      <th>Unnamed: 22</th>\n",
       "      <th>Unnamed: 23</th>\n",
       "    </tr>\n",
       "  </thead>\n",
       "  <tbody>\n",
       "    <tr>\n",
       "      <th>3244</th>\n",
       "      <td>1975.01.19</td>\n",
       "      <td>19-Jan-1975</td>\n",
       "      <td>1975.0</td>\n",
       "      <td>Unprovoked</td>\n",
       "      <td>AUSTRALIA</td>\n",
       "      <td>South Australia</td>\n",
       "      <td>Coffin Bay</td>\n",
       "      <td>Surfing</td>\n",
       "      <td>David Barrowman</td>\n",
       "      <td>M</td>\n",
       "      <td>...</td>\n",
       "      <td>NaN</td>\n",
       "      <td>J. West; Adelaide Advertiser, 1/20/1975; P. Ke...</td>\n",
       "      <td>1975.01.19-Barrowman.pdf</td>\n",
       "      <td>NaN</td>\n",
       "      <td>http://sharkattackfile.net/spreadsheets/pdf_di...</td>\n",
       "      <td>1975.01.19</td>\n",
       "      <td>1975.01.19</td>\n",
       "      <td>3059.0</td>\n",
       "      <td>NaN</td>\n",
       "      <td>NaN</td>\n",
       "    </tr>\n",
       "  </tbody>\n",
       "</table>\n",
       "<p>1 rows × 24 columns</p>\n",
       "</div>"
      ],
      "text/plain": [
       "     Case Number         Date    Year        Type    Country             Area  \\\n",
       "3244  1975.01.19  19-Jan-1975  1975.0  Unprovoked  AUSTRALIA  South Australia   \n",
       "\n",
       "        Location Activity             Name Sex   ... Species   \\\n",
       "3244  Coffin Bay  Surfing  David Barrowman    M  ...      NaN   \n",
       "\n",
       "                                 Investigator or Source  \\\n",
       "3244  J. West; Adelaide Advertiser, 1/20/1975; P. Ke...   \n",
       "\n",
       "                           pdf href formula  \\\n",
       "3244  1975.01.19-Barrowman.pdf          NaN   \n",
       "\n",
       "                                                   href Case Number.1  \\\n",
       "3244  http://sharkattackfile.net/spreadsheets/pdf_di...    1975.01.19   \n",
       "\n",
       "     Case Number.2 original order Unnamed: 22 Unnamed: 23  \n",
       "3244    1975.01.19         3059.0         NaN         NaN  \n",
       "\n",
       "[1 rows x 24 columns]"
      ]
     },
     "execution_count": 40,
     "metadata": {},
     "output_type": "execute_result"
    }
   ],
   "source": [
    "data[data[\"href formula\"].isnull()]"
   ]
  },
  {
   "cell_type": "code",
   "execution_count": 41,
   "id": "53cb9860",
   "metadata": {},
   "outputs": [],
   "source": [
    "data[['href formula']] = data[['href formula']].fillna(\"http://sharkattackfile.net/spreadsheets/pdf_di...\")\n",
    "#href formula without nulls "
   ]
  },
  {
   "cell_type": "code",
   "execution_count": 42,
   "id": "2f852e48",
   "metadata": {},
   "outputs": [
    {
     "data": {
      "text/plain": [
       "Case Number                  0\n",
       "Date                         0\n",
       "Year                         0\n",
       "Type                         0\n",
       "Country                     50\n",
       "Area                       455\n",
       "Location                   540\n",
       "Activity                   544\n",
       "Name                       210\n",
       "Sex                        565\n",
       "Age                       2831\n",
       "Injury                      28\n",
       "Fatal (Y/N)                539\n",
       "Time                      3354\n",
       "Species                   2838\n",
       "Investigator or Source       0\n",
       "pdf                          0\n",
       "href formula                 0\n",
       "href                         0\n",
       "Case Number.1                0\n",
       "Case Number.2                0\n",
       "original order               0\n",
       "Unnamed: 22               6301\n",
       "Unnamed: 23               6300\n",
       "dtype: int64"
      ]
     },
     "execution_count": 42,
     "metadata": {},
     "output_type": "execute_result"
    }
   ],
   "source": [
    "data.isnull().sum()"
   ]
  },
  {
   "cell_type": "code",
   "execution_count": 43,
   "id": "0e778b52",
   "metadata": {},
   "outputs": [],
   "source": [
    "no_injury_fatal = list(data[(data[\"Injury\"].isnull()) & (data[\"Fatal (Y/N)\"].isnull())].index)"
   ]
  },
  {
   "cell_type": "code",
   "execution_count": 44,
   "id": "80a0a328",
   "metadata": {},
   "outputs": [],
   "source": [
    "data.drop(no_injury_fatal, axis=0, inplace=True)\n",
    "#if no information on injury and fatal we consider it not useful"
   ]
  },
  {
   "cell_type": "code",
   "execution_count": 45,
   "id": "b61c449f",
   "metadata": {},
   "outputs": [
    {
     "data": {
      "text/plain": [
       "(6295, 24)"
      ]
     },
     "execution_count": 45,
     "metadata": {},
     "output_type": "execute_result"
    }
   ],
   "source": [
    "data.shape"
   ]
  },
  {
   "cell_type": "code",
   "execution_count": 46,
   "id": "c91dadad",
   "metadata": {},
   "outputs": [
    {
     "data": {
      "text/plain": [
       "White shark                                                                                                                      163\n",
       "Shark involvement prior to death was not confirmed                                                                               105\n",
       "Invalid                                                                                                                          102\n",
       "Shark involvement not confirmed                                                                                                   87\n",
       "Tiger shark                                                                                                                       73\n",
       "                                                                                                                                ... \n",
       "1.2 m to 1.5 m [4.5' to 5'] shark                                                                                                  1\n",
       "Bull shark, 2.3 m [7.5']                                                                                                           1\n",
       "0.9 m  [3'] shark                                                                                                                  1\n",
       "Mako shark, 14'                                                                                                                    1\n",
       "Said to involve a grey nurse shark that leapt out of the water and  seized the boy but species identification is questionable      1\n",
       "Name: Species , Length: 1549, dtype: int64"
      ]
     },
     "execution_count": 46,
     "metadata": {},
     "output_type": "execute_result"
    }
   ],
   "source": [
    "data[\"Species \"].value_counts()"
   ]
  },
  {
   "cell_type": "code",
   "execution_count": 47,
   "id": "168c63e9",
   "metadata": {},
   "outputs": [],
   "source": [
    "transpose = data.T.isnull().sum()"
   ]
  },
  {
   "cell_type": "code",
   "execution_count": 48,
   "id": "2be90ba3",
   "metadata": {},
   "outputs": [
    {
     "data": {
      "text/plain": [
       "31"
      ]
     },
     "execution_count": 48,
     "metadata": {},
     "output_type": "execute_result"
    }
   ],
   "source": [
    "len(transpose[transpose>8])\n",
    "#to erase rows with a lot of ceros. not used."
   ]
  },
  {
   "cell_type": "code",
   "execution_count": 49,
   "id": "3d2e7fe1",
   "metadata": {},
   "outputs": [],
   "source": [
    "no_place = list(data[(data[\"Country\"].isnull()) & (data[\"Area\"].isnull()) & (data[\"Location\"].isnull())].index)\n",
    "#we dont know where it happened"
   ]
  },
  {
   "cell_type": "code",
   "execution_count": 50,
   "id": "9786f9f6",
   "metadata": {},
   "outputs": [],
   "source": [
    "data.drop(no_place,axis=0,inplace=True)"
   ]
  },
  {
   "cell_type": "code",
   "execution_count": 51,
   "id": "fb29f88b",
   "metadata": {},
   "outputs": [],
   "source": [
    "no_species = list(data[data[\"Species \"].isnull()].index)\n",
    "#we drop shark attack where we dont know the type of shark"
   ]
  },
  {
   "cell_type": "code",
   "execution_count": 52,
   "id": "436bbd13",
   "metadata": {},
   "outputs": [],
   "source": [
    "data.drop(no_species,axis=0,inplace=True)"
   ]
  },
  {
   "cell_type": "code",
   "execution_count": 53,
   "id": "c8b96335",
   "metadata": {},
   "outputs": [
    {
     "data": {
      "text/plain": [
       "Case Number                  0\n",
       "Date                         0\n",
       "Year                         0\n",
       "Type                         0\n",
       "Country                      4\n",
       "Area                       152\n",
       "Location                   166\n",
       "Activity                   226\n",
       "Name                        93\n",
       "Sex                        313\n",
       "Age                       1258\n",
       "Injury                       4\n",
       "Fatal (Y/N)                506\n",
       "Time                      1544\n",
       "Species                      0\n",
       "Investigator or Source       0\n",
       "pdf                          0\n",
       "href formula                 0\n",
       "href                         0\n",
       "Case Number.1                0\n",
       "Case Number.2                0\n",
       "original order               0\n",
       "Unnamed: 22               3449\n",
       "Unnamed: 23               3448\n",
       "dtype: int64"
      ]
     },
     "execution_count": 53,
     "metadata": {},
     "output_type": "execute_result"
    }
   ],
   "source": [
    "data.isnull().sum()"
   ]
  },
  {
   "cell_type": "code",
   "execution_count": 54,
   "id": "240404c7",
   "metadata": {},
   "outputs": [
    {
     "data": {
      "text/plain": [
       "(3449, 24)"
      ]
     },
     "execution_count": 54,
     "metadata": {},
     "output_type": "execute_result"
    }
   ],
   "source": [
    "data.shape"
   ]
  },
  {
   "cell_type": "code",
   "execution_count": 55,
   "id": "9b22f17e",
   "metadata": {},
   "outputs": [
    {
     "data": {
      "text/html": [
       "<div>\n",
       "<style scoped>\n",
       "    .dataframe tbody tr th:only-of-type {\n",
       "        vertical-align: middle;\n",
       "    }\n",
       "\n",
       "    .dataframe tbody tr th {\n",
       "        vertical-align: top;\n",
       "    }\n",
       "\n",
       "    .dataframe thead th {\n",
       "        text-align: right;\n",
       "    }\n",
       "</style>\n",
       "<table border=\"1\" class=\"dataframe\">\n",
       "  <thead>\n",
       "    <tr style=\"text-align: right;\">\n",
       "      <th></th>\n",
       "      <th>Case Number</th>\n",
       "      <th>Date</th>\n",
       "      <th>Year</th>\n",
       "      <th>Type</th>\n",
       "      <th>Country</th>\n",
       "      <th>Area</th>\n",
       "      <th>Location</th>\n",
       "      <th>Activity</th>\n",
       "      <th>Name</th>\n",
       "      <th>Sex</th>\n",
       "      <th>...</th>\n",
       "      <th>Species</th>\n",
       "      <th>Investigator or Source</th>\n",
       "      <th>pdf</th>\n",
       "      <th>href formula</th>\n",
       "      <th>href</th>\n",
       "      <th>Case Number.1</th>\n",
       "      <th>Case Number.2</th>\n",
       "      <th>original order</th>\n",
       "      <th>Unnamed: 22</th>\n",
       "      <th>Unnamed: 23</th>\n",
       "    </tr>\n",
       "  </thead>\n",
       "  <tbody>\n",
       "    <tr>\n",
       "      <th>3387</th>\n",
       "      <td>1970.08.02</td>\n",
       "      <td>02-Aug-1970</td>\n",
       "      <td>1970.0</td>\n",
       "      <td>Invalid</td>\n",
       "      <td>NaN</td>\n",
       "      <td>Caribbean Sea</td>\n",
       "      <td>Between St. Kitts &amp; Nevis</td>\n",
       "      <td>Sea Disaster Sinking of ferryboat Christina</td>\n",
       "      <td>NaN</td>\n",
       "      <td>NaN</td>\n",
       "      <td>...</td>\n",
       "      <td>Shark involvement prior to death was not confi...</td>\n",
       "      <td>Rome News Tribune, 8/3/1970</td>\n",
       "      <td>1970.08.02-Christina-ferryboat.pdf</td>\n",
       "      <td>http://sharkattackfile.net/spreadsheets/pdf_di...</td>\n",
       "      <td>http://sharkattackfile.net/spreadsheets/pdf_di...</td>\n",
       "      <td>1970.08.02</td>\n",
       "      <td>1970.08.02</td>\n",
       "      <td>2916.0</td>\n",
       "      <td>NaN</td>\n",
       "      <td>NaN</td>\n",
       "    </tr>\n",
       "    <tr>\n",
       "      <th>4231</th>\n",
       "      <td>1956.09.13</td>\n",
       "      <td>13-Sep-1956</td>\n",
       "      <td>1956.0</td>\n",
       "      <td>Unprovoked</td>\n",
       "      <td>NaN</td>\n",
       "      <td>Near the Andaman &amp; Nicobar Islands</td>\n",
       "      <td>NaN</td>\n",
       "      <td>Climbing back on ship</td>\n",
       "      <td>male</td>\n",
       "      <td>M</td>\n",
       "      <td>...</td>\n",
       "      <td>Blue shark</td>\n",
       "      <td>M. Hosina</td>\n",
       "      <td>1956.09.13-TunaBoat.pdf</td>\n",
       "      <td>http://sharkattackfile.net/spreadsheets/pdf_di...</td>\n",
       "      <td>http://sharkattackfile.net/spreadsheets/pdf_di...</td>\n",
       "      <td>1956.09.13</td>\n",
       "      <td>1956.09.13</td>\n",
       "      <td>2072.0</td>\n",
       "      <td>NaN</td>\n",
       "      <td>NaN</td>\n",
       "    </tr>\n",
       "    <tr>\n",
       "      <th>4498</th>\n",
       "      <td>1949.12.00.b</td>\n",
       "      <td>Dec-1949</td>\n",
       "      <td>1949.0</td>\n",
       "      <td>Sea Disaster</td>\n",
       "      <td>NaN</td>\n",
       "      <td>Caribbean Sea</td>\n",
       "      <td>Between  Cuba  &amp; Costa Rica</td>\n",
       "      <td>Sea Disaster, sinking of the motorship Wingate</td>\n",
       "      <td>Albert Battles, James Dean &amp; 4 crew</td>\n",
       "      <td>M</td>\n",
       "      <td>...</td>\n",
       "      <td>Shark involvement not confirmed</td>\n",
       "      <td>Canberra Times, 1/6/1950</td>\n",
       "      <td>1949.12.00.b-Wingate.pdf</td>\n",
       "      <td>http://sharkattackfile.net/spreadsheets/pdf_di...</td>\n",
       "      <td>http://sharkattackfile.net/spreadsheets/pdf_di...</td>\n",
       "      <td>1949.12.00.b</td>\n",
       "      <td>1949.12.00.b</td>\n",
       "      <td>1805.0</td>\n",
       "      <td>NaN</td>\n",
       "      <td>NaN</td>\n",
       "    </tr>\n",
       "    <tr>\n",
       "      <th>5425</th>\n",
       "      <td>1909.01.17</td>\n",
       "      <td>17-Jan-1909</td>\n",
       "      <td>1909.0</td>\n",
       "      <td>Invalid</td>\n",
       "      <td>NaN</td>\n",
       "      <td>NaN</td>\n",
       "      <td>Near the equator</td>\n",
       "      <td>Jumped overboard</td>\n",
       "      <td>Thomas Butler</td>\n",
       "      <td>M</td>\n",
       "      <td>...</td>\n",
       "      <td>Questionable</td>\n",
       "      <td>Star, 3/18/1909</td>\n",
       "      <td>1909.01.17-Butler.pdf</td>\n",
       "      <td>http://sharkattackfile.net/spreadsheets/pdf_di...</td>\n",
       "      <td>http://sharkattackfile.net/spreadsheets/pdf_di...</td>\n",
       "      <td>1909.01.17</td>\n",
       "      <td>1909.01.17</td>\n",
       "      <td>878.0</td>\n",
       "      <td>NaN</td>\n",
       "      <td>NaN</td>\n",
       "    </tr>\n",
       "  </tbody>\n",
       "</table>\n",
       "<p>4 rows × 24 columns</p>\n",
       "</div>"
      ],
      "text/plain": [
       "       Case Number         Date    Year          Type Country  \\\n",
       "3387    1970.08.02  02-Aug-1970  1970.0       Invalid     NaN   \n",
       "4231    1956.09.13  13-Sep-1956  1956.0    Unprovoked     NaN   \n",
       "4498  1949.12.00.b     Dec-1949  1949.0  Sea Disaster     NaN   \n",
       "5425    1909.01.17  17-Jan-1909  1909.0       Invalid     NaN   \n",
       "\n",
       "                                    Area                     Location  \\\n",
       "3387                       Caribbean Sea    Between St. Kitts & Nevis   \n",
       "4231  Near the Andaman & Nicobar Islands                          NaN   \n",
       "4498                       Caribbean Sea  Between  Cuba  & Costa Rica   \n",
       "5425                                 NaN             Near the equator   \n",
       "\n",
       "                                            Activity  \\\n",
       "3387     Sea Disaster Sinking of ferryboat Christina   \n",
       "4231                           Climbing back on ship   \n",
       "4498  Sea Disaster, sinking of the motorship Wingate   \n",
       "5425                               Jumped overboard    \n",
       "\n",
       "                                     Name Sex   ...  \\\n",
       "3387                                  NaN  NaN  ...   \n",
       "4231                                 male    M  ...   \n",
       "4498  Albert Battles, James Dean & 4 crew    M  ...   \n",
       "5425                        Thomas Butler    M  ...   \n",
       "\n",
       "                                               Species   \\\n",
       "3387  Shark involvement prior to death was not confi...   \n",
       "4231                                         Blue shark   \n",
       "4498                    Shark involvement not confirmed   \n",
       "5425                                       Questionable   \n",
       "\n",
       "           Investigator or Source                                 pdf  \\\n",
       "3387  Rome News Tribune, 8/3/1970  1970.08.02-Christina-ferryboat.pdf   \n",
       "4231                    M. Hosina             1956.09.13-TunaBoat.pdf   \n",
       "4498     Canberra Times, 1/6/1950            1949.12.00.b-Wingate.pdf   \n",
       "5425              Star, 3/18/1909               1909.01.17-Butler.pdf   \n",
       "\n",
       "                                           href formula  \\\n",
       "3387  http://sharkattackfile.net/spreadsheets/pdf_di...   \n",
       "4231  http://sharkattackfile.net/spreadsheets/pdf_di...   \n",
       "4498  http://sharkattackfile.net/spreadsheets/pdf_di...   \n",
       "5425  http://sharkattackfile.net/spreadsheets/pdf_di...   \n",
       "\n",
       "                                                   href Case Number.1  \\\n",
       "3387  http://sharkattackfile.net/spreadsheets/pdf_di...    1970.08.02   \n",
       "4231  http://sharkattackfile.net/spreadsheets/pdf_di...    1956.09.13   \n",
       "4498  http://sharkattackfile.net/spreadsheets/pdf_di...  1949.12.00.b   \n",
       "5425  http://sharkattackfile.net/spreadsheets/pdf_di...    1909.01.17   \n",
       "\n",
       "     Case Number.2 original order Unnamed: 22 Unnamed: 23  \n",
       "3387    1970.08.02         2916.0         NaN         NaN  \n",
       "4231    1956.09.13         2072.0         NaN         NaN  \n",
       "4498  1949.12.00.b         1805.0         NaN         NaN  \n",
       "5425    1909.01.17          878.0         NaN         NaN  \n",
       "\n",
       "[4 rows x 24 columns]"
      ]
     },
     "execution_count": 55,
     "metadata": {},
     "output_type": "execute_result"
    }
   ],
   "source": [
    "data[data[\"Country\"].isnull()]"
   ]
  },
  {
   "cell_type": "code",
   "execution_count": 56,
   "id": "66cbc51e",
   "metadata": {},
   "outputs": [],
   "source": [
    "data.loc[3387,\"Country\"] = \"St. Kitts & Nevis\""
   ]
  },
  {
   "cell_type": "code",
   "execution_count": 57,
   "id": "cf0dbe85",
   "metadata": {},
   "outputs": [],
   "source": [
    "data.loc[4231,\"Country\"] = \"India\""
   ]
  },
  {
   "cell_type": "code",
   "execution_count": 58,
   "id": "3f60cb4c",
   "metadata": {},
   "outputs": [],
   "source": [
    "a = list(data[data[\"Country\"].isnull()].index)\n",
    "#not useful, no location no shark type"
   ]
  },
  {
   "cell_type": "code",
   "execution_count": 59,
   "id": "bb456b47",
   "metadata": {},
   "outputs": [],
   "source": [
    "data.drop(a,axis=0,inplace=True)"
   ]
  },
  {
   "cell_type": "code",
   "execution_count": 60,
   "id": "a2574234",
   "metadata": {},
   "outputs": [
    {
     "data": {
      "text/plain": [
       "Case Number                  0\n",
       "Date                         0\n",
       "Year                         0\n",
       "Type                         0\n",
       "Country                      0\n",
       "Area                       151\n",
       "Location                   166\n",
       "Activity                   226\n",
       "Name                        93\n",
       "Sex                        313\n",
       "Age                       1257\n",
       "Injury                       4\n",
       "Fatal (Y/N)                505\n",
       "Time                      1542\n",
       "Species                      0\n",
       "Investigator or Source       0\n",
       "pdf                          0\n",
       "href formula                 0\n",
       "href                         0\n",
       "Case Number.1                0\n",
       "Case Number.2                0\n",
       "original order               0\n",
       "Unnamed: 22               3447\n",
       "Unnamed: 23               3446\n",
       "dtype: int64"
      ]
     },
     "execution_count": 60,
     "metadata": {},
     "output_type": "execute_result"
    }
   ],
   "source": [
    "data.isnull().sum()"
   ]
  },
  {
   "cell_type": "code",
   "execution_count": 61,
   "id": "2f135cf4",
   "metadata": {},
   "outputs": [
    {
     "data": {
      "text/plain": [
       "(3447, 24)"
      ]
     },
     "execution_count": 61,
     "metadata": {},
     "output_type": "execute_result"
    }
   ],
   "source": [
    "data.shape"
   ]
  },
  {
   "cell_type": "code",
   "execution_count": 62,
   "id": "a9e5e382",
   "metadata": {},
   "outputs": [
    {
     "data": {
      "text/html": [
       "<div>\n",
       "<style scoped>\n",
       "    .dataframe tbody tr th:only-of-type {\n",
       "        vertical-align: middle;\n",
       "    }\n",
       "\n",
       "    .dataframe tbody tr th {\n",
       "        vertical-align: top;\n",
       "    }\n",
       "\n",
       "    .dataframe thead th {\n",
       "        text-align: right;\n",
       "    }\n",
       "</style>\n",
       "<table border=\"1\" class=\"dataframe\">\n",
       "  <thead>\n",
       "    <tr style=\"text-align: right;\">\n",
       "      <th></th>\n",
       "      <th>Injury</th>\n",
       "      <th>Country</th>\n",
       "      <th>Fatal (Y/N)</th>\n",
       "      <th>Species</th>\n",
       "    </tr>\n",
       "  </thead>\n",
       "  <tbody>\n",
       "    <tr>\n",
       "      <th>1270</th>\n",
       "      <td>NaN</td>\n",
       "      <td>AUSTRALIA</td>\n",
       "      <td>UNKNOWN</td>\n",
       "      <td>Tiger shark, 2.3m</td>\n",
       "    </tr>\n",
       "    <tr>\n",
       "      <th>3038</th>\n",
       "      <td>NaN</td>\n",
       "      <td>BRAZIL</td>\n",
       "      <td>UNKNOWN</td>\n",
       "      <td>White shark</td>\n",
       "    </tr>\n",
       "    <tr>\n",
       "      <th>4060</th>\n",
       "      <td>NaN</td>\n",
       "      <td>USA</td>\n",
       "      <td>UNKNOWN</td>\n",
       "      <td>Said to involve white shark, but species ident...</td>\n",
       "    </tr>\n",
       "    <tr>\n",
       "      <th>6172</th>\n",
       "      <td>NaN</td>\n",
       "      <td>FRANCE</td>\n",
       "      <td>UNKNOWN</td>\n",
       "      <td>Possibly white sharks</td>\n",
       "    </tr>\n",
       "  </tbody>\n",
       "</table>\n",
       "</div>"
      ],
      "text/plain": [
       "     Injury    Country Fatal (Y/N)  \\\n",
       "1270    NaN  AUSTRALIA     UNKNOWN   \n",
       "3038    NaN     BRAZIL     UNKNOWN   \n",
       "4060    NaN        USA     UNKNOWN   \n",
       "6172    NaN     FRANCE     UNKNOWN   \n",
       "\n",
       "                                               Species   \n",
       "1270                                 Tiger shark, 2.3m   \n",
       "3038                                        White shark  \n",
       "4060  Said to involve white shark, but species ident...  \n",
       "6172                              Possibly white sharks  "
      ]
     },
     "execution_count": 62,
     "metadata": {},
     "output_type": "execute_result"
    }
   ],
   "source": [
    "data[data[\"Injury\"].isnull()][[\"Injury\",\"Country\",\"Fatal (Y/N)\", \"Species \"]]"
   ]
  },
  {
   "cell_type": "code",
   "execution_count": 63,
   "id": "2af52b33",
   "metadata": {},
   "outputs": [],
   "source": [
    "data[['Injury']] = data[['Injury']].fillna(\"Unknown\")\n",
    "#injury without nulls only 4"
   ]
  },
  {
   "cell_type": "code",
   "execution_count": 64,
   "id": "c2752e93",
   "metadata": {},
   "outputs": [
    {
     "data": {
      "text/plain": [
       "Case Number                  0\n",
       "Date                         0\n",
       "Year                         0\n",
       "Type                         0\n",
       "Country                      0\n",
       "Area                       151\n",
       "Location                   166\n",
       "Activity                   226\n",
       "Name                        93\n",
       "Sex                        313\n",
       "Age                       1257\n",
       "Injury                       0\n",
       "Fatal (Y/N)                505\n",
       "Time                      1542\n",
       "Species                      0\n",
       "Investigator or Source       0\n",
       "pdf                          0\n",
       "href formula                 0\n",
       "href                         0\n",
       "Case Number.1                0\n",
       "Case Number.2                0\n",
       "original order               0\n",
       "Unnamed: 22               3447\n",
       "Unnamed: 23               3446\n",
       "dtype: int64"
      ]
     },
     "execution_count": 64,
     "metadata": {},
     "output_type": "execute_result"
    }
   ],
   "source": [
    "data.isnull().sum()"
   ]
  },
  {
   "cell_type": "code",
   "execution_count": 65,
   "id": "d6b04ef9",
   "metadata": {},
   "outputs": [
    {
     "data": {
      "text/plain": [
       "(3447, 24)"
      ]
     },
     "execution_count": 65,
     "metadata": {},
     "output_type": "execute_result"
    }
   ],
   "source": [
    "data.shape"
   ]
  },
  {
   "cell_type": "code",
   "execution_count": 66,
   "id": "fa149d34",
   "metadata": {},
   "outputs": [
    {
     "data": {
      "text/plain": [
       "<bound method IndexOpsMixin.value_counts of 0                                             White shark\n",
       "3                                               2 m shark\n",
       "4                                         Tiger shark, 3m\n",
       "6                                             Tiger shark\n",
       "7                                         Lemon shark, 3'\n",
       "                              ...                        \n",
       "6276                                      12' tiger shark\n",
       "6293                                         Blue pointer\n",
       "6294                                         Blue pointer\n",
       "6295                                        Blue pointers\n",
       "6296    Said to involve a grey nurse shark that leapt ...\n",
       "Name: Species , Length: 3447, dtype: object>"
      ]
     },
     "execution_count": 66,
     "metadata": {},
     "output_type": "execute_result"
    }
   ],
   "source": [
    "data[\"Species \"].value_counts"
   ]
  },
  {
   "cell_type": "code",
   "execution_count": 67,
   "id": "e33bb5e8",
   "metadata": {},
   "outputs": [],
   "source": [
    "data[['Species ']] = data[['Species ']].replace(r\"[^a-zA-Z ]\",\"\", regex= True)\n",
    "#regex to delete special characters and numbers"
   ]
  },
  {
   "cell_type": "code",
   "execution_count": 68,
   "id": "06152f65",
   "metadata": {},
   "outputs": [],
   "source": [
    "data[\"Species \"] = [s.lower() for s in data['Species ']]\n",
    "#lowercase everything"
   ]
  },
  {
   "cell_type": "code",
   "execution_count": 69,
   "id": "2c1ae21c",
   "metadata": {},
   "outputs": [],
   "source": [
    "data[\"Species \"] = [s.strip() for s in data['Species ']]\n",
    "#string method to delete spaces before and after"
   ]
  },
  {
   "cell_type": "code",
   "execution_count": 70,
   "id": "94a57451",
   "metadata": {},
   "outputs": [],
   "source": [
    "data[\"Species \"] = [\"shark\" if s == \"m  shark\" else s for s in data['Species ']]\n",
    "#string method for common value m  shark (two spaces)"
   ]
  },
  {
   "cell_type": "code",
   "execution_count": 71,
   "id": "297657d8",
   "metadata": {},
   "outputs": [],
   "source": [
    "data[\"Species \"] = [\"shark\" if s == \"m shark\" else s for s in data['Species ']]\n",
    "#string method for common value m shark (one space)"
   ]
  },
  {
   "cell_type": "code",
   "execution_count": 72,
   "id": "4c18d876",
   "metadata": {},
   "outputs": [],
   "source": [
    "data[\"Species \"] = [\"shark\" if s == \"to  shark\" else s for s in data['Species ']]\n",
    "#string method for common value to  shark (one space)"
   ]
  },
  {
   "cell_type": "code",
   "execution_count": 73,
   "id": "73b555ef",
   "metadata": {},
   "outputs": [],
   "source": [
    "data[\"Species \"] = [\"white shark\" if \"white\" in s and \" or \" not in s and \"/\" not in s else s for s in data['Species ']]\n",
    "#filtering white sharks leaving certain cases"
   ]
  },
  {
   "cell_type": "code",
   "execution_count": 74,
   "id": "8327ae3d",
   "metadata": {},
   "outputs": [],
   "source": [
    "data[\"Species \"] = [\"tiger shark\" if \"tiger\" in s and \" or \" not in s and \"/\" not in s else s for s in data['Species ']]\n",
    "#filtering tiger sharks leaving certain cases"
   ]
  },
  {
   "cell_type": "code",
   "execution_count": 75,
   "id": "779505a3",
   "metadata": {},
   "outputs": [],
   "source": [
    "data[\"Species \"] = [\"lemon shark\" if \"lemon\" in s and \" or \" not in s and \"/\" not in s else s for s in data['Species ']]\n",
    "#filtering lemon sharks leaving certain cases"
   ]
  },
  {
   "cell_type": "code",
   "execution_count": 76,
   "id": "c39c12a6",
   "metadata": {},
   "outputs": [],
   "source": [
    "data[\"Species \"] = [\"bull shark\" if \"bull\" in s and \" or \" not in s and \"/\" not in s else s for s in data['Species ']]\n",
    "#filtering bull sharks leaving certain cases"
   ]
  },
  {
   "cell_type": "code",
   "execution_count": 77,
   "id": "6ec1ce50",
   "metadata": {},
   "outputs": [],
   "source": [
    "data[\"Species \"] = [\"shark\" if s == \"m to  m  to  shark\" else s for s in data['Species ']]\n",
    "#string method for common value m to  m  to  shark"
   ]
  },
  {
   "cell_type": "code",
   "execution_count": 78,
   "id": "eab3d684",
   "metadata": {},
   "outputs": [],
   "source": [
    "data[\"Species \"] = [\"bronze whaler\" if \"bronze\" in s and \"whaler\" in s and \" or \" not in s and \"/\" not in s else s for s in data['Species ']]\n",
    "#filtering bronze whaler sharks leaving certain cases"
   ]
  },
  {
   "cell_type": "code",
   "execution_count": 79,
   "id": "2451e652",
   "metadata": {},
   "outputs": [],
   "source": [
    "data[\"Species \"] = [\"shark\" if s == \"a small shark\" else s for s in data['Species ']]\n",
    "#string method for common value a small shark"
   ]
  },
  {
   "cell_type": "code",
   "execution_count": 80,
   "id": "aeacd6ec",
   "metadata": {},
   "outputs": [],
   "source": [
    "data[\"Species \"] = [\"shark\" if s == \"m   shark\" else s for s in data['Species ']]\n",
    "#string method for common value m   shark"
   ]
  },
  {
   "cell_type": "code",
   "execution_count": 81,
   "id": "3e62e527",
   "metadata": {},
   "outputs": [],
   "source": [
    "data[\"Species \"] = [\"blue shark\" if \"blue\" in s and \" or \" not in s and \"/\" not in s else s for s in data['Species ']]\n",
    "#filtering blue shark leaving certain cases"
   ]
  },
  {
   "cell_type": "code",
   "execution_count": 82,
   "id": "d1ae1dfa",
   "metadata": {},
   "outputs": [],
   "source": [
    "data[\"Species \"] = [\"raggedtooth shark\" if \"raggedtooth\" in s and \" or \" not in s and \"/\" not in s else s for s in data['Species ']]\n",
    "#filtering raggedtooth shark leaving certain cases"
   ]
  },
  {
   "cell_type": "code",
   "execution_count": 83,
   "id": "47e7a169",
   "metadata": {},
   "outputs": [],
   "source": [
    "data[\"Species \"] = [\"shark\" if s in \"small\" or s in \"juvenile\" else s for s in data['Species ']]\n",
    "#string method for common value small or juvenile shark"
   ]
  },
  {
   "cell_type": "code",
   "execution_count": 84,
   "id": "973b4885",
   "metadata": {},
   "outputs": [],
   "source": [
    "data[\"Species \"] = [\"grey nurse shark\" if \"grey\" in s and \"nurse\" in s and \" or \" not in s and \"/\" not in s else s for s in data['Species ']]\n",
    "#filtering grey nurse sharks leaving certain cases"
   ]
  },
  {
   "cell_type": "code",
   "execution_count": 85,
   "id": "0e26ba04",
   "metadata": {},
   "outputs": [],
   "source": [
    "data[\"Species \"] = [\"nurse shark\" if \"nurse\" in s and \"grey\" not in s and \" or \" not in s and \"/\" not in s else s for s in data['Species ']]\n",
    "#filtering nurse sharks leaving certain cases"
   ]
  },
  {
   "cell_type": "code",
   "execution_count": 86,
   "id": "d15c1560",
   "metadata": {},
   "outputs": [],
   "source": [
    "data[\"Species \"] = [\"wobbegong shark\" if \"wobbegong\" in s and \" or \" not in s and \"/\" not in s else s for s in data['Species ']]\n",
    "#filtering wobbegong shark leaving certain cases"
   ]
  },
  {
   "cell_type": "code",
   "execution_count": 87,
   "id": "dec0bdbd",
   "metadata": {},
   "outputs": [],
   "source": [
    "data[\"Species \"] = [\"mako shark\" if \"mako\" in s and \" or \" not in s and \"/\" not in s else s for s in data['Species ']]\n",
    "#filtering mako shark leaving certain cases"
   ]
  },
  {
   "cell_type": "code",
   "execution_count": 88,
   "id": "98737166",
   "metadata": {},
   "outputs": [],
   "source": [
    "data[\"Species \"] = [\"blacktip shark\" if \"blacktip\" in s and \" or \" not in s and \"/\" not in s else s for s in data['Species ']]\n",
    "#filtering blacktip shark leaving certain cases"
   ]
  },
  {
   "cell_type": "code",
   "execution_count": 89,
   "id": "33a4ebc1",
   "metadata": {},
   "outputs": [],
   "source": [
    "data[\"Species \"] = [\"zambesi shark\" if \"zambesi\" in s and \" or \" not in s and \"/\" not in s else s for s in data['Species ']]\n",
    "#filtering zambesi shark leaving certain cases"
   ]
  },
  {
   "cell_type": "code",
   "execution_count": 90,
   "id": "a3abfc47",
   "metadata": {},
   "outputs": [],
   "source": [
    "data[\"Species \"] = [\"hammerhead shark\" if \"hammerhead\" in s and \" or \" not in s and \"/\" not in s else s for s in data['Species ']]\n",
    "#filtering hammerhead shark leaving certain cases"
   ]
  },
  {
   "cell_type": "code",
   "execution_count": 91,
   "id": "6c9829f4",
   "metadata": {},
   "outputs": [],
   "source": [
    "data[\"Species \"] = [\"sand shark\" if \"sand\" in s and \" or \" not in s and \"/\" not in s else s for s in data['Species ']]\n",
    "#filtering sand shark leaving certain cases"
   ]
  },
  {
   "cell_type": "code",
   "execution_count": 92,
   "id": "cbcaa0db",
   "metadata": {},
   "outputs": [],
   "source": [
    "data[\"Species \"] = [\"spinner shark\" if \"spinner\" in s and \" or \" not in s and \"/\" not in s else s for s in data['Species ']]\n",
    "#filtering spinner shark leaving certain cases"
   ]
  },
  {
   "cell_type": "code",
   "execution_count": 93,
   "id": "23ce7e97",
   "metadata": {},
   "outputs": [],
   "source": [
    "data[\"Species \"] = [\"basking shark\" if \"basking\" in s and \" or \" not in s and \"/\" not in s else s for s in data['Species ']]\n",
    "#filtering basking shark leaving certain cases"
   ]
  },
  {
   "cell_type": "code",
   "execution_count": 94,
   "id": "c9b680b7",
   "metadata": {},
   "outputs": [],
   "source": [
    "data[\"Species \"] = [\"galapagos shark\" if \"galapagos\" in s and \" or \" not in s and \"/\" not in s else s for s in data['Species ']]\n",
    "#filtering galapagos shark leaving certain cases"
   ]
  },
  {
   "cell_type": "code",
   "execution_count": 95,
   "id": "aa5d5572",
   "metadata": {},
   "outputs": [],
   "source": [
    "data[\"Species \"] = [\"sevengill shark\" if \"sevengil\" in s and \" or \" not in s and \"/\" not in s else s for s in data['Species ']]\n",
    "#filtering sevengill shark leaving certain cases"
   ]
  },
  {
   "cell_type": "code",
   "execution_count": 96,
   "id": "cff3ec7f",
   "metadata": {},
   "outputs": [],
   "source": [
    "data[\"Species \"] = [\"oceanic whitetip shark\" if \"whitetip\" in s and \" or \" not in s and \"/\" not in s else s for s in data['Species ']]\n",
    "#filtering whitetip leaving certain cases"
   ]
  },
  {
   "cell_type": "code",
   "execution_count": 97,
   "id": "47cc52e7",
   "metadata": {},
   "outputs": [],
   "source": [
    "data[\"Species \"] = [\"copper shark\" if \"copper\" in s or \"m  whaler shark\" in s and \" or \" not in s and \"/\" not in s else s for s in data['Species ']]\n",
    "#filtering copper shark leaving certain cases"
   ]
  },
  {
   "cell_type": "code",
   "execution_count": 98,
   "id": "3976d183",
   "metadata": {},
   "outputs": [],
   "source": [
    "data[\"Species \"] = [\"silky shark\" if \"silky\" in s and \" or \" not in s and \"/\" not in s else s for s in data['Species ']]\n",
    "#filtering silky shark leaving certain cases"
   ]
  },
  {
   "cell_type": "code",
   "execution_count": 99,
   "id": "f3e08795",
   "metadata": {},
   "outputs": [],
   "source": [
    "data[\"Species \"] = [\"porbeagle shark\" if \"porbeagle\" in s and \" or \" not in s and \"/\" not in s else s for s in data['Species ']]\n",
    "#filtering porbeagle shark leaving certain cases"
   ]
  },
  {
   "cell_type": "code",
   "execution_count": 100,
   "id": "4c43fe3e",
   "metadata": {},
   "outputs": [],
   "source": [
    "data[\"Species \"] = [\"cookiecutter shark\" if \"cookiecutter\" in s and \" or \" not in s and \"/\" not in s else s for s in data['Species ']]\n",
    "#filtering cookiecutter shark leaving certain cases"
   ]
  },
  {
   "cell_type": "code",
   "execution_count": 101,
   "id": "0641f0c7",
   "metadata": {},
   "outputs": [],
   "source": [
    "data[\"Species \"] = [\"requiem shark\" if \"requiem\" in s and \" or \" not in s and \"/\" not in s else s for s in data['Species ']]\n",
    "#filtering requiem shark leaving certain cases"
   ]
  },
  {
   "cell_type": "code",
   "execution_count": 102,
   "id": "4a97e65e",
   "metadata": {},
   "outputs": [],
   "source": [
    "data[\"Species \"] = [\"dusky shark\" if \"dusky\" in s and \" or \" not in s and \"/\" not in s else s for s in data['Species ']]\n",
    "#filtering silky shark leaving certain cases"
   ]
  },
  {
   "cell_type": "code",
   "execution_count": 103,
   "id": "ed6173e1",
   "metadata": {},
   "outputs": [],
   "source": [
    "data[\"Species \"] = [\"leopard shark\" if \"leopard\" in s and \" or \" not in s and \"/\" not in s else s for s in data['Species ']]\n",
    "#filtering leopard shark leaving certain cases"
   ]
  },
  {
   "cell_type": "code",
   "execution_count": 104,
   "id": "734da2b1",
   "metadata": {},
   "outputs": [],
   "source": [
    "data[\"Species \"] = [\"dogfish shark\" if \"dog\" in s and \" or \" not in s and \"/\" not in s else s for s in data['Species ']]\n",
    "#filtering dogfish shark leaving certain cases"
   ]
  },
  {
   "cell_type": "code",
   "execution_count": 105,
   "id": "4e25fd20",
   "metadata": {},
   "outputs": [],
   "source": [
    "data[\"Species \"] = [\"reef sharks\" if \"reef\" in s else s for s in data['Species ']]\n",
    "#string method for all reef sharks"
   ]
  },
  {
   "cell_type": "code",
   "execution_count": 106,
   "id": "93622fa5",
   "metadata": {},
   "outputs": [],
   "source": [
    "data[\"Species \"] = [\"shark\" if s == \"lb shark\" else s for s in data['Species ']]\n",
    "#string method for common value lb shark"
   ]
  },
  {
   "cell_type": "code",
   "execution_count": 107,
   "id": "f5823c94",
   "metadata": {},
   "outputs": [],
   "source": [
    "data[\"Species \"] = [\"questionable\" if \"questionable\" in s or \"possibly\" in s or \"thought\" in s or \"involvement\" in s or \"confirmed\" in s or \"doubtful\" in s or \"witness\" in s or \"hoax\" in s or \"authenticated\" in s and \" or \" not in s and \"/\" not in s else s for s in data['Species ']]\n",
    "#filtering everything with the word questionable in it"
   ]
  },
  {
   "cell_type": "code",
   "execution_count": 108,
   "id": "c36ba207",
   "metadata": {},
   "outputs": [],
   "source": [
    "data[['Species ']] = data[['Species ']].replace(r\".*(confirmed).*\",\"shark\", regex= True)\n",
    "#regex to transformed unconfirmed cases to shark"
   ]
  },
  {
   "cell_type": "code",
   "execution_count": 109,
   "id": "aa066906",
   "metadata": {},
   "outputs": [],
   "source": [
    "data[\"Species \"] = [\"shark\" if \"sharks\" in s else s for s in data['Species ']]\n",
    "#string method for common value sharks"
   ]
  },
  {
   "cell_type": "code",
   "execution_count": 110,
   "id": "640b4a87",
   "metadata": {},
   "outputs": [],
   "source": [
    "data[\"Species \"] = [\"shark\" if \"identified\" in s else s for s in data['Species ']]\n",
    "#filtering everything with the unidentified in it"
   ]
  },
  {
   "cell_type": "code",
   "execution_count": 111,
   "id": "f5ca761b",
   "metadata": {},
   "outputs": [],
   "source": [
    "data[['Species ']] = data[['Species ']].replace(r\".*(no shark).*\",\"invalid\", regex= True)\n",
    "#regex to transformed no shark cases to invalid"
   ]
  },
  {
   "cell_type": "code",
   "execution_count": 112,
   "id": "e813c34c",
   "metadata": {},
   "outputs": [],
   "source": [
    "data[\"Species \"] = [\"shark\" if \" m \" in s or \" cm \" in s else s for s in data['Species ']]\n",
    "#string method for common value  m sharks (spaces)"
   ]
  },
  {
   "cell_type": "code",
   "execution_count": 113,
   "id": "105759e2",
   "metadata": {},
   "outputs": [],
   "source": [
    "data[\"Species \"] = [\"invalid\" if len(s)==0 else s for s in data['Species ']]\n",
    "#string method for empty strings"
   ]
  },
  {
   "cell_type": "code",
   "execution_count": 114,
   "id": "28546883",
   "metadata": {},
   "outputs": [],
   "source": [
    "data[\"Species \"] = [\"shark\" if \" or \" in s else s for s in data['Species ']]\n",
    "#string method for several sharks"
   ]
  },
  {
   "cell_type": "code",
   "execution_count": 115,
   "id": "56ff2bc4",
   "metadata": {},
   "outputs": [],
   "source": [
    "rest_of_species = list(data.groupby('Species ').filter(lambda x : len(x)==1).index)\n",
    "#rest of data not captured by conditions"
   ]
  },
  {
   "cell_type": "code",
   "execution_count": 116,
   "id": "62f7f934",
   "metadata": {},
   "outputs": [],
   "source": [
    "for element in rest_of_species:\n",
    "    data.loc[element,\"Species \"] = \"shark\""
   ]
  },
  {
   "cell_type": "code",
   "execution_count": 117,
   "id": "78191a92",
   "metadata": {},
   "outputs": [],
   "source": [
    "data[\"Species \"] = [\"shark\" if \"foot shark\" == s or \"m  greycolored shark\" == s or \"to kg shark\" == s or \"a large shark\" == s or \"m kg shark\" == s or \"kg lb shark\" == s or \"juvenile shark\" == s or \"kg shark\" == s or \"m  lb shark\" == s or \"m  shark seen in vicinity\" == s or \"small shark\" == s else s for s in data['Species ']]\n",
    "#filtering rest of cases"
   ]
  },
  {
   "cell_type": "code",
   "execution_count": 118,
   "id": "523d591b",
   "metadata": {
    "scrolled": true
   },
   "outputs": [
    {
     "data": {
      "text/plain": [
       "shark                1143\n",
       "white shark           657\n",
       "questionable          426\n",
       "tiger shark           274\n",
       "bull shark            171\n",
       "invalid               104\n",
       "blacktip shark         72\n",
       "bronze whaler          63\n",
       "nurse shark            57\n",
       "blue shark             54\n",
       "mako shark             52\n",
       "wobbegong shark        49\n",
       "hammerhead shark       47\n",
       "raggedtooth shark      43\n",
       "grey nurse shark       38\n",
       "lemon shark            34\n",
       "zambesi shark          29\n",
       "sand shark             24\n",
       "spinner shark          20\n",
       "sevengill shark        14\n",
       "dusky shark            12\n",
       "dogfish shark          10\n",
       "copper shark            8\n",
       "galapagos shark         7\n",
       "basking shark           7\n",
       "porbeagle shark         6\n",
       "angel shark             5\n",
       "silky shark             4\n",
       "gill shark              4\n",
       "carpet shark            3\n",
       "goblin shark            2\n",
       "salmon shark            2\n",
       "leopard shark           2\n",
       "silvertip shark         2\n",
       "whale shark             2\n",
       "Name: Species , dtype: int64"
      ]
     },
     "execution_count": 118,
     "metadata": {},
     "output_type": "execute_result"
    }
   ],
   "source": [
    "data[\"Species \"].value_counts()\n",
    "#species organised and filtered"
   ]
  },
  {
   "cell_type": "code",
   "execution_count": 119,
   "id": "3473b292",
   "metadata": {},
   "outputs": [],
   "source": [
    "#######################################################################################################################"
   ]
  },
  {
   "cell_type": "code",
   "execution_count": 120,
   "id": "df0a3fc0",
   "metadata": {},
   "outputs": [
    {
     "data": {
      "text/plain": [
       "Abrasions on right hand & deep laceration on middle finger                                                                                 1\n",
       "Left foot bitten                                                                                                                           1\n",
       "1.5-inch laceration                                                                                                                        1\n",
       "Right upper am, shoulder & back severely  bitten                                                                                           1\n",
       "Right shoulder forarm & wrist bitten                                                                                                       1\n",
       "Both legs severely lacerated                                                                                                               1\n",
       "Minor injury to right calf                                                                                                                 1\n",
       "Groin bitten                                                                                                                               1\n",
       "Forearms lacerated                                                                                                                         1\n",
       "No injury, but her surfboard was bitten                                                                                                    1\n",
       "Probable scavenging. The boy disappeared while at the beach on January 1st. His decomposed shark-bitten body washed ashore January 17th    1\n",
       "Puncture wounds on heel, legs and buttocks                                                                                                 1\n",
       "Arm lacerated (shark made 3 strikes)                                                                                                       1\n",
       "Hand nipped PROVOKED INCIDENT                                                                                                              1\n",
       "Left hand and wrist bitten                                                                                                                 1\n",
       "6-inch gash on right foot                                                                                                                  1\n",
       "Upper arm bitten                                                                                                                           1\n",
       "Lacerated leg & back                                                                                                                       1\n",
       "No Injury, shark hit board                                                                                                                 1\n",
       "No injury. Shark made threat display, then diver shot the shark PROVOKED INCIDENT                                                          1\n",
       "Arm severed, surgically reattached                                                                                                         1\n",
       "No Injury to occupants; shark bumped the boat                                                                                              1\n",
       "2 bites behind knee                                                                                                                        1\n",
       "Back of left hand gashed                                                                                                                   1\n",
       "Cuts on right foot                                                                                                                         1\n",
       "Left buttock & foot  severed                                                                                                               1\n",
       "Left hand injured                                                                                                                          1\n",
       "Head bitten by captive shark PROVOKED INCIDENT                                                                                             1\n",
       "2 lacerations on lower back, punctures on buttock                                                                                          1\n",
       "FATAL or drowning & scavenging                                                                                                             1\n",
       "PROVOKED INCIDENT Several small lacerations on left foot                                                                                   1\n",
       "No injury from shark                                                                                                                       1\n",
       "Lacerations to right forearm & shoulder injured                                                                                            1\n",
       "Lacerations to buttocks & thigh                                                                                                            1\n",
       "Lacerated foot                                                                                                                             1\n",
       "Foot & calf bitten                                                                                                                         1\n",
       "Leg bitten & surgically amputated                                                                                                          1\n",
       "Bruises & minor cuts                                                                                                                       1\n",
       "Stern of kayak bitten/chest bruised                                                                                                        1\n",
       "Heel / foot bitten                                                                                                                         1\n",
       "PRESUMED FATAL, body not recovered                                                                                                         1\n",
       "Several  puncture wounds on lower right leg                                                                                                1\n",
       "Punctures on left foot and foot                                                                                                            1\n",
       "Left leg severed below knee                                                                                                                1\n",
       "Two half-inch lacerations on right heel and one near small toe                                                                             1\n",
       "Drowned, his remains were found in a 3m [10'], 368 kg [811-lb] tiger shark                                                                 1\n",
       "FATAL, torso & leg bitten                                                                                                                  1\n",
       "Laceration to arm.                                                                                                                         1\n",
       "Toothmarks in board & his swim trunks                                                                                                      1\n",
       "FATAL, knocked overboard by tail of shark & carried off by shark                                                                           1\n",
       "Name: Injury, dtype: int64"
      ]
     },
     "execution_count": 120,
     "metadata": {},
     "output_type": "execute_result"
    }
   ],
   "source": [
    "data[\"Injury\"].value_counts().tail(50)"
   ]
  },
  {
   "cell_type": "code",
   "execution_count": 121,
   "id": "a3d3f28f",
   "metadata": {},
   "outputs": [],
   "source": [
    "data[['Injury']] = data[['Injury']].replace(r\"[^a-zA-Z ]\",\"\", regex= True)\n",
    "#regex to delete special characters and numbers"
   ]
  },
  {
   "cell_type": "code",
   "execution_count": 122,
   "id": "c539ace0",
   "metadata": {},
   "outputs": [],
   "source": [
    "data[\"Injury\"] = [s.lower() for s in data['Injury']]\n",
    "#lowercase everything"
   ]
  },
  {
   "cell_type": "code",
   "execution_count": 123,
   "id": "43cb1e04",
   "metadata": {},
   "outputs": [],
   "source": [
    "data[\"Injury\"] = [s.strip() for s in data['Injury']]\n",
    "#string method to delete spaces before and after"
   ]
  },
  {
   "cell_type": "code",
   "execution_count": 124,
   "id": "335a439a",
   "metadata": {},
   "outputs": [],
   "source": [
    "data[\"Injury\"] = [\"laceration\" if \"laceration\" in s or \"lacerated\" in s or \"gash\" in s or \"abrade\" in s else s for s in data['Injury']]\n",
    "#filtering laceration injuries"
   ]
  },
  {
   "cell_type": "code",
   "execution_count": 125,
   "id": "59772876",
   "metadata": {},
   "outputs": [],
   "source": [
    "data[\"Injury\"] = [\"puncture wound\" if \"puncture\" in s else s for s in data['Injury']]\n",
    "#filtering puncture wounds"
   ]
  },
  {
   "cell_type": "code",
   "execution_count": 126,
   "id": "2ba4dc32",
   "metadata": {},
   "outputs": [],
   "source": [
    "data[\"Injury\"] = [\"no injury\" if \"no injury\" in s or \"grazed\" in s else s for s in data['Injury']]\n",
    "#filtering no injury cases"
   ]
  },
  {
   "cell_type": "code",
   "execution_count": 127,
   "id": "ef8a7895",
   "metadata": {},
   "outputs": [],
   "source": [
    "data[\"Injury\"] = [\"minor injury\" if \"minor\" in s or \"bruise\" in s or \"pinch\" in s or \"broken\" in s or \"scrape\" in s or \"abrasion\" in s or \"cut \" in s else s for s in data['Injury']]\n",
    "#filtering minor injury cases"
   ]
  },
  {
   "cell_type": "code",
   "execution_count": 128,
   "id": "d41da213",
   "metadata": {},
   "outputs": [],
   "source": [
    "data[\"Injury\"] = [\"drowning\" if \"drown\" in s else s for s in data['Injury']]\n",
    "#filtering drowning cases"
   ]
  },
  {
   "cell_type": "code",
   "execution_count": 129,
   "id": "c219141b",
   "metadata": {},
   "outputs": [],
   "source": [
    "data[\"Injury\"] = [\"fatal\" if \"fatal\" in s or \"killed\" in s or \"human remains found in shark\" in s else s for s in data['Injury']]\n",
    "#filtering fatal cases"
   ]
  },
  {
   "cell_type": "code",
   "execution_count": 130,
   "id": "42bcb098",
   "metadata": {},
   "outputs": [],
   "source": [
    "data[\"Injury\"] = [\"questionable\" if \"questionable\" in s or \"possibly\" in s or \"thought\" in s or \"involvement\" in s or \"confirmed\" in s or \"doubtful\" in s or \"witness\" in s or \"hoax\" in s or \"authenticated\" in s or \"scanveng\" in s or \"no details\" in s or \"unknown\" in s or \"mortem\" in s else s for s in data['Injury']]\n",
    "#filtering everything with the word questionable in it"
   ]
  },
  {
   "cell_type": "code",
   "execution_count": 131,
   "id": "d17727e0",
   "metadata": {},
   "outputs": [
    {
     "data": {
      "text/plain": [
       "791"
      ]
     },
     "execution_count": 131,
     "metadata": {},
     "output_type": "execute_result"
    }
   ],
   "source": [
    "len(data[\"Injury\"].value_counts().index)"
   ]
  },
  {
   "cell_type": "code",
   "execution_count": 132,
   "id": "aaa460bb",
   "metadata": {},
   "outputs": [
    {
     "data": {
      "text/plain": [
       "laceration           802\n",
       "no injury            600\n",
       "fatal                438\n",
       "minor injury         157\n",
       "puncture wound       114\n",
       "drowning             100\n",
       "questionable          91\n",
       "leg bitten            42\n",
       "foot bitten           41\n",
       "survived              28\n",
       "left foot bitten      26\n",
       "right foot bitten     16\n",
       "thigh bitten          16\n",
       "calf bitten           13\n",
       "right leg bitten      11\n",
       "hand bitten           11\n",
       "left arm bitten       10\n",
       "arm bitten             9\n",
       "ankle bitten           9\n",
       "left calf bitten       8\n",
       "Name: Injury, dtype: int64"
      ]
     },
     "execution_count": 132,
     "metadata": {},
     "output_type": "execute_result"
    }
   ],
   "source": [
    "data[\"Injury\"].value_counts().head(20)"
   ]
  },
  {
   "cell_type": "code",
   "execution_count": 133,
   "id": "c70b4ea1",
   "metadata": {},
   "outputs": [],
   "source": [
    "data[\"Injury\"] = [\"ankle bitten\" if \"ankle\" in s else s for s in data['Injury']]\n",
    "#filtering ankle injuries"
   ]
  },
  {
   "cell_type": "code",
   "execution_count": 134,
   "id": "1265bb67",
   "metadata": {},
   "outputs": [],
   "source": [
    "data[\"Injury\"] = [\"hand bitten\" if \"hand\" in s else s for s in data['Injury']]\n",
    "#filtering hand injuries"
   ]
  },
  {
   "cell_type": "code",
   "execution_count": 135,
   "id": "f3fdc46d",
   "metadata": {},
   "outputs": [],
   "source": [
    "data[\"Injury\"] = [\"wrist bitten\" if \"wrist\" in s else s for s in data['Injury']]\n",
    "#filtering wrist injuries"
   ]
  },
  {
   "cell_type": "code",
   "execution_count": 136,
   "id": "42a1344e",
   "metadata": {},
   "outputs": [],
   "source": [
    "data[\"Injury\"] = [\"fingers bitten\" if \"finger\" in s or \"thumb\" in s else s for s in data['Injury']]\n",
    "#filtering finger injuries"
   ]
  },
  {
   "cell_type": "code",
   "execution_count": 137,
   "id": "483ec979",
   "metadata": {},
   "outputs": [],
   "source": [
    "data[\"Injury\"] = [\"forearm bitten\" if \"forearm\" in s else s for s in data['Injury']]\n",
    "#filtering forearm injuries"
   ]
  },
  {
   "cell_type": "code",
   "execution_count": 138,
   "id": "994ce10d",
   "metadata": {},
   "outputs": [],
   "source": [
    "data[\"Injury\"] = [\"foot bitten\" if \"foot\" in s or \"feet\" in s or \"heel\" in s or \"toes\" in s or \"toe \" in s else s for s in data['Injury']]\n",
    "#filtering feet injuries"
   ]
  },
  {
   "cell_type": "code",
   "execution_count": 139,
   "id": "2ac64a5b",
   "metadata": {},
   "outputs": [],
   "source": [
    "data[\"Injury\"] = [\"calf bitten\" if \"calf\" in s else s for s in data['Injury']]\n",
    "#filtering calf injuries"
   ]
  },
  {
   "cell_type": "code",
   "execution_count": 140,
   "id": "bb29444b",
   "metadata": {},
   "outputs": [],
   "source": [
    "data[\"Injury\"] = [\"hamstring bitten\" if \"hamstring\" in s else s for s in data['Injury']]\n",
    "#filtering hamstring injuries"
   ]
  },
  {
   "cell_type": "code",
   "execution_count": 141,
   "id": "1d6c9c98",
   "metadata": {},
   "outputs": [],
   "source": [
    "data[\"Injury\"] = [\"thigh bitten\" if \"thigh\" in s else s for s in data['Injury']]\n",
    "#filtering thigh injuries"
   ]
  },
  {
   "cell_type": "code",
   "execution_count": 142,
   "id": "d1b2653b",
   "metadata": {},
   "outputs": [],
   "source": [
    "data[\"Injury\"] = [\"leg bitten\" if \"leg\" in s or \"legs\" in s or \"shin \" in s else s for s in data['Injury']]\n",
    "#filtering leg injuries"
   ]
  },
  {
   "cell_type": "code",
   "execution_count": 143,
   "id": "328e24dd",
   "metadata": {},
   "outputs": [],
   "source": [
    "data[\"Injury\"] = [\"knee bitten\" if \"knee\" in s else s for s in data['Injury']]\n",
    "#filtering knee injuries"
   ]
  },
  {
   "cell_type": "code",
   "execution_count": 144,
   "id": "938c27a0",
   "metadata": {},
   "outputs": [],
   "source": [
    "data[\"Injury\"] = [\"shoulder bitten\" if \"shoulder\" in s else s for s in data['Injury']]\n",
    "#filtering shoulder injuries"
   ]
  },
  {
   "cell_type": "code",
   "execution_count": 145,
   "id": "35aeb661",
   "metadata": {},
   "outputs": [],
   "source": [
    "data[\"Injury\"] = [\"arm bitten\" if \"arm\" in s or \"elbow\" in s and \"forearm\" not in s else s for s in data['Injury']]\n",
    "#filtering arm injuries"
   ]
  },
  {
   "cell_type": "code",
   "execution_count": 146,
   "id": "349bdedc",
   "metadata": {},
   "outputs": [],
   "source": [
    "data[\"Injury\"] = [\"buttocks bitten\" if \"buttock\" in s else s for s in data['Injury']]\n",
    "#filtering buttocks injuries"
   ]
  },
  {
   "cell_type": "code",
   "execution_count": 147,
   "id": "ed5c2865",
   "metadata": {},
   "outputs": [],
   "source": [
    "data[\"Injury\"] = [\"torso bitten\" if \"torso\" in s or \"back \" in s or \"abdomen\" in s or \"chest\" in s else s for s in data['Injury']]\n",
    "#filtering torso injuries"
   ]
  },
  {
   "cell_type": "code",
   "execution_count": 148,
   "id": "fc5e99c0",
   "metadata": {},
   "outputs": [],
   "source": [
    "data[\"Injury\"] = [\"head bitten\" if \"head \" in s or \"face \" in s or \"cheek\" in s or \"ear \" in s else s for s in data['Injury']]\n",
    "#filtering head injuries"
   ]
  },
  {
   "cell_type": "code",
   "execution_count": 149,
   "id": "4c3a4812",
   "metadata": {},
   "outputs": [],
   "source": [
    "rest_of_injuries = list(data.groupby('Injury').filter(lambda x : len(x)==1).index)\n",
    "#rest of data not captured by conditions"
   ]
  },
  {
   "cell_type": "code",
   "execution_count": 150,
   "id": "9848a13f",
   "metadata": {},
   "outputs": [],
   "source": [
    "for element in rest_of_injuries:\n",
    "    data.loc[element,\"Injury\"] = \"other\" "
   ]
  },
  {
   "cell_type": "code",
   "execution_count": 151,
   "id": "7d906221",
   "metadata": {},
   "outputs": [],
   "source": [
    "data[\"Injury\"] = [\"other\" if \"injuries\" in s or \"swim fin bitten\" in s or \"provoked\" in s or \"not recovered\" in s else s for s in data['Injury']]\n",
    "#filtering rest of cases"
   ]
  },
  {
   "cell_type": "code",
   "execution_count": 152,
   "id": "8d83e570",
   "metadata": {},
   "outputs": [
    {
     "data": {
      "text/plain": [
       "laceration         802\n",
       "no injury          600\n",
       "fatal              438\n",
       "leg bitten         198\n",
       "foot bitten        176\n",
       "other              175\n",
       "minor injury       157\n",
       "hand bitten        128\n",
       "puncture wound     114\n",
       "arm bitten         114\n",
       "drowning           100\n",
       "questionable        91\n",
       "thigh bitten        84\n",
       "calf bitten         63\n",
       "ankle bitten        57\n",
       "survived            28\n",
       "shoulder bitten     26\n",
       "fingers bitten      21\n",
       "knee bitten         19\n",
       "torso bitten        18\n",
       "head bitten         14\n",
       "wrist bitten        13\n",
       "buttocks bitten     11\n",
       "Name: Injury, dtype: int64"
      ]
     },
     "execution_count": 152,
     "metadata": {},
     "output_type": "execute_result"
    }
   ],
   "source": [
    "data[\"Injury\"].value_counts().head(30)"
   ]
  },
  {
   "cell_type": "code",
   "execution_count": 153,
   "id": "30e166bb",
   "metadata": {},
   "outputs": [],
   "source": [
    "######################################################################################################################3"
   ]
  },
  {
   "cell_type": "code",
   "execution_count": 154,
   "id": "41860887",
   "metadata": {},
   "outputs": [
    {
     "data": {
      "text/plain": [
       "N          2494\n",
       "Y           424\n",
       "UNKNOWN      17\n",
       " N            5\n",
       "M             1\n",
       "2017          1\n",
       "Name: Fatal (Y/N), dtype: int64"
      ]
     },
     "execution_count": 154,
     "metadata": {},
     "output_type": "execute_result"
    }
   ],
   "source": [
    "data[\"Fatal (Y/N)\"].value_counts()"
   ]
  },
  {
   "cell_type": "code",
   "execution_count": 155,
   "id": "b1eea306",
   "metadata": {},
   "outputs": [],
   "source": [
    "data[\"Fatal (Y/N)\"] = [\"N\" if s == \"M\" or s == \" N\" else s for s in data['Fatal (Y/N)']]\n",
    "#string method for N and M cases"
   ]
  },
  {
   "cell_type": "code",
   "execution_count": 156,
   "id": "92d3338d",
   "metadata": {},
   "outputs": [],
   "source": [
    "data[\"Fatal (Y/N)\"] = [\"UNKNOWN\" if s == \"2017\" else s for s in data['Fatal (Y/N)']]\n",
    "#string method to special case 2017"
   ]
  },
  {
   "cell_type": "code",
   "execution_count": 157,
   "id": "8a56c6ae",
   "metadata": {},
   "outputs": [],
   "source": [
    "fatal_nulls_list = list(data[data[\"Fatal (Y/N)\"].isnull()].index)"
   ]
  },
  {
   "cell_type": "code",
   "execution_count": 158,
   "id": "50afda4f",
   "metadata": {},
   "outputs": [],
   "source": [
    "injury_list = list(data[data[\"Injury\"] == \"fatal\"].index)"
   ]
  },
  {
   "cell_type": "code",
   "execution_count": 159,
   "id": "6108ae0c",
   "metadata": {},
   "outputs": [],
   "source": [
    "set_fatal = list(set(fatal_nulls_list) & set(injury_list))"
   ]
  },
  {
   "cell_type": "code",
   "execution_count": 160,
   "id": "fa81d3cc",
   "metadata": {},
   "outputs": [
    {
     "data": {
      "text/plain": [
       "46"
      ]
     },
     "execution_count": 160,
     "metadata": {},
     "output_type": "execute_result"
    }
   ],
   "source": [
    "len(set_fatal)"
   ]
  },
  {
   "cell_type": "code",
   "execution_count": 161,
   "id": "1cfa1815",
   "metadata": {},
   "outputs": [],
   "source": [
    "for i in set_fatal:\n",
    "    data.loc[i,\"Fatal (Y/N)\"] = \"Y\" \n",
    "# we set to Y (Fatal) the nulls where in the other column Injury was equal to fatal"
   ]
  },
  {
   "cell_type": "code",
   "execution_count": 162,
   "id": "ae9113b9",
   "metadata": {},
   "outputs": [
    {
     "data": {
      "text/plain": [
       "459"
      ]
     },
     "execution_count": 162,
     "metadata": {},
     "output_type": "execute_result"
    }
   ],
   "source": [
    "data[\"Fatal (Y/N)\"].isnull().sum()"
   ]
  },
  {
   "cell_type": "code",
   "execution_count": 163,
   "id": "48d2f592",
   "metadata": {},
   "outputs": [],
   "source": [
    "fatal_nulls_list = list(data[data[\"Fatal (Y/N)\"].isnull()].index)"
   ]
  },
  {
   "cell_type": "code",
   "execution_count": 164,
   "id": "2a5ae4dd",
   "metadata": {},
   "outputs": [],
   "source": [
    "injury_list = list(data[(data[\"Injury\"] == \"laceration\") | (data[\"Injury\"] == \"no injury\") | (data[\"Injury\"] == \"leg bitten\")].index)"
   ]
  },
  {
   "cell_type": "code",
   "execution_count": 165,
   "id": "9f016037",
   "metadata": {},
   "outputs": [],
   "source": [
    "set_non_fatal = list(set(fatal_nulls_list) & set(injury_list))"
   ]
  },
  {
   "cell_type": "code",
   "execution_count": 166,
   "id": "b92a9aec",
   "metadata": {},
   "outputs": [],
   "source": [
    "for i in set_non_fatal:\n",
    "    data.loc[i,\"Fatal (Y/N)\"] = \"N\" \n",
    "# we set to N (Non Fatal) the nulls where in the other column Injury was equal to common cases laceration, no injury ,leg bitten"
   ]
  },
  {
   "cell_type": "code",
   "execution_count": 167,
   "id": "f1c11f0c",
   "metadata": {},
   "outputs": [],
   "source": [
    "fatal_nulls_list = list(data[data[\"Fatal (Y/N)\"].isnull()].index)"
   ]
  },
  {
   "cell_type": "code",
   "execution_count": 168,
   "id": "4652a936",
   "metadata": {},
   "outputs": [],
   "source": [
    "injury_list = list(data[(data[\"Injury\"] == \"foot bitten\") | (data[\"Injury\"] == \"other\") | (data[\"Injury\"] == \"minor injury\")].index)"
   ]
  },
  {
   "cell_type": "code",
   "execution_count": 169,
   "id": "7e6e6726",
   "metadata": {},
   "outputs": [],
   "source": [
    "set_non_fatal = list(set(fatal_nulls_list) & set(injury_list))"
   ]
  },
  {
   "cell_type": "code",
   "execution_count": 170,
   "id": "d94976a0",
   "metadata": {},
   "outputs": [],
   "source": [
    "for i in set_non_fatal:\n",
    "    data.loc[i,\"Fatal (Y/N)\"] = \"N\" \n",
    "# we set to N (Non Fatal) the nulls where in the other column Injury was equal to common cases foot bitten, other , minor injury"
   ]
  },
  {
   "cell_type": "code",
   "execution_count": 171,
   "id": "6e435de5",
   "metadata": {},
   "outputs": [],
   "source": [
    "fatal_nulls_list = list(data[data[\"Fatal (Y/N)\"].isnull()].index)"
   ]
  },
  {
   "cell_type": "code",
   "execution_count": 172,
   "id": "b47f64ca",
   "metadata": {},
   "outputs": [],
   "source": [
    "injury_list = list(data[(data[\"Injury\"] == \"hand bitten\") | (data[\"Injury\"] == \"puncture wound\") | (data[\"Injury\"] == \"arm bitten\")].index)"
   ]
  },
  {
   "cell_type": "code",
   "execution_count": 173,
   "id": "9846117a",
   "metadata": {},
   "outputs": [],
   "source": [
    "set_non_fatal = list(set(fatal_nulls_list) & set(injury_list))"
   ]
  },
  {
   "cell_type": "code",
   "execution_count": 174,
   "id": "bfe50395",
   "metadata": {},
   "outputs": [],
   "source": [
    "for i in set_non_fatal:\n",
    "    data.loc[i,\"Fatal (Y/N)\"] = \"N\" \n",
    "# we set to N (Non Fatal) the nulls where in the other column Injury was equal to common cases hand bitten, puncture , arm bitten"
   ]
  },
  {
   "cell_type": "code",
   "execution_count": 175,
   "id": "a48c4853",
   "metadata": {},
   "outputs": [],
   "source": [
    "fatal_nulls_list = list(data[data[\"Fatal (Y/N)\"].isnull()].index)"
   ]
  },
  {
   "cell_type": "code",
   "execution_count": 176,
   "id": "3b597d09",
   "metadata": {},
   "outputs": [],
   "source": [
    "injury_list = list(data[(data[\"Injury\"] == \"calf bitten\") | (data[\"Injury\"] == \"thigh bitten\") | (data[\"Injury\"] == \"ankle bitten\")].index)"
   ]
  },
  {
   "cell_type": "code",
   "execution_count": 177,
   "id": "01f4c11d",
   "metadata": {},
   "outputs": [],
   "source": [
    "set_non_fatal = list(set(fatal_nulls_list) & set(injury_list))"
   ]
  },
  {
   "cell_type": "code",
   "execution_count": 178,
   "id": "bc266db2",
   "metadata": {},
   "outputs": [],
   "source": [
    "for i in set_non_fatal:\n",
    "    data.loc[i,\"Fatal (Y/N)\"] = \"N\" \n",
    "# we set to N (Non Fatal) the nulls where in the other column Injury was equal to common cases thigh, ankle or calf bitten"
   ]
  },
  {
   "cell_type": "code",
   "execution_count": 179,
   "id": "ce20d1fc",
   "metadata": {},
   "outputs": [
    {
     "data": {
      "text/plain": [
       "173"
      ]
     },
     "execution_count": 179,
     "metadata": {},
     "output_type": "execute_result"
    }
   ],
   "source": [
    "data[\"Fatal (Y/N)\"].isnull().sum()"
   ]
  },
  {
   "cell_type": "code",
   "execution_count": 180,
   "id": "4fe1dd31",
   "metadata": {},
   "outputs": [],
   "source": [
    "fatal_nulls_list = list(data[data[\"Fatal (Y/N)\"].isnull()].index)"
   ]
  },
  {
   "cell_type": "code",
   "execution_count": 181,
   "id": "04d72f32",
   "metadata": {},
   "outputs": [],
   "source": [
    "injury_list = list(data[(data[\"Injury\"] == \"drowning\") | (data[\"Injury\"] == \"questionable\")].index)"
   ]
  },
  {
   "cell_type": "code",
   "execution_count": 182,
   "id": "0cced162",
   "metadata": {},
   "outputs": [],
   "source": [
    "set_non_fatal = list(set(fatal_nulls_list) & set(injury_list))"
   ]
  },
  {
   "cell_type": "code",
   "execution_count": 183,
   "id": "91ec162e",
   "metadata": {},
   "outputs": [],
   "source": [
    "for i in set_non_fatal:\n",
    "    data.loc[i,\"Fatal (Y/N)\"] = \"UNKNOWN\" \n",
    "# we set to UNKNOWN cases of drowning and questionable"
   ]
  },
  {
   "cell_type": "code",
   "execution_count": 184,
   "id": "dc093475",
   "metadata": {},
   "outputs": [
    {
     "data": {
      "text/plain": [
       "10"
      ]
     },
     "execution_count": 184,
     "metadata": {},
     "output_type": "execute_result"
    }
   ],
   "source": [
    "data[\"Fatal (Y/N)\"].isnull().sum()\n",
    "#only 10 cases left"
   ]
  },
  {
   "cell_type": "code",
   "execution_count": 185,
   "id": "6c61515c",
   "metadata": {},
   "outputs": [],
   "source": [
    "rest_fatal_cases = list(data[data[\"Fatal (Y/N)\"].isnull()].index)"
   ]
  },
  {
   "cell_type": "code",
   "execution_count": 186,
   "id": "741df697",
   "metadata": {},
   "outputs": [],
   "source": [
    "for i in rest_fatal_cases:\n",
    "    data.loc[i,\"Fatal (Y/N)\"] = \"N\" \n",
    "# we set to N the other cases"
   ]
  },
  {
   "cell_type": "code",
   "execution_count": 187,
   "id": "8db42e94",
   "metadata": {},
   "outputs": [
    {
     "data": {
      "text/plain": [
       "Case Number                  0\n",
       "Date                         0\n",
       "Year                         0\n",
       "Type                         0\n",
       "Country                      0\n",
       "Area                       151\n",
       "Location                   166\n",
       "Activity                   226\n",
       "Name                        93\n",
       "Sex                        313\n",
       "Age                       1257\n",
       "Injury                       0\n",
       "Fatal (Y/N)                  0\n",
       "Time                      1542\n",
       "Species                      0\n",
       "Investigator or Source       0\n",
       "pdf                          0\n",
       "href formula                 0\n",
       "href                         0\n",
       "Case Number.1                0\n",
       "Case Number.2                0\n",
       "original order               0\n",
       "Unnamed: 22               3447\n",
       "Unnamed: 23               3446\n",
       "dtype: int64"
      ]
     },
     "execution_count": 187,
     "metadata": {},
     "output_type": "execute_result"
    }
   ],
   "source": [
    "data.isnull().sum()"
   ]
  },
  {
   "cell_type": "code",
   "execution_count": 188,
   "id": "1a372a12",
   "metadata": {},
   "outputs": [
    {
     "data": {
      "text/plain": [
       "(3447, 24)"
      ]
     },
     "execution_count": 188,
     "metadata": {},
     "output_type": "execute_result"
    }
   ],
   "source": [
    "data.shape"
   ]
  },
  {
   "cell_type": "code",
   "execution_count": 189,
   "id": "9164ead5",
   "metadata": {},
   "outputs": [],
   "source": [
    "import pylab as plt"
   ]
  },
  {
   "cell_type": "code",
   "execution_count": 190,
   "id": "69828e2c",
   "metadata": {},
   "outputs": [
    {
     "data": {
      "text/plain": [
       "<AxesSubplot:>"
      ]
     },
     "execution_count": 190,
     "metadata": {},
     "output_type": "execute_result"
    },
    {
     "data": {
      "image/png": "[encoded data removed]",
      "text/plain": [
       "<Figure size 1440x720 with 1 Axes>"
      ]
     },
     "metadata": {
      "needs_background": "light"
     },
     "output_type": "display_data"
    }
   ],
   "source": [
    "data.Injury.value_counts().plot.bar(figsize= (20,10))"
   ]
  },
  {
   "cell_type": "code",
   "execution_count": 191,
   "id": "490bab66",
   "metadata": {},
   "outputs": [
    {
     "data": {
      "text/plain": [
       "<AxesSubplot:ylabel='Fatal (Y/N)'>"
      ]
     },
     "execution_count": 191,
     "metadata": {},
     "output_type": "execute_result"
    },
    {
     "data": {
      "image/png": "[encoded data removed]",
      "text/plain": [
       "<Figure size 1080x1080 with 1 Axes>"
      ]
     },
     "metadata": {},
     "output_type": "display_data"
    }
   ],
   "source": [
    "data[\"Fatal (Y/N)\"].value_counts().plot.pie(figsize= (15,15))"
   ]
  },
  {
   "cell_type": "code",
   "execution_count": 198,
   "id": "15be1ba3",
   "metadata": {},
   "outputs": [
    {
     "data": {
      "text/plain": [
       "shark                1143\n",
       "white shark           657\n",
       "questionable          426\n",
       "tiger shark           274\n",
       "bull shark            171\n",
       "invalid               104\n",
       "blacktip shark         72\n",
       "bronze whaler          63\n",
       "nurse shark            57\n",
       "blue shark             54\n",
       "mako shark             52\n",
       "wobbegong shark        49\n",
       "hammerhead shark       47\n",
       "raggedtooth shark      43\n",
       "grey nurse shark       38\n",
       "lemon shark            34\n",
       "zambesi shark          29\n",
       "sand shark             24\n",
       "spinner shark          20\n",
       "sevengill shark        14\n",
       "dusky shark            12\n",
       "dogfish shark          10\n",
       "copper shark            8\n",
       "galapagos shark         7\n",
       "basking shark           7\n",
       "porbeagle shark         6\n",
       "angel shark             5\n",
       "silky shark             4\n",
       "gill shark              4\n",
       "carpet shark            3\n",
       "goblin shark            2\n",
       "salmon shark            2\n",
       "leopard shark           2\n",
       "silvertip shark         2\n",
       "whale shark             2\n",
       "Name: Species , dtype: int64"
      ]
     },
     "execution_count": 198,
     "metadata": {},
     "output_type": "execute_result"
    }
   ],
   "source": [
    "data[\"Species \"].value_counts()"
   ]
  },
  {
   "cell_type": "code",
   "execution_count": 201,
   "id": "dba006ca",
   "metadata": {},
   "outputs": [
    {
     "data": {
      "text/plain": [
       "<AxesSubplot:>"
      ]
     },
     "execution_count": 201,
     "metadata": {},
     "output_type": "execute_result"
    },
    {
     "data": {
      "image/png": "[encoded data removed]",
      "text/plain": [
       "<Figure size 1080x1080 with 1 Axes>"
      ]
     },
     "metadata": {
      "needs_background": "light"
     },
     "output_type": "display_data"
    }
   ],
   "source": [
    "data[\"Species \"].value_counts().head(15).plot.bar(figsize= (15,15))"
   ]
  },
  {
   "cell_type": "code",
   "execution_count": 203,
   "id": "53e484f7",
   "metadata": {},
   "outputs": [
    {
     "data": {
      "text/plain": [
       "<AxesSubplot:ylabel='Type'>"
      ]
     },
     "execution_count": 203,
     "metadata": {},
     "output_type": "execute_result"
    },
    {
     "data": {
      "image/png": "[encoded data removed]",
      "text/plain": [
       "<Figure size 1080x1080 with 1 Axes>"
      ]
     },
     "metadata": {},
     "output_type": "display_data"
    }
   ],
   "source": [
    "data[\"Type\"].value_counts().plot.pie(figsize= (15,15))"
   ]
  },
  {
   "cell_type": "code",
   "execution_count": 213,
   "id": "990b3201",
   "metadata": {},
   "outputs": [],
   "source": [
    "for i in list(data.loc[(data[\"Type\"] == \"Boat\")].index):\n",
    "    data.loc[i,\"Type\"] = \"Boating\"\n",
    "\n",
    "#consolidate boat and boating for a better graph"
   ]
  },
  {
   "cell_type": "code",
   "execution_count": 215,
   "id": "adeff82b",
   "metadata": {},
   "outputs": [],
   "source": [
    "for i in list(data.loc[(data[\"Type\"] == \"Questionable\")].index):\n",
    "    data.loc[i,\"Type\"] = \"Invalid\"\n",
    "\n",
    "#transformed questionable into invalids    "
   ]
  },
  {
   "cell_type": "code",
   "execution_count": 216,
   "id": "06aa48f7",
   "metadata": {},
   "outputs": [
    {
     "data": {
      "text/plain": [
       "Unprovoked      2239\n",
       "Invalid          517\n",
       "Provoked         410\n",
       "Boating          248\n",
       "Sea Disaster      33\n",
       "Name: Type, dtype: int64"
      ]
     },
     "execution_count": 216,
     "metadata": {},
     "output_type": "execute_result"
    }
   ],
   "source": [
    "data[\"Type\"].value_counts()"
   ]
  },
  {
   "cell_type": "code",
   "execution_count": 217,
   "id": "b377eb24",
   "metadata": {},
   "outputs": [
    {
     "data": {
      "text/plain": [
       "<AxesSubplot:ylabel='Type'>"
      ]
     },
     "execution_count": 217,
     "metadata": {},
     "output_type": "execute_result"
    },
    {
     "data": {
      "image/png": "[encoded data removed]",
      "text/plain": [
       "<Figure size 1080x1080 with 1 Axes>"
      ]
     },
     "metadata": {},
     "output_type": "display_data"
    }
   ],
   "source": [
    "data[\"Type\"].value_counts().plot.pie(figsize= (15,15))"
   ]
  },
  {
   "cell_type": "code",
   "execution_count": null,
   "id": "7b23aa7a",
   "metadata": {},
   "outputs": [],
   "source": []
  }
 ],
 "metadata": {
  "kernelspec": {
   "display_name": "Python 3 (ipykernel)",
   "language": "python",
   "name": "python3"
  },
  "language_info": {
   "codemirror_mode": {
    "name": "ipython",
    "version": 3
   },
   "file_extension": ".py",
   "mimetype": "text/x-python",
   "name": "python",
   "nbconvert_exporter": "python",
   "pygments_lexer": "ipython3",
   "version": "3.8.13"
  }
 },
 "nbformat": 4,
 "nbformat_minor": 5
}
